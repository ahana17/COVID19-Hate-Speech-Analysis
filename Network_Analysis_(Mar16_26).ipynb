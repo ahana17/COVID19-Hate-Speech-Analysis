{
  "nbformat": 4,
  "nbformat_minor": 0,
  "metadata": {
    "colab": {
      "name": "Network_Analysis (Mar16-26).ipynb",
      "provenance": [],
      "collapsed_sections": []
    },
    "kernelspec": {
      "name": "python3",
      "display_name": "Python 3"
    },
    "language_info": {
      "name": "python"
    }
  },
  "cells": [
    {
      "cell_type": "code",
      "metadata": {
        "colab": {
          "base_uri": "https://localhost:8080/"
        },
        "id": "yqO516tu6mlI",
        "outputId": "35805dda-29d8-4071-8e77-98bdabdee03f"
      },
      "source": [
        "import pandas as pd\n",
        "import csv\n",
        "import numpy as np\n",
        "import os\n",
        "import pymongo\n",
        "import glob\n",
        "import time\n",
        "import sys\n",
        "import datetime\n",
        "import calendar\n",
        "import tweepy\n",
        "from multiprocessing import Pool\n",
        "import threading\n",
        "import re\n",
        "import json\n",
        "import pickle\n",
        "import ast\n",
        "\n",
        "\n",
        "from google.colab import drive\n",
        "drive.mount(\"/content/drive\")"
      ],
      "execution_count": null,
      "outputs": [
        {
          "output_type": "stream",
          "name": "stdout",
          "text": [
            "Mounted at /content/drive\n"
          ]
        }
      ]
    },
    {
      "cell_type": "code",
      "metadata": {
        "id": "0FBxIFxq7J-Z"
      },
      "source": [
        "import sys\n",
        "import csv\n",
        "maxInt = sys.maxsize\n",
        "\n",
        "while True:\n",
        "    # decrease the maxInt value by factor 10 \n",
        "    # as long as the OverflowError occurs.\n",
        "\n",
        "    try:\n",
        "        csv.field_size_limit(maxInt)\n",
        "        break\n",
        "    except OverflowError:\n",
        "        maxInt = int(maxInt/10)\n"
      ],
      "execution_count": null,
      "outputs": []
    },
    {
      "cell_type": "markdown",
      "source": [
        "A. Connectivity"
      ],
      "metadata": {
        "id": "wHlOmdHKiOFD"
      }
    },
    {
      "cell_type": "markdown",
      "metadata": {
        "id": "tdOFq_TKTv7Z"
      },
      "source": [
        "1. Hate Users "
      ]
    },
    {
      "cell_type": "code",
      "metadata": {
        "colab": {
          "base_uri": "https://localhost:8080/"
        },
        "id": "rUCRTNL6YHsG",
        "outputId": "4ef0945b-f939-4e1a-f38d-f4ad783f2374"
      },
      "source": [
        "with open(\"/content/drive/MyDrive/List2_Mar_16-26.csv\", mode='r') as inp:\n",
        "    reader = csv.reader(inp)\n",
        "    D = {rows[0]:rows[1] for rows in reader}\n",
        "\n",
        "for i in range(len(D)): # len(D)\n",
        "  D[list(D.keys())[i]] = ast.literal_eval(list(D.values())[i])      \n",
        "print(D)"
      ],
      "execution_count": null,
      "outputs": [
        {
          "output_type": "stream",
          "name": "stderr",
          "text": [
            "IOPub data rate exceeded.\n",
            "The notebook server will temporarily stop sending output\n",
            "to the client in order to avoid crashing it.\n",
            "To change this limit, set the config variable\n",
            "`--NotebookApp.iopub_data_rate_limit`.\n",
            "\n",
            "Current values:\n",
            "NotebookApp.iopub_data_rate_limit=1000000.0 (bytes/sec)\n",
            "NotebookApp.rate_limit_window=3.0 (secs)\n",
            "\n"
          ]
        }
      ]
    },
    {
      "cell_type": "code",
      "metadata": {
        "id": "jANBQQnLYWYl"
      },
      "source": [
        "f = open(\"/content/drive/MyDrive/Users_Mar_16-26.json\",)\n",
        "users = json.load(f)\n",
        "users   "
      ],
      "execution_count": null,
      "outputs": []
    },
    {
      "cell_type": "code",
      "metadata": {
        "colab": {
          "base_uri": "https://localhost:8080/"
        },
        "id": "8_q2uU-yY2vY",
        "outputId": "b8b5bcd2-1340-4828-b3c3-b5cc29cd05f4"
      },
      "source": [
        "len(D)"
      ],
      "execution_count": null,
      "outputs": [
        {
          "output_type": "execute_result",
          "data": {
            "text/plain": [
              "1183"
            ]
          },
          "metadata": {},
          "execution_count": 6
        }
      ]
    },
    {
      "cell_type": "code",
      "metadata": {
        "id": "jTQE3AFKZgjI"
      },
      "source": [
        "friends = {}\n",
        "\n",
        "for i in range(len(D)):\n",
        "  if list(D.keys())[i] not in friends:\n",
        "    friends[list(D.keys())[i]] = []\n",
        "\n",
        "  for j in range(len(list(D.values())[i])):\n",
        "    if list(D.values())[i][j] in users:\n",
        "      friends[list(D.keys())[i]].append(list(D.values())[i][j])\n",
        "\n",
        "  if friends[list(D.keys())[i]] == []:\n",
        "    friends.pop(list(D.keys())[i], None)    \n"
      ],
      "execution_count": null,
      "outputs": []
    },
    {
      "cell_type": "code",
      "metadata": {
        "colab": {
          "base_uri": "https://localhost:8080/"
        },
        "id": "L_e4cD5Od9lB",
        "outputId": "18801037-73db-4a6d-ff6b-d49a7e845c55"
      },
      "source": [
        "len(friends)"
      ],
      "execution_count": null,
      "outputs": [
        {
          "output_type": "execute_result",
          "data": {
            "text/plain": [
              "93"
            ]
          },
          "metadata": {},
          "execution_count": 18
        }
      ]
    },
    {
      "cell_type": "code",
      "metadata": {
        "id": "j6OnzWYLZgv9"
      },
      "source": [
        "import networkx as nx\n",
        "import matplotlib.pyplot as plt\n",
        "\n",
        "g = nx.DiGraph()\n",
        "g.add_nodes_from(friends.keys())\n",
        "\n",
        "for k, v in friends.items():\n",
        "    g.add_edges_from(([(k, t) for t in v]))\n",
        "\n",
        "g.remove_edges_from(nx.selfloop_edges(g))\n"
      ],
      "execution_count": null,
      "outputs": []
    },
    {
      "cell_type": "code",
      "metadata": {
        "colab": {
          "base_uri": "https://localhost:8080/",
          "height": 17
        },
        "id": "VWCHrdqqfgHv",
        "outputId": "35434b5f-5411-4e6f-e0be-b68a73582cf9"
      },
      "source": [
        "from google.colab import files\n",
        "nx.write_gexf(g, \"co1.gexf\")\n",
        "files.download(\"co1.gexf\")"
      ],
      "execution_count": null,
      "outputs": [
        {
          "output_type": "display_data",
          "data": {
            "application/javascript": [
              "\n",
              "    async function download(id, filename, size) {\n",
              "      if (!google.colab.kernel.accessAllowed) {\n",
              "        return;\n",
              "      }\n",
              "      const div = document.createElement('div');\n",
              "      const label = document.createElement('label');\n",
              "      label.textContent = `Downloading \"${filename}\": `;\n",
              "      div.appendChild(label);\n",
              "      const progress = document.createElement('progress');\n",
              "      progress.max = size;\n",
              "      div.appendChild(progress);\n",
              "      document.body.appendChild(div);\n",
              "\n",
              "      const buffers = [];\n",
              "      let downloaded = 0;\n",
              "\n",
              "      const channel = await google.colab.kernel.comms.open(id);\n",
              "      // Send a message to notify the kernel that we're ready.\n",
              "      channel.send({})\n",
              "\n",
              "      for await (const message of channel.messages) {\n",
              "        // Send a message to notify the kernel that we're ready.\n",
              "        channel.send({})\n",
              "        if (message.buffers) {\n",
              "          for (const buffer of message.buffers) {\n",
              "            buffers.push(buffer);\n",
              "            downloaded += buffer.byteLength;\n",
              "            progress.value = downloaded;\n",
              "          }\n",
              "        }\n",
              "      }\n",
              "      const blob = new Blob(buffers, {type: 'application/binary'});\n",
              "      const a = document.createElement('a');\n",
              "      a.href = window.URL.createObjectURL(blob);\n",
              "      a.download = filename;\n",
              "      div.appendChild(a);\n",
              "      a.click();\n",
              "      div.remove();\n",
              "    }\n",
              "  "
            ],
            "text/plain": [
              "<IPython.core.display.Javascript object>"
            ]
          },
          "metadata": {}
        },
        {
          "output_type": "display_data",
          "data": {
            "application/javascript": [
              "download(\"download_ad750ba3-971c-4e5e-adc9-095ae63506d6\", \"co1.gexf\", 28430)"
            ],
            "text/plain": [
              "<IPython.core.display.Javascript object>"
            ]
          },
          "metadata": {}
        }
      ]
    },
    {
      "cell_type": "markdown",
      "metadata": {
        "id": "YHvuniACT2ha"
      },
      "source": [
        "2. Mild Hate Users "
      ]
    },
    {
      "cell_type": "code",
      "metadata": {
        "colab": {
          "base_uri": "https://localhost:8080/"
        },
        "id": "cVVX2dEtT1wo",
        "outputId": "9eb6bdf8-8c46-4d26-909f-b0dc30c8302c"
      },
      "source": [
        "with open(\"/content/drive/MyDrive/List3_Mar_16-26.csv\", mode='r') as inp:\n",
        "    reader = csv.reader(inp)\n",
        "    D = {rows[0]:rows[1] for rows in reader}\n",
        "\n",
        "for i in range(len(D)): # len(D)\n",
        "  D[list(D.keys())[i]] = ast.literal_eval(list(D.values())[i])      \n",
        "print(D)"
      ],
      "execution_count": null,
      "outputs": [
        {
          "output_type": "stream",
          "name": "stderr",
          "text": [
            "IOPub data rate exceeded.\n",
            "The notebook server will temporarily stop sending output\n",
            "to the client in order to avoid crashing it.\n",
            "To change this limit, set the config variable\n",
            "`--NotebookApp.iopub_data_rate_limit`.\n",
            "\n",
            "Current values:\n",
            "NotebookApp.iopub_data_rate_limit=1000000.0 (bytes/sec)\n",
            "NotebookApp.rate_limit_window=3.0 (secs)\n",
            "\n"
          ]
        }
      ]
    },
    {
      "cell_type": "code",
      "metadata": {
        "id": "3bljsjH-UD9v"
      },
      "source": [
        "f = open(\"/content/drive/MyDrive/Rand_Mar_16-26.json\",)\n",
        "users = json.load(f)\n",
        "users   "
      ],
      "execution_count": null,
      "outputs": []
    },
    {
      "cell_type": "code",
      "metadata": {
        "colab": {
          "base_uri": "https://localhost:8080/"
        },
        "id": "sC9Q-maMUD_0",
        "outputId": "b030e953-3ac9-493d-a89f-ca29e73e3be0"
      },
      "source": [
        "len(D)"
      ],
      "execution_count": null,
      "outputs": [
        {
          "output_type": "execute_result",
          "data": {
            "text/plain": [
              "1183"
            ]
          },
          "metadata": {},
          "execution_count": 6
        }
      ]
    },
    {
      "cell_type": "code",
      "metadata": {
        "id": "55T_mE4qUEDa"
      },
      "source": [
        "friends = {}\n",
        "\n",
        "for i in range(len(D)):\n",
        "  if list(D.keys())[i] not in friends:\n",
        "    friends[list(D.keys())[i]] = []\n",
        "\n",
        "  for j in range(len(list(D.values())[i])):\n",
        "    if list(D.values())[i][j] in users:\n",
        "      friends[list(D.keys())[i]].append(list(D.values())[i][j])\n",
        "\n",
        "  if friends[list(D.keys())[i]] == []:\n",
        "    friends.pop(list(D.keys())[i], None)     \n",
        "\n",
        "friends"
      ],
      "execution_count": null,
      "outputs": []
    },
    {
      "cell_type": "code",
      "metadata": {
        "colab": {
          "base_uri": "https://localhost:8080/"
        },
        "id": "VmgzDBg-UEGe",
        "outputId": "de3299f8-fbcf-4d39-a807-65abec0b89bc"
      },
      "source": [
        "len(friends)"
      ],
      "execution_count": null,
      "outputs": [
        {
          "output_type": "execute_result",
          "data": {
            "text/plain": [
              "312"
            ]
          },
          "metadata": {},
          "execution_count": 13
        }
      ]
    },
    {
      "cell_type": "code",
      "metadata": {
        "id": "Pt2Q1SeCUQcL"
      },
      "source": [
        "import networkx as nx\n",
        "import matplotlib.pyplot as plt\n",
        "\n",
        "g = nx.DiGraph()\n",
        "g.add_nodes_from(friends.keys())\n",
        "\n",
        "for k, v in friends.items():\n",
        "    g.add_edges_from(([(k, t) for t in v]))\n",
        "g.remove_edges_from(nx.selfloop_edges(g))\n",
        "\n",
        "nx.draw_spectral(g,with_labels=False)\n",
        "plt.draw()\n",
        "plt.show()    "
      ],
      "execution_count": null,
      "outputs": []
    },
    {
      "cell_type": "code",
      "metadata": {
        "colab": {
          "base_uri": "https://localhost:8080/",
          "height": 17
        },
        "id": "fTNgDHUXUUlu",
        "outputId": "0cb3f83b-0053-4263-b78a-00b539eb0c29"
      },
      "source": [
        "from google.colab import files\n",
        "nx.write_gexf(g, \"co2.gexf\")\n",
        "files.download(\"co2.gexf\")"
      ],
      "execution_count": null,
      "outputs": [
        {
          "output_type": "display_data",
          "data": {
            "application/javascript": [
              "\n",
              "    async function download(id, filename, size) {\n",
              "      if (!google.colab.kernel.accessAllowed) {\n",
              "        return;\n",
              "      }\n",
              "      const div = document.createElement('div');\n",
              "      const label = document.createElement('label');\n",
              "      label.textContent = `Downloading \"${filename}\": `;\n",
              "      div.appendChild(label);\n",
              "      const progress = document.createElement('progress');\n",
              "      progress.max = size;\n",
              "      div.appendChild(progress);\n",
              "      document.body.appendChild(div);\n",
              "\n",
              "      const buffers = [];\n",
              "      let downloaded = 0;\n",
              "\n",
              "      const channel = await google.colab.kernel.comms.open(id);\n",
              "      // Send a message to notify the kernel that we're ready.\n",
              "      channel.send({})\n",
              "\n",
              "      for await (const message of channel.messages) {\n",
              "        // Send a message to notify the kernel that we're ready.\n",
              "        channel.send({})\n",
              "        if (message.buffers) {\n",
              "          for (const buffer of message.buffers) {\n",
              "            buffers.push(buffer);\n",
              "            downloaded += buffer.byteLength;\n",
              "            progress.value = downloaded;\n",
              "          }\n",
              "        }\n",
              "      }\n",
              "      const blob = new Blob(buffers, {type: 'application/binary'});\n",
              "      const a = document.createElement('a');\n",
              "      a.href = window.URL.createObjectURL(blob);\n",
              "      a.download = filename;\n",
              "      div.appendChild(a);\n",
              "      a.click();\n",
              "      div.remove();\n",
              "    }\n",
              "  "
            ],
            "text/plain": [
              "<IPython.core.display.Javascript object>"
            ]
          },
          "metadata": {}
        },
        {
          "output_type": "display_data",
          "data": {
            "application/javascript": [
              "download(\"download_f19e2f1c-1ddb-4858-9d5b-938ed3f2f013\", \"co2.gexf\", 74541)"
            ],
            "text/plain": [
              "<IPython.core.display.Javascript object>"
            ]
          },
          "metadata": {}
        }
      ]
    },
    {
      "cell_type": "markdown",
      "source": [
        "3. Non Hate Users"
      ],
      "metadata": {
        "id": "oo1mVkIrU1Ey"
      }
    },
    {
      "cell_type": "code",
      "source": [
        "with open(\"/content/drive/MyDrive/List4_Mar_16-26.csv\", mode='r') as inp:\n",
        "    reader = csv.reader(inp)\n",
        "    D = {rows[0]:rows[1] for rows in reader}\n",
        "\n",
        "for i in range(len(D)): # len(D)\n",
        "  D[list(D.keys())[i]] = ast.literal_eval(list(D.values())[i])      \n",
        "print(D)"
      ],
      "metadata": {
        "colab": {
          "base_uri": "https://localhost:8080/"
        },
        "id": "lM82YLc_U5LV",
        "outputId": "997d89e7-84e5-4527-ffb7-d29f98b7d513"
      },
      "execution_count": null,
      "outputs": [
        {
          "output_type": "stream",
          "name": "stderr",
          "text": [
            "IOPub data rate exceeded.\n",
            "The notebook server will temporarily stop sending output\n",
            "to the client in order to avoid crashing it.\n",
            "To change this limit, set the config variable\n",
            "`--NotebookApp.iopub_data_rate_limit`.\n",
            "\n",
            "Current values:\n",
            "NotebookApp.iopub_data_rate_limit=1000000.0 (bytes/sec)\n",
            "NotebookApp.rate_limit_window=3.0 (secs)\n",
            "\n"
          ]
        }
      ]
    },
    {
      "cell_type": "code",
      "source": [
        "len(D)"
      ],
      "metadata": {
        "colab": {
          "base_uri": "https://localhost:8080/"
        },
        "id": "b_p2jd8vU5OU",
        "outputId": "801a291d-a8a2-4115-a7c2-025751061abf"
      },
      "execution_count": null,
      "outputs": [
        {
          "output_type": "execute_result",
          "data": {
            "text/plain": [
              "1183"
            ]
          },
          "metadata": {},
          "execution_count": 5
        }
      ]
    },
    {
      "cell_type": "code",
      "source": [
        "f = open(\"/content/drive/MyDrive/Unhate_Mar_16-26.json\",)\n",
        "users = json.load(f)\n",
        "users "
      ],
      "metadata": {
        "id": "q1RY9jCCWQIF"
      },
      "execution_count": null,
      "outputs": []
    },
    {
      "cell_type": "code",
      "source": [
        "friends = {}\n",
        "\n",
        "for i in range(len(D)):\n",
        "  if list(D.keys())[i] not in friends:\n",
        "    friends[list(D.keys())[i]] = []\n",
        "\n",
        "  for j in range(len(list(D.values())[i])):\n",
        "    if list(D.values())[i][j] in users:\n",
        "      friends[list(D.keys())[i]].append(list(D.values())[i][j])\n",
        "\n",
        "  if friends[list(D.keys())[i]] == []:\n",
        "    friends.pop(list(D.keys())[i], None)     \n",
        "\n",
        "friends"
      ],
      "metadata": {
        "id": "sbc4_01mVLV8"
      },
      "execution_count": null,
      "outputs": []
    },
    {
      "cell_type": "code",
      "source": [
        "len(friends)"
      ],
      "metadata": {
        "colab": {
          "base_uri": "https://localhost:8080/"
        },
        "id": "LKjzqYJ_VLXl",
        "outputId": "26d7cc6e-eecb-4e7e-e85c-9a4913ceb9a4"
      },
      "execution_count": null,
      "outputs": [
        {
          "output_type": "execute_result",
          "data": {
            "text/plain": [
              "246"
            ]
          },
          "metadata": {},
          "execution_count": 31
        }
      ]
    },
    {
      "cell_type": "code",
      "source": [
        "import networkx as nx\n",
        "import matplotlib.pyplot as plt\n",
        "\n",
        "g = nx.DiGraph()\n",
        "g.add_nodes_from(friends.keys())\n",
        "\n",
        "for k, v in friends.items():\n",
        "    g.add_edges_from(([(k, t) for t in v]))\n",
        "g.remove_edges_from(nx.selfloop_edges(g))\n",
        "\n",
        "nx.draw_spectral(g,with_labels=False)\n",
        "plt.draw()\n",
        "plt.show()    "
      ],
      "metadata": {
        "id": "9vTpaVtDVLbo"
      },
      "execution_count": null,
      "outputs": []
    },
    {
      "cell_type": "code",
      "source": [
        "from google.colab import files\n",
        "nx.write_gexf(g, \"co3.gexf\")\n",
        "files.download(\"co3.gexf\")"
      ],
      "metadata": {
        "colab": {
          "base_uri": "https://localhost:8080/",
          "height": 17
        },
        "id": "SDl5CkFhU5bX",
        "outputId": "bf66e12b-953d-4a15-c835-300f589be3d6"
      },
      "execution_count": null,
      "outputs": [
        {
          "output_type": "display_data",
          "data": {
            "application/javascript": [
              "\n",
              "    async function download(id, filename, size) {\n",
              "      if (!google.colab.kernel.accessAllowed) {\n",
              "        return;\n",
              "      }\n",
              "      const div = document.createElement('div');\n",
              "      const label = document.createElement('label');\n",
              "      label.textContent = `Downloading \"${filename}\": `;\n",
              "      div.appendChild(label);\n",
              "      const progress = document.createElement('progress');\n",
              "      progress.max = size;\n",
              "      div.appendChild(progress);\n",
              "      document.body.appendChild(div);\n",
              "\n",
              "      const buffers = [];\n",
              "      let downloaded = 0;\n",
              "\n",
              "      const channel = await google.colab.kernel.comms.open(id);\n",
              "      // Send a message to notify the kernel that we're ready.\n",
              "      channel.send({})\n",
              "\n",
              "      for await (const message of channel.messages) {\n",
              "        // Send a message to notify the kernel that we're ready.\n",
              "        channel.send({})\n",
              "        if (message.buffers) {\n",
              "          for (const buffer of message.buffers) {\n",
              "            buffers.push(buffer);\n",
              "            downloaded += buffer.byteLength;\n",
              "            progress.value = downloaded;\n",
              "          }\n",
              "        }\n",
              "      }\n",
              "      const blob = new Blob(buffers, {type: 'application/binary'});\n",
              "      const a = document.createElement('a');\n",
              "      a.href = window.URL.createObjectURL(blob);\n",
              "      a.download = filename;\n",
              "      div.appendChild(a);\n",
              "      a.click();\n",
              "      div.remove();\n",
              "    }\n",
              "  "
            ],
            "text/plain": [
              "<IPython.core.display.Javascript object>"
            ]
          },
          "metadata": {}
        },
        {
          "output_type": "display_data",
          "data": {
            "application/javascript": [
              "download(\"download_57320e06-9ec7-4c46-92d2-f0c4080ebb9a\", \"co3.gexf\", 51157)"
            ],
            "text/plain": [
              "<IPython.core.display.Javascript object>"
            ]
          },
          "metadata": {}
        }
      ]
    },
    {
      "cell_type": "code",
      "source": [
        "with open(\"/content/drive/MyDrive/List4_Mar_16-26.csv\", mode='r') as inp:\n",
        "    reader = csv.reader(inp)\n",
        "    D = {rows[0]:rows[1] for rows in reader}\n",
        "\n",
        "for i in range(len(D)): # len(D)\n",
        "  D[list(D.keys())[i]] = ast.literal_eval(list(D.values())[i]) \n",
        "\n",
        "c = 0\n",
        "for i in range(len(D)):\n",
        "  if  list(D.values())[i]==['Nan']: \n",
        "    c = c + 1\n",
        "\n",
        "c"
      ],
      "metadata": {
        "colab": {
          "base_uri": "https://localhost:8080/"
        },
        "id": "FMGPMX40kJpn",
        "outputId": "b0d0a89c-89a0-4314-c2b2-fb046749e513"
      },
      "execution_count": null,
      "outputs": [
        {
          "output_type": "execute_result",
          "data": {
            "text/plain": [
              "258"
            ]
          },
          "metadata": {},
          "execution_count": 15
        }
      ]
    },
    {
      "cell_type": "markdown",
      "source": [
        "4. Hate-Non Hate Users"
      ],
      "metadata": {
        "id": "HIgtQDr6h6-2"
      }
    },
    {
      "cell_type": "code",
      "source": [
        "with open(\"/content/drive/MyDrive/List4_Mar_16-26.csv\", mode='r') as inp:\n",
        "    reader = csv.reader(inp)\n",
        "    D = {rows[0]:rows[1] for rows in reader}\n",
        "\n",
        "for i in range(len(D)): # len(D)\n",
        "  D[list(D.keys())[i]] = ast.literal_eval(list(D.values())[i])      \n",
        "print(len(D))\n",
        "\n",
        "with open(\"/content/drive/MyDrive/List2_Mar_16-26.csv\", mode='r') as inp:\n",
        "    reader = csv.reader(inp)\n",
        "    D2 = {rows[0]:rows[1] for rows in reader}\n",
        "\n",
        "for i in range(len(D2)): # len(D)\n",
        "  D2[list(D2.keys())[i]] = ast.literal_eval(list(D2.values())[i])      \n",
        "print(len(D2))\n",
        "\n",
        "f = open(\"/content/drive/MyDrive/Users_Mar_16-26.json\",)\n",
        "users = json.load(f)\n",
        "# users \n",
        "\n",
        "f2 = open(\"/content/drive/MyDrive/Unhate_Mar_16-26.json\",)\n",
        "users2 = json.load(f2)\n",
        "# users2 \n",
        "\n",
        "friends = {}\n",
        "\n",
        "for i in range(len(D)):\n",
        "  if list(D.keys())[i] not in friends:\n",
        "    friends[list(D.keys())[i]] = []\n",
        "\n",
        "  for j in range(len(list(D.values())[i])):\n",
        "    if list(D.values())[i][j] in users:\n",
        "      friends[list(D.keys())[i]].append(list(D.values())[i][j])\n",
        "\n",
        "  if friends[list(D.keys())[i]] == []:\n",
        "    friends.pop(list(D.keys())[i], None)     \n",
        "\n",
        "for i in range(len(D2)):\n",
        "  if list(D2.keys())[i] not in friends:\n",
        "    friends[list(D2.keys())[i]] = []\n",
        "\n",
        "  for j in range(len(list(D2.values())[i])):\n",
        "    if list(D2.values())[i][j] in users2:\n",
        "      friends[list(D2.keys())[i]].append(list(D2.values())[i][j])\n",
        "\n",
        "  if friends[list(D2.keys())[i]] == []:\n",
        "    friends.pop(list(D2.keys())[i], None)     \n",
        "\n",
        "\n",
        "print(len(friends))\n",
        "\n",
        "import networkx as nx\n",
        "import matplotlib.pyplot as plt\n",
        "\n",
        "g = nx.DiGraph()\n",
        "g.add_nodes_from(friends.keys())\n",
        "\n",
        "for k, v in friends.items():\n",
        "    g.add_edges_from(([(k, t) for t in v]))\n",
        "g.remove_edges_from(nx.selfloop_edges(g))\n",
        "\n",
        "# USER1 -> NON-HATERS (red)\n",
        "# USER2 -> HATERS (green)\n",
        "\n",
        "for i in range(len(D)):\n",
        "  if g.has_node(list(D.keys())[i]):\n",
        "    g.nodes[list(D.keys())[i]]['viz'] = {'color': {'r': 255, 'g': 0, 'b': 0, 'a': 0}}\n",
        "  if g.has_node(list(D2.keys())[i]):  \n",
        "    g.nodes[list(D2.keys())[i]]['viz'] = {'color': {'r': 0, 'g': 255, 'b': 0, 'a': 0}}\n",
        "\n",
        "nx.draw_circular(g,with_labels=False)\n",
        "plt.draw()\n",
        "plt.show()    \n",
        "\n",
        "from google.colab import files\n",
        "nx.write_gexf(g, \"HATE-NON HATE.gexf\")\n",
        "files.download(\"HATE-NON HATE.gexf\")"
      ],
      "metadata": {
        "id": "jn6uAil8iR4_"
      },
      "execution_count": null,
      "outputs": []
    },
    {
      "cell_type": "markdown",
      "source": [
        "5. Hate-Mild Hate Users "
      ],
      "metadata": {
        "id": "prnR2xOSiAHo"
      }
    },
    {
      "cell_type": "code",
      "source": [
        "with open(\"/content/drive/MyDrive/List2_Mar_16-26.csv\", mode='r') as inp:\n",
        "    reader = csv.reader(inp)\n",
        "    D = {rows[0]:rows[1] for rows in reader}\n",
        "\n",
        "for i in range(len(D)): # len(D)\n",
        "  D[list(D.keys())[i]] = ast.literal_eval(list(D.values())[i])      \n",
        "print(len(D))\n",
        "\n",
        "with open(\"/content/drive/MyDrive/List3_Mar_16-26.csv\", mode='r') as inp:\n",
        "    reader = csv.reader(inp)\n",
        "    D2 = {rows[0]:rows[1] for rows in reader}\n",
        "\n",
        "for i in range(len(D2)): # len(D)\n",
        "  D2[list(D2.keys())[i]] = ast.literal_eval(list(D2.values())[i])      \n",
        "print(len(D2))\n",
        "\n",
        "f = open(\"/content/drive/MyDrive/Rand_Mar_16-26.json\",)\n",
        "users = json.load(f)\n",
        "# users \n",
        "\n",
        "f2 = open(\"/content/drive/MyDrive/Users_Mar_16-26.json\",)\n",
        "users2 = json.load(f2)\n",
        "# users2 \n",
        "\n",
        "friends = {}\n",
        "\n",
        "for i in range(len(D)):\n",
        "  if list(D.keys())[i] not in friends:\n",
        "    friends[list(D.keys())[i]] = []\n",
        "\n",
        "  for j in range(len(list(D.values())[i])):\n",
        "    if list(D.values())[i][j] in users:\n",
        "      friends[list(D.keys())[i]].append(list(D.values())[i][j])\n",
        "\n",
        "  if friends[list(D.keys())[i]] == []:\n",
        "    friends.pop(list(D.keys())[i], None)     \n",
        "\n",
        "for i in range(len(D2)):\n",
        "  if list(D2.keys())[i] not in friends:\n",
        "    friends[list(D2.keys())[i]] = []\n",
        "\n",
        "  for j in range(len(list(D2.values())[i])):\n",
        "    if list(D2.values())[i][j] in users2:\n",
        "      friends[list(D2.keys())[i]].append(list(D2.values())[i][j])\n",
        "\n",
        "  if friends[list(D2.keys())[i]] == []:\n",
        "    friends.pop(list(D2.keys())[i], None)     \n",
        "\n",
        "\n",
        "print(len(friends))\n",
        "\n",
        "import networkx as nx\n",
        "import matplotlib.pyplot as plt\n",
        "\n",
        "g = nx.DiGraph()\n",
        "g.add_nodes_from(friends.keys())\n",
        "\n",
        "for k, v in friends.items():\n",
        "    g.add_edges_from(([(k, t) for t in v]))\n",
        "g.remove_edges_from(nx.selfloop_edges(g))\n",
        "\n",
        "# USER1 -> HATERS (green)\n",
        "# USER2 -> MILD-HATERS (blue)\n",
        "\n",
        "for i in range(len(D)):\n",
        "  if g.has_node(list(D.keys())[i]):\n",
        "    g.nodes[list(D.keys())[i]]['viz'] = {'color': {'r': 0, 'g': 255, 'b': 0, 'a': 0}}\n",
        "  if g.has_node(list(D2.keys())[i]):  \n",
        "    g.nodes[list(D2.keys())[i]]['viz'] = {'color': {'r': 0, 'g': 0, 'b': 255, 'a': 0}}\n",
        "\n",
        "nx.draw_circular(g,with_labels=False)\n",
        "plt.draw()\n",
        "plt.show()    \n",
        "\n",
        "from google.colab import files\n",
        "nx.write_gexf(g, \"HATE-MILD HATE.gexf\")\n",
        "files.download(\"HATE-MILD HATE.gexf\")"
      ],
      "metadata": {
        "id": "Hx428Y4kiSo1"
      },
      "execution_count": null,
      "outputs": []
    },
    {
      "cell_type": "markdown",
      "source": [
        "6. Non Hate-Mild Hate Users"
      ],
      "metadata": {
        "id": "0MZM9EiqiDFN"
      }
    },
    {
      "cell_type": "code",
      "source": [
        "with open(\"/content/drive/MyDrive/List4_Mar_16-26.csv\", mode='r') as inp:\n",
        "    reader = csv.reader(inp)\n",
        "    D = {rows[0]:rows[1] for rows in reader}\n",
        "\n",
        "for i in range(len(D)): # len(D)\n",
        "  D[list(D.keys())[i]] = ast.literal_eval(list(D.values())[i])      \n",
        "print(len(D))\n",
        "\n",
        "with open(\"/content/drive/MyDrive/List3_Mar_16-26.csv\", mode='r') as inp:\n",
        "    reader = csv.reader(inp)\n",
        "    D2 = {rows[0]:rows[1] for rows in reader}\n",
        "\n",
        "for i in range(len(D2)): # len(D)\n",
        "  D2[list(D2.keys())[i]] = ast.literal_eval(list(D2.values())[i])      \n",
        "print(len(D2))\n",
        "\n",
        "f = open(\"/content/drive/MyDrive/Rand_Mar_16-26.json\",)\n",
        "users = json.load(f)\n",
        "# users \n",
        "\n",
        "f2 = open(\"/content/drive/MyDrive/Unhate_Mar_16-26.json\",)\n",
        "users2 = json.load(f2)\n",
        "# users2 \n",
        "\n",
        "friends = {}\n",
        "\n",
        "\n",
        "for i in range(len(D)):\n",
        "  if list(D.keys())[i] not in friends:\n",
        "    friends[list(D.keys())[i]] = []\n",
        "\n",
        "  for j in range(len(list(D.values())[i])):\n",
        "    if list(D.values())[i][j] in users:\n",
        "      friends[list(D.keys())[i]].append(list(D.values())[i][j])\n",
        "\n",
        "  if friends[list(D.keys())[i]] == []:\n",
        "    friends.pop(list(D.keys())[i], None)     \n",
        "\n",
        "for i in range(len(D2)):\n",
        "  if list(D2.keys())[i] not in friends:\n",
        "    friends[list(D2.keys())[i]] = []\n",
        "\n",
        "  for j in range(len(list(D2.values())[i])):\n",
        "    if list(D2.values())[i][j] in users2:\n",
        "      friends[list(D2.keys())[i]].append(list(D2.values())[i][j])\n",
        "\n",
        "  if friends[list(D2.keys())[i]] == []:\n",
        "    friends.pop(list(D2.keys())[i], None)     \n",
        "\n",
        "\n",
        "print(len(friends))\n",
        "\n",
        "import networkx as nx\n",
        "import matplotlib.pyplot as plt\n",
        "\n",
        "g = nx.DiGraph()\n",
        "g.add_nodes_from(friends.keys())\n",
        "\n",
        "for k, v in friends.items():\n",
        "    g.add_edges_from(([(k, t) for t in v]))\n",
        "g.remove_edges_from(nx.selfloop_edges(g))\n",
        "\n",
        "# USER1 -> NON-HATERS (red)\n",
        "# USER2 -> MILD-HATERS (blue)\n",
        "\n",
        "for i in range(len(D)):\n",
        "  if g.has_node(list(D.keys())[i]):\n",
        "    g.nodes[list(D.keys())[i]]['viz'] = {'color': {'r': 255, 'g': 0, 'b': 0, 'a': 0}}\n",
        "  if g.has_node(list(D2.keys())[i]):  \n",
        "    g.nodes[list(D2.keys())[i]]['viz'] = {'color': {'r': 0, 'g': 0, 'b': 255, 'a': 0}}\n",
        "\n",
        "\n",
        "nx.draw_circular(g,with_labels=False)\n",
        "plt.draw()\n",
        "plt.show()    \n",
        "\n",
        "from google.colab import files\n",
        "nx.write_gexf(g, \"NON-MILD HATE.gexf\")\n",
        "files.download(\"NON-MILD HATE.gexf\")"
      ],
      "metadata": {
        "colab": {
          "base_uri": "https://localhost:8080/",
          "height": 17
        },
        "id": "KZHTdR_OiH9C",
        "outputId": "bcc85a2b-0a68-4ca1-9126-ec20da3a10a2"
      },
      "execution_count": null,
      "outputs": [
        {
          "output_type": "display_data",
          "data": {
            "application/javascript": [
              "\n",
              "    async function download(id, filename, size) {\n",
              "      if (!google.colab.kernel.accessAllowed) {\n",
              "        return;\n",
              "      }\n",
              "      const div = document.createElement('div');\n",
              "      const label = document.createElement('label');\n",
              "      label.textContent = `Downloading \"${filename}\": `;\n",
              "      div.appendChild(label);\n",
              "      const progress = document.createElement('progress');\n",
              "      progress.max = size;\n",
              "      div.appendChild(progress);\n",
              "      document.body.appendChild(div);\n",
              "\n",
              "      const buffers = [];\n",
              "      let downloaded = 0;\n",
              "\n",
              "      const channel = await google.colab.kernel.comms.open(id);\n",
              "      // Send a message to notify the kernel that we're ready.\n",
              "      channel.send({})\n",
              "\n",
              "      for await (const message of channel.messages) {\n",
              "        // Send a message to notify the kernel that we're ready.\n",
              "        channel.send({})\n",
              "        if (message.buffers) {\n",
              "          for (const buffer of message.buffers) {\n",
              "            buffers.push(buffer);\n",
              "            downloaded += buffer.byteLength;\n",
              "            progress.value = downloaded;\n",
              "          }\n",
              "        }\n",
              "      }\n",
              "      const blob = new Blob(buffers, {type: 'application/binary'});\n",
              "      const a = document.createElement('a');\n",
              "      a.href = window.URL.createObjectURL(blob);\n",
              "      a.download = filename;\n",
              "      div.appendChild(a);\n",
              "      a.click();\n",
              "      div.remove();\n",
              "    }\n",
              "  "
            ],
            "text/plain": [
              "<IPython.core.display.Javascript object>"
            ]
          },
          "metadata": {}
        },
        {
          "output_type": "display_data",
          "data": {
            "application/javascript": [
              "download(\"download_10ea0f83-3505-4a0e-b420-0e6d09971a21\", \"NON-MILD HATE.gexf\", 153996)"
            ],
            "text/plain": [
              "<IPython.core.display.Javascript object>"
            ]
          },
          "metadata": {}
        }
      ]
    },
    {
      "cell_type": "markdown",
      "metadata": {
        "id": "c0iPt7aaaJFQ"
      },
      "source": [
        "B. Overlap of Friends"
      ]
    },
    {
      "cell_type": "markdown",
      "metadata": {
        "id": "nP5FDaxbbdcK"
      },
      "source": [
        "1. Hate Users"
      ]
    },
    {
      "cell_type": "code",
      "metadata": {
        "id": "oEm7jfY0b50_"
      },
      "source": [
        "with open(\"/content/drive/MyDrive/List2_Mar_16-26.csv\", mode='r') as inp:\n",
        "    reader = csv.reader(inp)\n",
        "    D = {rows[0]:rows[1] for rows in reader}\n",
        "\n",
        "for i in range(len(D)): \n",
        "  D[list(D.keys())[i]] = ast.literal_eval(list(D.values())[i])      \n"
      ],
      "execution_count": null,
      "outputs": []
    },
    {
      "cell_type": "code",
      "metadata": {
        "id": "m_3JGZeseZJl"
      },
      "source": [
        "d = pd.DataFrame(0, index=np.arange(len(D)*len(D)), columns=['user1','user2','score'])"
      ],
      "execution_count": null,
      "outputs": []
    },
    {
      "cell_type": "code",
      "metadata": {
        "id": "HS2YS2kmcij-"
      },
      "source": [
        "import collections\n",
        "\n",
        "k=0\n",
        "for i in range(len(D)):\n",
        "  for j in range(len(D)):\n",
        "    if j!=i and list(D.values())[i]!=['Nan'] and list(D.values())[j]!=['Nan']:\n",
        "      d['user1'][k] = list(D.keys())[i]\n",
        "      d['user2'][k] = list(D.keys())[j]\n",
        "\n",
        "      a = list(D.values())[i]\n",
        "      b = list(D.values())[j]\n",
        "\n",
        "      a_multiset = collections.Counter(a)\n",
        "      b_multiset = collections.Counter(b)\n",
        "\n",
        "      overlap = list((a_multiset & b_multiset).elements())\n",
        "      d['score'][k] = len(overlap)\n",
        "\n",
        "    k = k+1 \n"
      ],
      "execution_count": null,
      "outputs": []
    },
    {
      "cell_type": "code",
      "metadata": {
        "id": "5jdgWdiTnslJ"
      },
      "source": [
        "d = d[(d.T != 0).any()]"
      ],
      "execution_count": null,
      "outputs": []
    },
    {
      "cell_type": "code",
      "metadata": {
        "colab": {
          "base_uri": "https://localhost:8080/",
          "height": 17
        },
        "id": "a8Rm2qBMn4se",
        "outputId": "38563662-261a-4231-926d-af29d16c539a"
      },
      "source": [
        "from google.colab import files\n",
        "d.to_csv(\"Hate pairwise score.csv\", index=False)\n",
        "files.download(\"Hate pairwise score.csv\")"
      ],
      "execution_count": null,
      "outputs": [
        {
          "output_type": "display_data",
          "data": {
            "application/javascript": [
              "\n",
              "    async function download(id, filename, size) {\n",
              "      if (!google.colab.kernel.accessAllowed) {\n",
              "        return;\n",
              "      }\n",
              "      const div = document.createElement('div');\n",
              "      const label = document.createElement('label');\n",
              "      label.textContent = `Downloading \"${filename}\": `;\n",
              "      div.appendChild(label);\n",
              "      const progress = document.createElement('progress');\n",
              "      progress.max = size;\n",
              "      div.appendChild(progress);\n",
              "      document.body.appendChild(div);\n",
              "\n",
              "      const buffers = [];\n",
              "      let downloaded = 0;\n",
              "\n",
              "      const channel = await google.colab.kernel.comms.open(id);\n",
              "      // Send a message to notify the kernel that we're ready.\n",
              "      channel.send({})\n",
              "\n",
              "      for await (const message of channel.messages) {\n",
              "        // Send a message to notify the kernel that we're ready.\n",
              "        channel.send({})\n",
              "        if (message.buffers) {\n",
              "          for (const buffer of message.buffers) {\n",
              "            buffers.push(buffer);\n",
              "            downloaded += buffer.byteLength;\n",
              "            progress.value = downloaded;\n",
              "          }\n",
              "        }\n",
              "      }\n",
              "      const blob = new Blob(buffers, {type: 'application/binary'});\n",
              "      const a = document.createElement('a');\n",
              "      a.href = window.URL.createObjectURL(blob);\n",
              "      a.download = filename;\n",
              "      div.appendChild(a);\n",
              "      a.click();\n",
              "      div.remove();\n",
              "    }\n",
              "  "
            ],
            "text/plain": [
              "<IPython.core.display.Javascript object>"
            ]
          },
          "metadata": {}
        },
        {
          "output_type": "display_data",
          "data": {
            "application/javascript": [
              "download(\"download_a47a414a-d8f9-4af1-9a7f-47cdefb43c1a\", \"Hate pairwise score.csv\", 17262323)"
            ],
            "text/plain": [
              "<IPython.core.display.Javascript object>"
            ]
          },
          "metadata": {}
        }
      ]
    },
    {
      "cell_type": "code",
      "metadata": {
        "id": "qeMZhXynCtVM"
      },
      "source": [
        "d = pd.read_csv('/content/drive/MyDrive/Hate pairwise score.csv')"
      ],
      "execution_count": null,
      "outputs": []
    },
    {
      "cell_type": "code",
      "metadata": {
        "colab": {
          "base_uri": "https://localhost:8080/"
        },
        "id": "H6F9u0yJEZR_",
        "outputId": "63523f20-d42c-4326-adc1-f622392473e7"
      },
      "source": [
        "print(d['score'].max())\n",
        "print(d['score'].sum())"
      ],
      "execution_count": null,
      "outputs": [
        {
          "output_type": "stream",
          "name": "stdout",
          "text": [
            "3058\n",
            "231695\n"
          ]
        }
      ]
    },
    {
      "cell_type": "code",
      "metadata": {
        "colab": {
          "base_uri": "https://localhost:8080/"
        },
        "id": "aRoAjS-KZ0Qw",
        "outputId": "8ec4ee68-eccd-41dd-928c-460dd84e80b4"
      },
      "source": [
        "with open(\"/content/drive/MyDrive/List2_Mar_16-26.csv\", mode='r') as inp:\n",
        "    reader = csv.reader(inp)\n",
        "    D = {rows[0]:rows[1] for rows in reader}\n",
        "\n",
        "for i in range(len(D)): \n",
        "  D[list(D.keys())[i]] = ast.literal_eval(list(D.values())[i]) \n",
        "\n",
        "c = 0\n",
        "for i in range(len(D)):\n",
        "  if  list(D.values())[i]==['Nan']: \n",
        "    c = c + 1\n",
        "\n",
        "c"
      ],
      "execution_count": null,
      "outputs": [
        {
          "output_type": "execute_result",
          "data": {
            "text/plain": [
              "961"
            ]
          },
          "metadata": {},
          "execution_count": 12
        }
      ]
    },
    {
      "cell_type": "code",
      "metadata": {
        "id": "Kx3fBHDVgW2X"
      },
      "source": [
        "import networkx as nx\n",
        "import matplotlib.pyplot as plt\n",
        "\n",
        "d = pd.read_csv('/content/drive/MyDrive/Hate pairwise score.csv')\n",
        "\n",
        "g = nx.Graph()\n",
        "\n",
        "for i in range(len(d)):\n",
        "  g.add_weighted_edges_from([(d['user1'][i], d['user2'][i], d['score'][i])])\n",
        "\n",
        "nx.draw_spectral(g,with_labels=False)\n",
        "plt.draw()\n",
        "plt.show()    "
      ],
      "execution_count": null,
      "outputs": []
    },
    {
      "cell_type": "code",
      "metadata": {
        "colab": {
          "base_uri": "https://localhost:8080/",
          "height": 17
        },
        "id": "TLD3A5mpgdmg",
        "outputId": "3e9542f9-1d64-4ab8-88c1-36c231bcc55b"
      },
      "source": [
        "from google.colab import files\n",
        "nx.write_gexf(g, \"intra hate.gexf\")\n",
        "files.download(\"intra hate.gexf\")"
      ],
      "execution_count": null,
      "outputs": [
        {
          "output_type": "display_data",
          "data": {
            "application/javascript": [
              "\n",
              "    async function download(id, filename, size) {\n",
              "      if (!google.colab.kernel.accessAllowed) {\n",
              "        return;\n",
              "      }\n",
              "      const div = document.createElement('div');\n",
              "      const label = document.createElement('label');\n",
              "      label.textContent = `Downloading \"${filename}\": `;\n",
              "      div.appendChild(label);\n",
              "      const progress = document.createElement('progress');\n",
              "      progress.max = size;\n",
              "      div.appendChild(progress);\n",
              "      document.body.appendChild(div);\n",
              "\n",
              "      const buffers = [];\n",
              "      let downloaded = 0;\n",
              "\n",
              "      const channel = await google.colab.kernel.comms.open(id);\n",
              "      // Send a message to notify the kernel that we're ready.\n",
              "      channel.send({})\n",
              "\n",
              "      for await (const message of channel.messages) {\n",
              "        // Send a message to notify the kernel that we're ready.\n",
              "        channel.send({})\n",
              "        if (message.buffers) {\n",
              "          for (const buffer of message.buffers) {\n",
              "            buffers.push(buffer);\n",
              "            downloaded += buffer.byteLength;\n",
              "            progress.value = downloaded;\n",
              "          }\n",
              "        }\n",
              "      }\n",
              "      const blob = new Blob(buffers, {type: 'application/binary'});\n",
              "      const a = document.createElement('a');\n",
              "      a.href = window.URL.createObjectURL(blob);\n",
              "      a.download = filename;\n",
              "      div.appendChild(a);\n",
              "      a.click();\n",
              "      div.remove();\n",
              "    }\n",
              "  "
            ],
            "text/plain": [
              "<IPython.core.display.Javascript object>"
            ]
          },
          "metadata": {}
        },
        {
          "output_type": "display_data",
          "data": {
            "application/javascript": [
              "download(\"download_c22d17aa-1946-467c-9b0e-9aa69aef25c2\", \"intra hate.gexf\", 1942514)"
            ],
            "text/plain": [
              "<IPython.core.display.Javascript object>"
            ]
          },
          "metadata": {}
        }
      ]
    },
    {
      "cell_type": "markdown",
      "metadata": {
        "id": "5yAFBKhcn-Kg"
      },
      "source": [
        "2. Mild-hate Users\n"
      ]
    },
    {
      "cell_type": "code",
      "source": [
        "with open(\"/home/ahana/Fol_list/List3_Mar_16-26.csv\", mode='r') as inp:\n",
        "    reader = csv.reader(inp)\n",
        "    D = {rows[0]:rows[1] for rows in reader}\n",
        "\n",
        "print('start', time.ctime())\n",
        "\n",
        "\n",
        "for i in range(len(D)): # len(D)\n",
        "  D[list(D.keys())[i]] = ast.literal_eval(list(D.values())[i])  \n",
        "\n",
        "d = pd.DataFrame(0, index=np.arange(len(D)*len(D)), columns=['user1','user2','score'])\n",
        "\n",
        "\n",
        "k=0\n",
        "for i in range(len(D)):\n",
        "  for j in range(i,len(D)):\n",
        "    if j!=i and list(D.values())[i]!=['Nan'] and list(D.values())[j]!=['Nan']:\n",
        "      d['user1'][k] = list(D.keys())[i]\n",
        "      d['user2'][k] = list(D.keys())[j]\n",
        "\n",
        "      a = list(D.values())[i]\n",
        "      b = list(D.values())[j]\n",
        "\n",
        "      a_multiset = collections.Counter(a)\n",
        "      b_multiset = collections.Counter(b)\n",
        "\n",
        "      overlap = list((a_multiset & b_multiset).elements())\n",
        "      d['score'][k] = len(overlap)\n",
        "      # d['list'][k] = [overlap]\n",
        "\n",
        "    k = k+1 \n",
        "\n",
        "d = d[(d.T != 0).any()]\n",
        "d.to_csv(\"Non-Hate pairwise score.csv\", index=False)\n",
        "\n",
        "print(time.ctime())    "
      ],
      "metadata": {
        "id": "_cm99OGzkvdA"
      },
      "execution_count": null,
      "outputs": []
    },
    {
      "cell_type": "code",
      "metadata": {
        "id": "7avi8wsHoBJ_"
      },
      "source": [
        "d = pd.read_csv('/content/drive/MyDrive/Non-Hate pairwise score.csv')"
      ],
      "execution_count": null,
      "outputs": []
    },
    {
      "cell_type": "code",
      "metadata": {
        "colab": {
          "base_uri": "https://localhost:8080/"
        },
        "id": "BvaD35xaW_cp",
        "outputId": "55c31313-42b0-4f0a-f12c-1f2aafe69b0f"
      },
      "source": [
        "print(d['score'].max())\n",
        "print(d['score'].sum())"
      ],
      "execution_count": null,
      "outputs": [
        {
          "output_type": "stream",
          "name": "stdout",
          "text": [
            "16731\n",
            "3809155\n"
          ]
        }
      ]
    },
    {
      "cell_type": "code",
      "metadata": {
        "id": "LVklFc3YW_pG"
      },
      "source": [
        "print(d['user1'][d['score']==d['score'].max()])\n",
        "print(d['user2'][d['score']==d['score'].max()])"
      ],
      "execution_count": null,
      "outputs": []
    },
    {
      "cell_type": "code",
      "metadata": {
        "id": "a4SHCsTHX1h_"
      },
      "source": [
        "with open(\"/content/drive/MyDrive/List3_Mar_16-26.csv\", mode='r') as inp:\n",
        "    reader = csv.reader(inp)\n",
        "    D = {rows[0]:rows[1] for rows in reader}\n",
        "\n",
        "for i in range(len(D)): # len(D)\n",
        "  D[list(D.keys())[i]] = ast.literal_eval(list(D.values())[i]) \n",
        "\n",
        "c = 0\n",
        "for i in range(len(D)):\n",
        "  if  list(D.values())[i]==['Nan']: \n",
        "    c = c + 1\n",
        "\n",
        "c"
      ],
      "execution_count": null,
      "outputs": []
    },
    {
      "cell_type": "code",
      "metadata": {
        "id": "aXJl1cr-JMbY"
      },
      "source": [
        "import networkx as nx\n",
        "import matplotlib.pyplot as plt\n",
        "\n",
        "d = pd.read_csv('/content/drive/MyDrive/Non-Hate pairwise score.csv')\n",
        "\n",
        "g = nx.Graph()\n",
        "\n",
        "for i in range(len(d)):\n",
        "  g.add_weighted_edges_from([(d['user1'][i], d['user2'][i], d['score'][i])])\n",
        "\n",
        "nx.draw_circular(g,with_labels=False)\n",
        "plt.draw()\n",
        "plt.show()    "
      ],
      "execution_count": null,
      "outputs": []
    },
    {
      "cell_type": "code",
      "metadata": {
        "colab": {
          "base_uri": "https://localhost:8080/",
          "height": 34
        },
        "id": "XWJyuDrHJufc",
        "outputId": "c9bbab91-72ca-46e8-af1b-5f4bafa70e34"
      },
      "source": [
        "from google.colab import files\n",
        "nx.write_gexf(g, \"intra mild hate.gexf\")\n",
        "files.download(\"intra mild hate.gexf\")"
      ],
      "execution_count": null,
      "outputs": [
        {
          "output_type": "display_data",
          "data": {
            "application/javascript": [
              "\n",
              "    async function download(id, filename, size) {\n",
              "      if (!google.colab.kernel.accessAllowed) {\n",
              "        return;\n",
              "      }\n",
              "      const div = document.createElement('div');\n",
              "      const label = document.createElement('label');\n",
              "      label.textContent = `Downloading \"${filename}\": `;\n",
              "      div.appendChild(label);\n",
              "      const progress = document.createElement('progress');\n",
              "      progress.max = size;\n",
              "      div.appendChild(progress);\n",
              "      document.body.appendChild(div);\n",
              "\n",
              "      const buffers = [];\n",
              "      let downloaded = 0;\n",
              "\n",
              "      const channel = await google.colab.kernel.comms.open(id);\n",
              "      // Send a message to notify the kernel that we're ready.\n",
              "      channel.send({})\n",
              "\n",
              "      for await (const message of channel.messages) {\n",
              "        // Send a message to notify the kernel that we're ready.\n",
              "        channel.send({})\n",
              "        if (message.buffers) {\n",
              "          for (const buffer of message.buffers) {\n",
              "            buffers.push(buffer);\n",
              "            downloaded += buffer.byteLength;\n",
              "            progress.value = downloaded;\n",
              "          }\n",
              "        }\n",
              "      }\n",
              "      const blob = new Blob(buffers, {type: 'application/binary'});\n",
              "      const a = document.createElement('a');\n",
              "      a.href = window.URL.createObjectURL(blob);\n",
              "      a.download = filename;\n",
              "      div.appendChild(a);\n",
              "      a.click();\n",
              "      div.remove();\n",
              "    }\n",
              "  "
            ],
            "text/plain": [
              "<IPython.core.display.Javascript object>"
            ]
          },
          "metadata": {}
        },
        {
          "output_type": "display_data",
          "data": {
            "application/javascript": [
              "download(\"download_e4e4f63f-b14e-41d6-b458-25677c22cda8\", \"intra mild hate.gexf\", 29507672)"
            ],
            "text/plain": [
              "<IPython.core.display.Javascript object>"
            ]
          },
          "metadata": {}
        }
      ]
    },
    {
      "cell_type": "markdown",
      "source": [
        "3. Non-Hate Users"
      ],
      "metadata": {
        "id": "B9cgXH7j9IhX"
      }
    },
    {
      "cell_type": "code",
      "source": [
        "with open(\"/home/ahana/Fol_list/List4_Mar_16-26.csv\", mode='r') as inp:\n",
        "    reader = csv.reader(inp)\n",
        "    D = {rows[0]:rows[1] for rows in reader}\n",
        "\n",
        "print('start', time.ctime())\n",
        "\n",
        "\n",
        "for i in range(len(D)): # len(D)\n",
        "  D[list(D.keys())[i]] = ast.literal_eval(list(D.values())[i])  \n",
        "\n",
        "d = pd.DataFrame(0, index=np.arange(len(D)*len(D)), columns=['user1','user2','score','weighted'])\n",
        "\n",
        "\n",
        "k=0\n",
        "for i in range(len(D)):\n",
        "  for j in range(i,len(D)):\n",
        "    if j!=i and list(D.values())[i]!=['Nan'] and list(D.values())[j]!=['Nan']:\n",
        "      d['user1'][k] = list(D.keys())[i]\n",
        "      d['user2'][k] = list(D.keys())[j]\n",
        "\n",
        "      a = list(D.values())[i]\n",
        "      b = list(D.values())[j]\n",
        "\n",
        "      a_multiset = collections.Counter(a)\n",
        "      b_multiset = collections.Counter(b)\n",
        "\n",
        "      overlap = list((a_multiset & b_multiset).elements())\n",
        "      d['score'][k] = len(overlap)\n",
        "      e1 = len(list(D.values())[i])\n",
        "      e2 = len(list(D.values())[j])\n",
        "      d['weighted'][k] = (d['score'][k]/float(e1) + d['score'][k]/float(e2))/2.0\n",
        "\n",
        "    k = k+1 \n",
        "\n",
        "d = d[(d.T != 0).any()]\n",
        "d.to_csv(\"Unhate pairwise score.csv\", index=False)\n",
        "\n",
        "print(time.ctime())    "
      ],
      "metadata": {
        "id": "GkX5Z15blDfI"
      },
      "execution_count": null,
      "outputs": []
    },
    {
      "cell_type": "code",
      "source": [
        "d = pd.read_csv('/content/drive/MyDrive/Unhate pairwise score.csv')\n",
        "print('Max Score:')\n",
        "print(d['score'].max())\n",
        "# print(d['score'].sum())\n",
        "print(d['user1'][d['score']==d['score'].max()])\n",
        "print(d['user2'][d['score']==d['score'].max()])\n",
        "print('Max weighted Score:')\n",
        "print(d['weighted'].max())\n",
        "# print(d['weighted'].sum())\n",
        "print(d['user1'][d['weighted']==d['weighted'].max()])\n",
        "print(d['user2'][d['weighted']==d['weighted'].max()])"
      ],
      "metadata": {
        "id": "R5iql7Ad9MtE"
      },
      "execution_count": null,
      "outputs": []
    },
    {
      "cell_type": "code",
      "source": [
        "import networkx as nx\n",
        "import matplotlib.pyplot as plt\n",
        "\n",
        "g = nx.Graph()\n",
        "\n",
        "for i in range(len(d)):\n",
        "  g.add_weighted_edges_from([(d['user1'][i], d['user2'][i], d['score'][i])])\n",
        "\n",
        "nx.draw_circular(g,with_labels=False)\n",
        "plt.draw()\n",
        "plt.show()    "
      ],
      "metadata": {
        "id": "wGCYkmfC9x2S"
      },
      "execution_count": null,
      "outputs": []
    },
    {
      "cell_type": "code",
      "source": [
        "from google.colab import files\n",
        "nx.write_gexf(g, \"intra unhate.gexf\")\n",
        "files.download(\"intra unhate.gexf\")"
      ],
      "metadata": {
        "colab": {
          "base_uri": "https://localhost:8080/",
          "height": 17
        },
        "id": "k-QY3E9O-OmK",
        "outputId": "481cd4bd-6ea8-4cc6-fb13-ac9fb41281aa"
      },
      "execution_count": null,
      "outputs": [
        {
          "output_type": "display_data",
          "data": {
            "application/javascript": [
              "\n",
              "    async function download(id, filename, size) {\n",
              "      if (!google.colab.kernel.accessAllowed) {\n",
              "        return;\n",
              "      }\n",
              "      const div = document.createElement('div');\n",
              "      const label = document.createElement('label');\n",
              "      label.textContent = `Downloading \"${filename}\": `;\n",
              "      div.appendChild(label);\n",
              "      const progress = document.createElement('progress');\n",
              "      progress.max = size;\n",
              "      div.appendChild(progress);\n",
              "      document.body.appendChild(div);\n",
              "\n",
              "      const buffers = [];\n",
              "      let downloaded = 0;\n",
              "\n",
              "      const channel = await google.colab.kernel.comms.open(id);\n",
              "      // Send a message to notify the kernel that we're ready.\n",
              "      channel.send({})\n",
              "\n",
              "      for await (const message of channel.messages) {\n",
              "        // Send a message to notify the kernel that we're ready.\n",
              "        channel.send({})\n",
              "        if (message.buffers) {\n",
              "          for (const buffer of message.buffers) {\n",
              "            buffers.push(buffer);\n",
              "            downloaded += buffer.byteLength;\n",
              "            progress.value = downloaded;\n",
              "          }\n",
              "        }\n",
              "      }\n",
              "      const blob = new Blob(buffers, {type: 'application/binary'});\n",
              "      const a = document.createElement('a');\n",
              "      a.href = window.URL.createObjectURL(blob);\n",
              "      a.download = filename;\n",
              "      div.appendChild(a);\n",
              "      a.click();\n",
              "      div.remove();\n",
              "    }\n",
              "  "
            ],
            "text/plain": [
              "<IPython.core.display.Javascript object>"
            ]
          },
          "metadata": {}
        },
        {
          "output_type": "display_data",
          "data": {
            "application/javascript": [
              "download(\"download_e14eb6cd-0ff2-424b-b170-ec1be847f74d\", \"intra unhate.gexf\", 34264698)"
            ],
            "text/plain": [
              "<IPython.core.display.Javascript object>"
            ]
          },
          "metadata": {}
        }
      ]
    },
    {
      "cell_type": "markdown",
      "source": [
        "4. Non-Hate & Mild Hate Users"
      ],
      "metadata": {
        "id": "VQpDJ1RZ9a7A"
      }
    },
    {
      "cell_type": "code",
      "source": [
        "with open(\"/home/ahana/Fol_list/List4_Mar_16-26.csv\", mode='r') as inp:\n",
        "    reader = csv.reader(inp)\n",
        "    D = {rows[0]:rows[1] for rows in reader}\n",
        "\n",
        "# D2 mild hate\n",
        "with open(\"/home/ahana/Fol_list/List3_Mar_16-26.csv\", mode='r') as inp:  \n",
        "    reader = csv.reader(inp)\n",
        "    D2 = {rows[0]:rows[1] for rows in reader}\n",
        "\n",
        "\n",
        "print('start', time.ctime())\n",
        "\n",
        "\n",
        "for i in range(len(D)): \n",
        "  D[list(D.keys())[i]] = ast.literal_eval(list(D.values())[i])  \n",
        "\n",
        "for i in range(len(D2)): \n",
        "  D2[list(D2.keys())[i]] = ast.literal_eval(list(D2.values())[i])  \n",
        "\n",
        "\n",
        "d = pd.DataFrame(0, index=np.arange(len(D2)*len(D)), columns=['user1','user2','score','weighted'])\n",
        "\n",
        "\n",
        "k=0\n",
        "for i in range(len(D)):\n",
        "  for j in range(len(D2)):\n",
        "    if list(D.values())[i]!=['Nan'] and list(D2.values())[j]!=['Nan']:\n",
        "      d['user1'][k] = list(D.keys())[i]\n",
        "      d['user2'][k] = list(D2.keys())[j]\n",
        "\n",
        "      a = list(D.values())[i]\n",
        "      b = list(D2.values())[j]\n",
        "\n",
        "      a_multiset = collections.Counter(a)\n",
        "      b_multiset = collections.Counter(b)\n",
        "\n",
        "      overlap = list((a_multiset & b_multiset).elements())\n",
        "      d['score'][k] = len(overlap)\n",
        "      e1 = len(list(D.values())[i])\n",
        "      e2 = len(list(D2.values())[j])\n",
        "      d['weighted'][k] = (d['score'][k]/float(e1) + d['score'][k]/float(e2))/2.0\n",
        "\n",
        "    k = k+1 \n",
        "\n",
        "d = d[(d.T != 0).any()]\n",
        "d.to_csv(\"Unhate-Mildhate pairwise score.csv\", index=False)\n",
        "\n",
        "print(time.ctime())    "
      ],
      "metadata": {
        "id": "PDK7uHMildmm"
      },
      "execution_count": null,
      "outputs": []
    },
    {
      "cell_type": "code",
      "source": [
        "d = pd.read_csv('/content/drive/MyDrive/Unhate-Mildhate pairwise score.csv')\n",
        "print('For Max Score:')\n",
        "print(d['score'].max())\n",
        "# print(d['score'].sum())\n",
        "print(d['user1'][d['score']==d['score'].max()])\n",
        "print(d['user2'][d['score']==d['score'].max()])\n",
        "print('For Max weighted Score:')\n",
        "print(d['weighted'].max())\n",
        "# print(d['weighted'].sum())\n",
        "print(d['user1'][d['weighted']==d['weighted'].max()])\n",
        "print(d['user2'][d['weighted']==d['weighted'].max()])"
      ],
      "metadata": {
        "id": "qdqQ84k19mEY"
      },
      "execution_count": null,
      "outputs": []
    },
    {
      "cell_type": "code",
      "source": [
        "import networkx as nx\n",
        "import matplotlib.pyplot as plt\n",
        "\n",
        "g = nx.Graph()\n",
        "\n",
        "# USER1 -> NON-HATERS (red)\n",
        "# USER2 -> MILD-HATERS (blue)\n",
        "\n",
        "for i in range(len(d)):\n",
        "  g.add_weighted_edges_from([(d['user1'][i], d['user2'][i], d['score'][i])])\n",
        "  g.nodes[d['user1'][i]]['viz'] = {'color': {'r': 255, 'g': 0, 'b': 0, 'a': 0}}\n",
        "  g.nodes[d['user2'][i]]['viz'] = {'color': {'r': 0, 'g': 0, 'b': 255, 'a': 0}}\n",
        "\n",
        "  g.nodes[d['user1'][i]]['Mode'] = 1\n",
        "  g.nodes[d['user2'][i]]['Mode'] = 2\n",
        "\n",
        "\n",
        "nx.draw_circular(g,with_labels=False)\n",
        "plt.draw()\n",
        "plt.show()    "
      ],
      "metadata": {
        "id": "mAlT2zqU-SmA"
      },
      "execution_count": null,
      "outputs": []
    },
    {
      "cell_type": "code",
      "source": [
        "from google.colab import files\n",
        "nx.write_gexf(g, \"inter un-mild hate.gexf\", version=\"1.2draft\")\n",
        "files.download(\"inter un-mild hate.gexf\")"
      ],
      "metadata": {
        "colab": {
          "base_uri": "https://localhost:8080/",
          "height": 17
        },
        "id": "oTUcWGrZ-Swe",
        "outputId": "9730122e-9d02-4ff7-de66-ddefb62b8716"
      },
      "execution_count": null,
      "outputs": [
        {
          "output_type": "display_data",
          "data": {
            "application/javascript": [
              "\n",
              "    async function download(id, filename, size) {\n",
              "      if (!google.colab.kernel.accessAllowed) {\n",
              "        return;\n",
              "      }\n",
              "      const div = document.createElement('div');\n",
              "      const label = document.createElement('label');\n",
              "      label.textContent = `Downloading \"${filename}\": `;\n",
              "      div.appendChild(label);\n",
              "      const progress = document.createElement('progress');\n",
              "      progress.max = size;\n",
              "      div.appendChild(progress);\n",
              "      document.body.appendChild(div);\n",
              "\n",
              "      const buffers = [];\n",
              "      let downloaded = 0;\n",
              "\n",
              "      const channel = await google.colab.kernel.comms.open(id);\n",
              "      // Send a message to notify the kernel that we're ready.\n",
              "      channel.send({})\n",
              "\n",
              "      for await (const message of channel.messages) {\n",
              "        // Send a message to notify the kernel that we're ready.\n",
              "        channel.send({})\n",
              "        if (message.buffers) {\n",
              "          for (const buffer of message.buffers) {\n",
              "            buffers.push(buffer);\n",
              "            downloaded += buffer.byteLength;\n",
              "            progress.value = downloaded;\n",
              "          }\n",
              "        }\n",
              "      }\n",
              "      const blob = new Blob(buffers, {type: 'application/binary'});\n",
              "      const a = document.createElement('a');\n",
              "      a.href = window.URL.createObjectURL(blob);\n",
              "      a.download = filename;\n",
              "      div.appendChild(a);\n",
              "      a.click();\n",
              "      div.remove();\n",
              "    }\n",
              "  "
            ],
            "text/plain": [
              "<IPython.core.display.Javascript object>"
            ]
          },
          "metadata": {}
        },
        {
          "output_type": "display_data",
          "data": {
            "application/javascript": [
              "download(\"download_8f1be5fb-6e12-4802-b663-f3812b053c08\", \"test.gexf\", 64025590)"
            ],
            "text/plain": [
              "<IPython.core.display.Javascript object>"
            ]
          },
          "metadata": {}
        }
      ]
    },
    {
      "cell_type": "markdown",
      "source": [
        "5. Hate & Mild Hate Users"
      ],
      "metadata": {
        "id": "10DJbdTjBsnO"
      }
    },
    {
      "cell_type": "code",
      "source": [
        "with open(\"/home/ahana/Fol_list/List2_Mar_16-26.csv\", mode='r') as inp:\n",
        "    reader = csv.reader(inp)\n",
        "    D = {rows[0]:rows[1] for rows in reader}\n",
        "\n",
        "# D2 mild hate\n",
        "with open(\"/home/ahana/Fol_list/List3_Mar_16-26.csv\", mode='r') as inp:  \n",
        "    reader = csv.reader(inp)\n",
        "    D2 = {rows[0]:rows[1] for rows in reader}\n",
        "\n",
        "\n",
        "print('start', time.ctime())\n",
        "\n",
        "\n",
        "for i in range(len(D)): \n",
        "  D[list(D.keys())[i]] = ast.literal_eval(list(D.values())[i])  \n",
        "\n",
        "for i in range(len(D2)): \n",
        "  D2[list(D2.keys())[i]] = ast.literal_eval(list(D2.values())[i])  \n",
        "\n",
        "\n",
        "d = pd.DataFrame(0, index=np.arange(len(D2)*len(D)), columns=['user1','user2','score','weighted'])\n",
        "\n",
        "\n",
        "k=0\n",
        "for i in range(len(D)):\n",
        "  for j in range(len(D2)):\n",
        "    if list(D.values())[i]!=['Nan'] and list(D2.values())[j]!=['Nan']:\n",
        "      d['user1'][k] = list(D.keys())[i]\n",
        "      d['user2'][k] = list(D2.keys())[j]\n",
        "\n",
        "      a = list(D.values())[i]\n",
        "      b = list(D2.values())[j]\n",
        "\n",
        "      a_multiset = collections.Counter(a)\n",
        "      b_multiset = collections.Counter(b)\n",
        "\n",
        "      overlap = list((a_multiset & b_multiset).elements())\n",
        "      d['score'][k] = len(overlap)\n",
        "      e1 = len(list(D.values())[i])\n",
        "      e2 = len(list(D2.values())[j])\n",
        "      d['weighted'][k] = (d['score'][k]/float(e1) + d['score'][k]/float(e2))/2.0\n",
        "\n",
        "    k = k+1 \n",
        "\n",
        "d = d[(d.T != 0).any()]\n",
        "d.to_csv(\"Hate-Mildhate pairwise score.csv\", index=False)\n",
        "\n",
        "print(time.ctime())    "
      ],
      "metadata": {
        "id": "-UMwjkRalqv3"
      },
      "execution_count": null,
      "outputs": []
    },
    {
      "cell_type": "code",
      "source": [
        "d = pd.read_csv('/content/drive/MyDrive/Hate-Mildhate pairwise score.csv')\n",
        "print('For Max Score:')\n",
        "print(d['score'].max())\n",
        "# print(d['score'].sum())\n",
        "print(d['user1'][d['score']==d['score'].max()])\n",
        "print(d['user2'][d['score']==d['score'].max()])\n",
        "print('For Max weighted Score:')\n",
        "print(d['weighted'].max())\n",
        "# print(d['weighted'].sum())\n",
        "print(d['user1'][d['weighted']==d['weighted'].max()])\n",
        "print(d['user2'][d['weighted']==d['weighted'].max()])"
      ],
      "metadata": {
        "id": "-QxX0MGjB15I"
      },
      "execution_count": null,
      "outputs": []
    },
    {
      "cell_type": "code",
      "source": [
        "import networkx as nx\n",
        "import matplotlib.pyplot as plt\n",
        "\n",
        "g = nx.Graph()\n",
        "\n",
        "# USER1 -> HATERS (green)\n",
        "# USER2 -> MILD-HATERS (blue)\n",
        "\n",
        "for i in range(len(d)):\n",
        "  g.add_weighted_edges_from([(d['user1'][i], d['user2'][i], d['score'][i])])\n",
        "  g.nodes[d['user1'][i]]['viz'] = {'color': {'r': 0, 'g': 255, 'b': 0, 'a': 0}}\n",
        "  g.nodes[d['user2'][i]]['viz'] = {'color': {'r': 0, 'g': 0, 'b': 255, 'a': 0}}\n",
        "\n",
        "g.remove_edges_from(nx.selfloop_edges(g))\n",
        "\n",
        "nx.draw_circular(g,with_labels=False)\n",
        "plt.draw()\n",
        "plt.show()    \n",
        "\n",
        "from google.colab import files\n",
        "nx.write_gexf(g, \"inter hate-mild hate.gexf\", version=\"1.2draft\")\n",
        "files.download(\"inter hate-mild hate.gexf\")"
      ],
      "metadata": {
        "id": "ChC4-2ikB8yZ"
      },
      "execution_count": null,
      "outputs": []
    },
    {
      "cell_type": "markdown",
      "source": [
        "6. Hate & Non Hate Users"
      ],
      "metadata": {
        "id": "-9G55c20BvvG"
      }
    },
    {
      "cell_type": "code",
      "source": [
        "with open(\"/home/ahana/Fol_list/List4_Mar_16-26.csv\", mode='r') as inp:\n",
        "    reader = csv.reader(inp)\n",
        "    D = {rows[0]:rows[1] for rows in reader}\n",
        "\n",
        "# D2 mild hate\n",
        "with open(\"/home/ahana/Fol_list/List2_Mar_16-26.csv\", mode='r') as inp:  \n",
        "    reader = csv.reader(inp)\n",
        "    D2 = {rows[0]:rows[1] for rows in reader}\n",
        "\n",
        "\n",
        "print('start', time.ctime())\n",
        "\n",
        "\n",
        "for i in range(len(D)): \n",
        "  D[list(D.keys())[i]] = ast.literal_eval(list(D.values())[i])  \n",
        "\n",
        "for i in range(len(D2)): \n",
        "  D2[list(D2.keys())[i]] = ast.literal_eval(list(D2.values())[i])  \n",
        "\n",
        "\n",
        "d = pd.DataFrame(0, index=np.arange(len(D2)*len(D)), columns=['user1','user2','score','weighted'])\n",
        "\n",
        "\n",
        "k=0\n",
        "for i in range(len(D)):\n",
        "  for j in range(len(D2)):\n",
        "    if list(D.values())[i]!=['Nan'] and list(D2.values())[j]!=['Nan']:\n",
        "      d['user1'][k] = list(D.keys())[i]\n",
        "      d['user2'][k] = list(D2.keys())[j]\n",
        "\n",
        "      a = list(D.values())[i]\n",
        "      b = list(D2.values())[j]\n",
        "\n",
        "      a_multiset = collections.Counter(a)\n",
        "      b_multiset = collections.Counter(b)\n",
        "\n",
        "      overlap = list((a_multiset & b_multiset).elements())\n",
        "      d['score'][k] = len(overlap)\n",
        "      e1 = len(list(D.values())[i])\n",
        "      e2 = len(list(D2.values())[j])\n",
        "      d['weighted'][k] = (d['score'][k]/float(e1) + d['score'][k]/float(e2))/2.0\n",
        "\n",
        "    k = k+1 \n",
        "\n",
        "d = d[(d.T != 0).any()]\n",
        "d.to_csv(\"Hate-Unhate pairwise score.csv\", index=False)\n",
        "\n",
        "print(time.ctime())    "
      ],
      "metadata": {
        "id": "up9eoI03l5EH"
      },
      "execution_count": null,
      "outputs": []
    },
    {
      "cell_type": "code",
      "source": [
        "d = pd.read_csv('/content/drive/MyDrive/Hate-Unhate pairwise score.csv')\n",
        "print('For Max Score:')\n",
        "print(d['score'].max())\n",
        "# print(d['score'].sum())\n",
        "print(d['user1'][d['score']==d['score'].max()])\n",
        "print(d['user2'][d['score']==d['score'].max()])\n",
        "print('For Max weighted Score:')\n",
        "print(d['weighted'].max())\n",
        "# print(d['weighted'].sum())\n",
        "print(d['user1'][d['weighted']==d['weighted'].max()])\n",
        "print(d['user2'][d['weighted']==d['weighted'].max()])"
      ],
      "metadata": {
        "id": "Q70bh83fB1KC"
      },
      "execution_count": null,
      "outputs": []
    },
    {
      "cell_type": "code",
      "source": [
        "import networkx as nx\n",
        "import matplotlib.pyplot as plt\n",
        "\n",
        "g = nx.Graph()\n",
        "\n",
        "# USER1 -> NON-HATERS (red)\n",
        "# USER2 -> HATERS (green)\n",
        "\n",
        "for i in range(len(d)):\n",
        "  g.add_weighted_edges_from([(d['user1'][i], d['user2'][i], d['score'][i])])\n",
        "  g.nodes[d['user1'][i]]['viz'] = {'color': {'r': 255, 'g': 0, 'b': 0, 'a': 0}}\n",
        "  g.nodes[d['user2'][i]]['viz'] = {'color': {'r': 0, 'g': 255, 'b': 0, 'a': 0}}\n",
        "\n",
        "g.remove_edges_from(nx.selfloop_edges(g))\n",
        "\n",
        "nx.draw_circular(g,with_labels=False)\n",
        "plt.draw()\n",
        "plt.show()   \n",
        "\n",
        "from google.colab import files\n",
        "nx.write_gexf(g, \"inter hate-non hate.gexf\", version=\"1.2draft\")\n",
        "files.download(\"inter hate-non hate.gexf\")"
      ],
      "metadata": {
        "id": "1O8fT83eB8J8"
      },
      "execution_count": null,
      "outputs": []
    },
    {
      "cell_type": "markdown",
      "metadata": {
        "id": "ZmDKF0rtoU0q"
      },
      "source": [
        "C. Ranking of Friends (Most followed Twitter accounts by each type of user)"
      ]
    },
    {
      "cell_type": "code",
      "metadata": {
        "id": "qHUTiMjFoYPo"
      },
      "source": [
        "# Hate users\n",
        "\n",
        "with open(\"/content/drive/MyDrive/List2_Mar_16-26.csv\", mode='r') as inp:\n",
        "    reader = csv.reader(inp)\n",
        "    D = {rows[0]:rows[1] for rows in reader}\n",
        "\n",
        "for i in range(len(D)): # len(D)\n",
        "  D[list(D.keys())[i]] = ast.literal_eval(list(D.values())[i])\n",
        "\n",
        "dic = {}\n",
        "for i in range(len(D)):\n",
        "  if list(D.values())[i]!=['Nan']:\n",
        "    for j in range(len(list(D.values())[i])):\n",
        "\n",
        "      if list(D.values())[i][j] in dic:\n",
        "        dic[list(D.values())[i][j]] = dic[list(D.values())[i][j]] + 1\n",
        "\n",
        "      else:\n",
        "        dic[list(D.values())[i][j]] = 1  \n",
        "\n",
        "dic        "
      ],
      "execution_count": null,
      "outputs": []
    },
    {
      "cell_type": "code",
      "metadata": {
        "id": "HlWcHdU13ROW"
      },
      "source": [
        "sort_dic = sorted(dic.items(), key=lambda x: x[1], reverse=True)\n",
        "\n",
        "for i in range(len(sort_dic)):\n",
        "\tprint(sort_dic[i][0], sort_dic[i][1])"
      ],
      "execution_count": null,
      "outputs": []
    },
    {
      "cell_type": "code",
      "metadata": {
        "colab": {
          "base_uri": "https://localhost:8080/"
        },
        "id": "6oldSEba4aOR",
        "outputId": "4c1903d1-b13b-41c8-959c-a04f1ca31bf7"
      },
      "source": [
        "for i in range(20):\n",
        "\tprint(sort_dic[i][0], sort_dic[i][1])"
      ],
      "execution_count": null,
      "outputs": [
        {
          "output_type": "stream",
          "name": "stdout",
          "text": [
            "POTUS45 72\n",
            "BarackObama 68\n",
            "WhiteHouse45 64\n",
            "elonmusk 61\n",
            "BBCBreaking 60\n",
            "nytimes 57\n",
            "JoeBiden 56\n",
            "BBCWorld 55\n",
            "AP 55\n",
            "Reuters 52\n",
            "NASA 51\n",
            "cnnbrk 47\n",
            "SecPompeo 45\n",
            "SpeakerPelosi 45\n",
            "TuckerCarlson 44\n",
            "HillaryClinton 44\n",
            "RealJamesWoods 43\n",
            "DonaldJTrumpJr 43\n",
            "FLOTUS45 43\n",
            "VP45 42\n"
          ]
        }
      ]
    },
    {
      "cell_type": "code",
      "metadata": {
        "id": "Vusd5LW459Ft"
      },
      "source": [
        "d = pd.DataFrame(0, index=np.arange(len(sort_dic)), columns=['names','followers'])\n",
        "for i in range(len(D)):\n",
        "  d['names'][i] = sort_dic[i][0]\n",
        "  d['followers'][i] = sort_dic[i][1]\n",
        "\n",
        "d.head(20)"
      ],
      "execution_count": null,
      "outputs": []
    },
    {
      "cell_type": "code",
      "metadata": {
        "colab": {
          "base_uri": "https://localhost:8080/",
          "height": 17
        },
        "id": "7kHEYQc16oio",
        "outputId": "85c648b3-50c9-48ec-b394-53044ea534ea"
      },
      "source": [
        "from google.colab import files\n",
        "d.to_csv(\"Hate Foll_ranking.csv\", index=False)\n",
        "files.download(\"Hate Foll_ranking.csv\")"
      ],
      "execution_count": null,
      "outputs": [
        {
          "output_type": "display_data",
          "data": {
            "application/javascript": [
              "\n",
              "    async function download(id, filename, size) {\n",
              "      if (!google.colab.kernel.accessAllowed) {\n",
              "        return;\n",
              "      }\n",
              "      const div = document.createElement('div');\n",
              "      const label = document.createElement('label');\n",
              "      label.textContent = `Downloading \"${filename}\": `;\n",
              "      div.appendChild(label);\n",
              "      const progress = document.createElement('progress');\n",
              "      progress.max = size;\n",
              "      div.appendChild(progress);\n",
              "      document.body.appendChild(div);\n",
              "\n",
              "      const buffers = [];\n",
              "      let downloaded = 0;\n",
              "\n",
              "      const channel = await google.colab.kernel.comms.open(id);\n",
              "      // Send a message to notify the kernel that we're ready.\n",
              "      channel.send({})\n",
              "\n",
              "      for await (const message of channel.messages) {\n",
              "        // Send a message to notify the kernel that we're ready.\n",
              "        channel.send({})\n",
              "        if (message.buffers) {\n",
              "          for (const buffer of message.buffers) {\n",
              "            buffers.push(buffer);\n",
              "            downloaded += buffer.byteLength;\n",
              "            progress.value = downloaded;\n",
              "          }\n",
              "        }\n",
              "      }\n",
              "      const blob = new Blob(buffers, {type: 'application/binary'});\n",
              "      const a = document.createElement('a');\n",
              "      a.href = window.URL.createObjectURL(blob);\n",
              "      a.download = filename;\n",
              "      div.appendChild(a);\n",
              "      a.click();\n",
              "      div.remove();\n",
              "    }\n",
              "  "
            ],
            "text/plain": [
              "<IPython.core.display.Javascript object>"
            ]
          },
          "metadata": {}
        },
        {
          "output_type": "display_data",
          "data": {
            "application/javascript": [
              "download(\"download_0d71cb6d-f88c-4b41-8df6-0904dc8520a7\", \"Hate Foll_ranking.csv\", 965048)"
            ],
            "text/plain": [
              "<IPython.core.display.Javascript object>"
            ]
          },
          "metadata": {}
        }
      ]
    },
    {
      "cell_type": "code",
      "metadata": {
        "id": "fKZ733Nt76zf"
      },
      "source": [
        "# Non-Hate users\n",
        "\n",
        "with open(\"/content/drive/MyDrive/List3_Mar_16-26.csv\", mode='r') as inp:\n",
        "    reader = csv.reader(inp)\n",
        "    D = {rows[0]:rows[1] for rows in reader}\n",
        "\n",
        "for i in range(len(D)): # len(D)\n",
        "  D[list(D.keys())[i]] = ast.literal_eval(list(D.values())[i])\n",
        "\n",
        "dic = {}\n",
        "for i in range(len(D)):\n",
        "  if list(D.values())[i]!=['Nan']:\n",
        "    for j in range(len(list(D.values())[i])):\n",
        "\n",
        "      if list(D.values())[i][j] in dic:\n",
        "        dic[list(D.values())[i][j]] = dic[list(D.values())[i][j]] + 1\n",
        "\n",
        "      else:\n",
        "        dic[list(D.values())[i][j]] = 1  \n",
        "       "
      ],
      "execution_count": null,
      "outputs": []
    },
    {
      "cell_type": "code",
      "metadata": {
        "colab": {
          "base_uri": "https://localhost:8080/"
        },
        "id": "vAtidZfg8D_e",
        "outputId": "991b749a-bda4-4dea-d672-1b349af6dc41"
      },
      "source": [
        "sort_dic = sorted(dic.items(), key=lambda x: x[1], reverse=True)\n",
        "\n",
        "# for i in range(len(sort_dic)):\n",
        "# \tprint(sort_dic[i][0], sort_dic[i][1])\n",
        "\n",
        "for i in range(20):\n",
        "\tprint(sort_dic[i][0], sort_dic[i][1])"
      ],
      "execution_count": null,
      "outputs": [
        {
          "output_type": "stream",
          "name": "stdout",
          "text": [
            "BarackObama 270\n",
            "POTUS45 247\n",
            "elonmusk 234\n",
            "WhiteHouse45 202\n",
            "JoeBiden 195\n",
            "DonaldJTrumpJr 184\n",
            "BBCBreaking 181\n",
            "AOC 180\n",
            "TuckerCarlson 176\n",
            "nytimes 174\n",
            "RealJamesWoods 171\n",
            "PressSec45 170\n",
            "RealCandaceO 169\n",
            "CNN 166\n",
            "NASA 166\n",
            "FLOTUS45 166\n",
            "AP 165\n",
            "IvankaTrump 163\n",
            "BBCWorld 159\n",
            "washingtonpost 158\n"
          ]
        }
      ]
    },
    {
      "cell_type": "code",
      "metadata": {
        "id": "x2571FxA8EE0"
      },
      "source": [
        "d = pd.DataFrame(0, index=np.arange(len(sort_dic)), columns=['names','followers'])\n",
        "for i in range(len(D)):\n",
        "  d['names'][i] = sort_dic[i][0]\n",
        "  d['followers'][i] = sort_dic[i][1]\n",
        "\n",
        "d.head(20)"
      ],
      "execution_count": null,
      "outputs": []
    },
    {
      "cell_type": "code",
      "metadata": {
        "colab": {
          "base_uri": "https://localhost:8080/",
          "height": 34
        },
        "id": "M_RwDPCp8EPc",
        "outputId": "195d31ae-a5ae-40d2-c032-bb63a55a958a"
      },
      "source": [
        "from google.colab import files\n",
        "d.to_csv(\"Non-Hate Foll_ranking.csv\", index=False)\n",
        "files.download(\"Non-Hate Foll_ranking.csv\")"
      ],
      "execution_count": null,
      "outputs": [
        {
          "output_type": "display_data",
          "data": {
            "application/javascript": [
              "\n",
              "    async function download(id, filename, size) {\n",
              "      if (!google.colab.kernel.accessAllowed) {\n",
              "        return;\n",
              "      }\n",
              "      const div = document.createElement('div');\n",
              "      const label = document.createElement('label');\n",
              "      label.textContent = `Downloading \"${filename}\": `;\n",
              "      div.appendChild(label);\n",
              "      const progress = document.createElement('progress');\n",
              "      progress.max = size;\n",
              "      div.appendChild(progress);\n",
              "      document.body.appendChild(div);\n",
              "\n",
              "      const buffers = [];\n",
              "      let downloaded = 0;\n",
              "\n",
              "      const channel = await google.colab.kernel.comms.open(id);\n",
              "      // Send a message to notify the kernel that we're ready.\n",
              "      channel.send({})\n",
              "\n",
              "      for await (const message of channel.messages) {\n",
              "        // Send a message to notify the kernel that we're ready.\n",
              "        channel.send({})\n",
              "        if (message.buffers) {\n",
              "          for (const buffer of message.buffers) {\n",
              "            buffers.push(buffer);\n",
              "            downloaded += buffer.byteLength;\n",
              "            progress.value = downloaded;\n",
              "          }\n",
              "        }\n",
              "      }\n",
              "      const blob = new Blob(buffers, {type: 'application/binary'});\n",
              "      const a = document.createElement('a');\n",
              "      a.href = window.URL.createObjectURL(blob);\n",
              "      a.download = filename;\n",
              "      div.appendChild(a);\n",
              "      a.click();\n",
              "      div.remove();\n",
              "    }\n",
              "  "
            ],
            "text/plain": [
              "<IPython.core.display.Javascript object>"
            ]
          },
          "metadata": {}
        },
        {
          "output_type": "display_data",
          "data": {
            "application/javascript": [
              "download(\"download_a6449a9b-cd72-44b0-a1b4-747ee4609880\", \"Non-Hate Foll_ranking.csv\", 3788363)"
            ],
            "text/plain": [
              "<IPython.core.display.Javascript object>"
            ]
          },
          "metadata": {}
        }
      ]
    }
  ]
}