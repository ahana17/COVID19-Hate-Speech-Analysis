{
  "nbformat": 4,
  "nbformat_minor": 0,
  "metadata": {
    "colab": {
      "name": "locationdata_nonhate.ipynb",
      "provenance": []
    },
    "kernelspec": {
      "name": "python3",
      "display_name": "Python 3"
    },
    "language_info": {
      "name": "python"
    }
  },
  "cells": [
    {
      "cell_type": "code",
      "execution_count": null,
      "metadata": {
        "colab": {
          "base_uri": "https://localhost:8080/"
        },
        "id": "jcN_i7FF3v6X",
        "outputId": "a8245ba7-bf5d-4bf5-ae2c-28d6ac1762eb"
      },
      "outputs": [
        {
          "output_type": "stream",
          "name": "stdout",
          "text": [
            "Mounted at /content/drive\n"
          ]
        }
      ],
      "source": [
        "import pandas as pd\n",
        "import csv\n",
        "import numpy as np\n",
        "import os\n",
        "from google.colab import drive\n",
        "import matplotlib.pyplot as plt\n",
        "\n",
        "drive.mount(\"/content/drive\")"
      ]
    },
    {
      "cell_type": "code",
      "source": [
        "def get_country(location):\n",
        "  result = [x.strip() for x in location.split(',')]\n",
        "  return result[-1]\n",
        "\n",
        "countries_str = \"Abuja, Nigeria, Nigeria\"\n",
        "print(get_country(countries_str))\n"
      ],
      "metadata": {
        "colab": {
          "base_uri": "https://localhost:8080/"
        },
        "id": "Vxv-9mCO4E02",
        "outputId": "90207565-ed9e-45db-d17d-ae10538811f6"
      },
      "execution_count": null,
      "outputs": [
        {
          "output_type": "stream",
          "name": "stdout",
          "text": [
            "Nigeria\n"
          ]
        }
      ]
    },
    {
      "cell_type": "code",
      "source": [
        "def getCountriesData(mon):\n",
        "  countries_all = None\n",
        "  for d in range(1,mon.days+1):\n",
        "  \n",
        "    d_str = ''\n",
        "    if d < 10:\n",
        "      d_str += '0'\n",
        "    d_str += str(d)    \n",
        "    # dir = driveDir + \"keyword_based_dataset_no_dup/\" + mon.name + \"/\" + mon.name + \" \" + d_str + \".csv\"\n",
        "    dir = \"/content/drive/MyDrive/March tweets/\" + mon.name + \" \" + d_str  + \".csv\"\n",
        "    \n",
        "    filename = mon.name + \" \" + d_str + \".csv\" \n",
        "    if os.path.exists(dir):\n",
        "      # df = pd.read_csv(dir, encoding='utf-8', parse_dates=[\"created_at\"])\n",
        "      df = pd.read_csv(dir)\n",
        "      df.columns = ['id','score','full_text','created_at','user_sn','follower_count','rt_count','fv_count','longitude','latitude','location','user_location']\n",
        "      print('read from ' + dir)\n",
        "      hate_df_userloc = df[(df['score']<4) & (df['location'].notna())]\n",
        "      countries = hate_df_userloc['location'].apply(lambda x: get_country(x))   \n",
        "      if countries_all is None:\n",
        "        countries_all = countries\n",
        "      else:\n",
        "        print('appending')\n",
        "        countries_all = countries_all.append(countries)\n",
        "    print('shape: ', countries_all.shape)\n",
        "  return countries_all\n",
        "\n",
        "\n",
        "def save_df(save_df, save_dir, filename):\n",
        "  if not os.path.exists(save_dir):\n",
        "    os.makedirs(save_dir)\n",
        "    print('created dir ' + save_dir)\n",
        "  print('saving to ' + filename)\n",
        "  save_df.to_csv(save_dir+filename, encoding='utf-8')\n",
        "  print('saved')"
      ],
      "metadata": {
        "id": "poMl2JxC4XLE"
      },
      "execution_count": null,
      "outputs": []
    },
    {
      "cell_type": "code",
      "source": [
        "class month:\n",
        "  def __init__(self, name, num, days):\n",
        "    self.name = name\n",
        "    self.num = num\n",
        "    self.days = days\n",
        "mon = month('Mar', 3, 31)\n",
        "\n",
        "df = getCountriesData(mon)\n",
        "vc = df.value_counts()\n",
        "filename = mon.name + \"-loc-nonhate(1-31).csv\" \n",
        "driveDir = \"/content/drive/MyDrive/\"\n",
        "save_dir = driveDir + \"user_loc/\"\n",
        "save_df(vc, save_dir, filename)\n",
        "\n",
        "vc"
      ],
      "metadata": {
        "id": "UkWbnwVe4X0u",
        "colab": {
          "base_uri": "https://localhost:8080/"
        },
        "outputId": "acab54e6-e7c9-4cae-b7a4-cf9e709224d8"
      },
      "execution_count": null,
      "outputs": [
        {
          "output_type": "stream",
          "name": "stdout",
          "text": [
            "read from /content/drive/MyDrive/March tweets/Mar 01.csv\n",
            "shape:  (1353,)\n",
            "read from /content/drive/MyDrive/March tweets/Mar 02.csv\n",
            "appending\n",
            "shape:  (1541,)\n",
            "read from /content/drive/MyDrive/March tweets/Mar 03.csv\n",
            "appending\n",
            "shape:  (2649,)\n",
            "read from /content/drive/MyDrive/March tweets/Mar 04.csv\n",
            "appending\n",
            "shape:  (3900,)\n",
            "read from /content/drive/MyDrive/March tweets/Mar 05.csv\n",
            "appending\n",
            "shape:  (4327,)\n",
            "read from /content/drive/MyDrive/March tweets/Mar 06.csv\n",
            "appending\n",
            "shape:  (4718,)\n",
            "read from /content/drive/MyDrive/March tweets/Mar 07.csv\n",
            "appending\n",
            "shape:  (5115,)\n",
            "read from /content/drive/MyDrive/March tweets/Mar 08.csv\n",
            "appending\n",
            "shape:  (5495,)\n",
            "read from /content/drive/MyDrive/March tweets/Mar 09.csv\n",
            "appending\n",
            "shape:  (5882,)\n",
            "read from /content/drive/MyDrive/March tweets/Mar 10.csv\n",
            "appending\n",
            "shape:  (6370,)\n",
            "read from /content/drive/MyDrive/March tweets/Mar 11.csv\n",
            "appending\n",
            "shape:  (6775,)\n",
            "read from /content/drive/MyDrive/March tweets/Mar 12.csv\n",
            "appending\n",
            "shape:  (7146,)\n",
            "read from /content/drive/MyDrive/March tweets/Mar 13.csv\n",
            "appending\n",
            "shape:  (7531,)\n",
            "read from /content/drive/MyDrive/March tweets/Mar 14.csv\n",
            "appending\n",
            "shape:  (7899,)\n",
            "read from /content/drive/MyDrive/March tweets/Mar 15.csv\n",
            "appending\n",
            "shape:  (8190,)\n",
            "read from /content/drive/MyDrive/March tweets/Mar 16.csv\n",
            "appending\n",
            "shape:  (8493,)\n",
            "read from /content/drive/MyDrive/March tweets/Mar 17.csv\n",
            "appending\n",
            "shape:  (8992,)\n",
            "read from /content/drive/MyDrive/March tweets/Mar 18.csv\n",
            "appending\n",
            "shape:  (9599,)\n",
            "read from /content/drive/MyDrive/March tweets/Mar 19.csv\n",
            "appending\n",
            "shape:  (10248,)\n",
            "read from /content/drive/MyDrive/March tweets/Mar 20.csv\n",
            "appending\n",
            "shape:  (10769,)\n",
            "read from /content/drive/MyDrive/March tweets/Mar 21.csv\n",
            "appending\n",
            "shape:  (11213,)\n",
            "read from /content/drive/MyDrive/March tweets/Mar 22.csv\n",
            "appending\n",
            "shape:  (11770,)\n",
            "read from /content/drive/MyDrive/March tweets/Mar 23.csv\n",
            "appending\n",
            "shape:  (12221,)\n",
            "read from /content/drive/MyDrive/March tweets/Mar 24.csv\n",
            "appending\n",
            "shape:  (12828,)\n",
            "read from /content/drive/MyDrive/March tweets/Mar 25.csv\n",
            "appending\n",
            "shape:  (13421,)\n",
            "read from /content/drive/MyDrive/March tweets/Mar 26.csv\n",
            "appending\n",
            "shape:  (14311,)\n",
            "read from /content/drive/MyDrive/March tweets/Mar 27.csv\n",
            "appending\n",
            "shape:  (15265,)\n",
            "read from /content/drive/MyDrive/March tweets/Mar 28.csv\n",
            "appending\n",
            "shape:  (15862,)\n",
            "read from /content/drive/MyDrive/March tweets/Mar 29.csv\n",
            "appending\n",
            "shape:  (16656,)\n",
            "read from /content/drive/MyDrive/March tweets/Mar 30.csv\n",
            "appending\n",
            "shape:  (17312,)\n",
            "read from /content/drive/MyDrive/March tweets/Mar 31.csv\n",
            "appending\n",
            "shape:  (17908,)\n",
            "saving to Mar-loc-nonhate(1-31).csv\n",
            "saved\n"
          ]
        },
        {
          "output_type": "execute_result",
          "data": {
            "text/plain": [
              "United States                 7302\n",
              "India                         2533\n",
              "United Kingdom                1456\n",
              "Canada                         745\n",
              "People's Republic of China     735\n",
              "                              ... \n",
              "Kazakhstan                       1\n",
              "Republic of Belarus              1\n",
              "Guinea Bissau                    1\n",
              "Guyana                           1\n",
              "Dominica                         1\n",
              "Name: location, Length: 155, dtype: int64"
            ]
          },
          "metadata": {},
          "execution_count": 10
        }
      ]
    }
  ]
}