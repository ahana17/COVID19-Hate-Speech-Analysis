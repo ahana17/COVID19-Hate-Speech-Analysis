{
  "nbformat": 4,
  "nbformat_minor": 0,
  "metadata": {
    "colab": {
      "name": "Granger Causality (Hate Score & Stock).ipynb",
      "provenance": []
    },
    "kernelspec": {
      "name": "python3",
      "display_name": "Python 3"
    },
    "language_info": {
      "name": "python"
    }
  },
  "cells": [
    {
      "cell_type": "code",
      "metadata": {
        "id": "C_BitFh3VgL_"
      },
      "source": [
        "from google.colab import auth\n",
        "auth.authenticate_user()\n",
        "import requests\n",
        "import gspread\n",
        "from oauth2client.client import GoogleCredentials\n",
        "gc = gspread.authorize(GoogleCredentials.get_application_default())"
      ],
      "execution_count": null,
      "outputs": []
    },
    {
      "cell_type": "markdown",
      "metadata": {
        "id": "UKUJuoOeCDBc"
      },
      "source": [
        "NOTE for Granger Causality test:\n",
        "The row are the response (y) and the columns are the predictors (x). \n",
        "If a given p-value is < significance level (0.05), for example, take the value in (row 1, column 2), \n",
        "we can reject the null hypothesis and conclude that x Granger causes y, i.e., the col_variable Granger causes the row_variable\n",
        "Likewise, a value > 0.05 refers to col_variable does not Granger cause the row_variable.\n"
      ]
    },
    {
      "cell_type": "markdown",
      "metadata": {
        "id": "bmd-UoN_P8IE"
      },
      "source": [
        "Causality with Stock Rise\n"
      ]
    },
    {
      "cell_type": "code",
      "metadata": {
        "colab": {
          "base_uri": "https://localhost:8080/",
          "height": 203
        },
        "id": "aoWj9PXUdQn5",
        "outputId": "ecbdbb96-a691-4396-afb3-47c92c5b45e0"
      },
      "source": [
        "import pandas as pd\n",
        "import numpy as np\n",
        "from sklearn import preprocessing\n",
        "\n",
        "sheetname=\"Hate Score & Stock CDP Binary & Z-score\" # Enter Sheet name without using extention\n",
        "sh = gc.open(sheetname)\n",
        "worksheet = sh.sheet1\n",
        "sheets = worksheet.get_all_values()\n",
        "\n",
        "df = pd.DataFrame(sheets[10:], columns=sheets[0])\n",
        "df = df[['HS', 'Stock']]\n",
        "\n",
        "for i in range (0,len(df['Stock'])-1):\n",
        "  if (df['Stock'][i]=='NaN'):\n",
        "    df['Stock'][i]=np.nan\n",
        "\n",
        "df.tail()\n",
        "#152 last element"
      ],
      "execution_count": null,
      "outputs": [
        {
          "output_type": "execute_result",
          "data": {
            "text/html": [
              "<div>\n",
              "<style scoped>\n",
              "    .dataframe tbody tr th:only-of-type {\n",
              "        vertical-align: middle;\n",
              "    }\n",
              "\n",
              "    .dataframe tbody tr th {\n",
              "        vertical-align: top;\n",
              "    }\n",
              "\n",
              "    .dataframe thead th {\n",
              "        text-align: right;\n",
              "    }\n",
              "</style>\n",
              "<table border=\"1\" class=\"dataframe\">\n",
              "  <thead>\n",
              "    <tr style=\"text-align: right;\">\n",
              "      <th></th>\n",
              "      <th>HS</th>\n",
              "      <th>Stock</th>\n",
              "    </tr>\n",
              "  </thead>\n",
              "  <tbody>\n",
              "    <tr>\n",
              "      <th>139</th>\n",
              "      <td>0</td>\n",
              "      <td>0</td>\n",
              "    </tr>\n",
              "    <tr>\n",
              "      <th>140</th>\n",
              "      <td>0</td>\n",
              "      <td>0</td>\n",
              "    </tr>\n",
              "    <tr>\n",
              "      <th>141</th>\n",
              "      <td>0</td>\n",
              "      <td>0</td>\n",
              "    </tr>\n",
              "    <tr>\n",
              "      <th>142</th>\n",
              "      <td>0.784312603</td>\n",
              "      <td>0</td>\n",
              "    </tr>\n",
              "    <tr>\n",
              "      <th>143</th>\n",
              "      <td>0.612440383</td>\n",
              "      <td>0</td>\n",
              "    </tr>\n",
              "  </tbody>\n",
              "</table>\n",
              "</div>"
            ],
            "text/plain": [
              "              HS Stock\n",
              "139            0     0\n",
              "140            0     0\n",
              "141            0     0\n",
              "142  0.784312603     0\n",
              "143  0.612440383     0"
            ]
          },
          "metadata": {},
          "execution_count": 128
        }
      ]
    },
    {
      "cell_type": "code",
      "metadata": {
        "id": "nRrzzDsrcXNW"
      },
      "source": [
        "# data = df\n",
        "# data.isnull().sum()\n",
        "# data.isnull().sum()/len(data)\n",
        "\n",
        "# Replace NaN values with rolling mean of data\n",
        "df['Stock']=df['Stock'].fillna((df['Stock'].rolling(min_periods=1, center=True, window=7).mean()))\n",
        "\n",
        "# df.head(27)"
      ],
      "execution_count": null,
      "outputs": []
    },
    {
      "cell_type": "code",
      "metadata": {
        "colab": {
          "base_uri": "https://localhost:8080/"
        },
        "id": "fxo0L1vDd_tH",
        "outputId": "46f94da2-9c16-4311-8d65-d80299821225"
      },
      "source": [
        "# ADF test to check stationarity\n",
        "\n",
        "# df = df.drop(['Date'], axis=1)\n",
        "\n",
        "n_obs = 100\n",
        "df_train, df_test = df[0:-n_obs], df[-n_obs:]\n",
        "\n",
        "from statsmodels.tsa.stattools import adfuller\n",
        "\n",
        "def adf_test(df):\n",
        "    result = adfuller(df.values, autolag='AIC') #adfuller will choose a the number of lags that yields the lowest AIC\n",
        "    print('ADF Statistics: %f' % result[0])\n",
        "    print('p-value: %f' % result[1])\n",
        "    print('Critical values:')\n",
        "    for key, value in result[4].items():\n",
        "        print('\\t%s: %.3f' % (key, value))\n",
        "        \n",
        "print('ADF Test: Hate time series')\n",
        "adf_test(df_train['HS'].astype(float))\n",
        "print('ADF Test: Stock time series')\n",
        "adf_test(df_train['Stock'].astype(float))\n",
        "\n",
        "# If p-value < 0.05 we reject the null hypothesis, i.e, data is stationary\n",
        "# else if p-value > 0.05 we are unable to reject the null hypothesis i.e, data is non-stationary"
      ],
      "execution_count": null,
      "outputs": [
        {
          "output_type": "stream",
          "text": [
            "ADF Test: Hate time series\n",
            "ADF Statistics: -3.917986\n",
            "p-value: 0.001906\n",
            "Critical values:\n",
            "\t1%: -3.593\n",
            "\t5%: -2.932\n",
            "\t10%: -2.604\n",
            "ADF Test: Stock time series\n",
            "ADF Statistics: -2.085346\n",
            "p-value: 0.250448\n",
            "Critical values:\n",
            "\t1%: -3.597\n",
            "\t5%: -2.933\n",
            "\t10%: -2.605\n"
          ],
          "name": "stdout"
        }
      ]
    },
    {
      "cell_type": "code",
      "metadata": {
        "colab": {
          "base_uri": "https://localhost:8080/"
        },
        "id": "8sD3zdQgLhrB",
        "outputId": "4f4f7df8-b06a-4a47-abd7-816a3013bce0"
      },
      "source": [
        "# KPSS test to check stationarity around a mean\n",
        "\n",
        "from statsmodels.tsa.stattools import kpss\n",
        "\n",
        "def kpss_test(df):    \n",
        "    statistic, p_value, n_lags, critical_values = kpss(df.values)\n",
        "    \n",
        "    print(f'KPSS Statistic: {statistic}')\n",
        "    print(f'p-value: {p_value}')\n",
        "    print(f'num lags: {n_lags}')\n",
        "    print('Critial Values:')\n",
        "    for key, value in critical_values.items():\n",
        "        print(f'   {key} : {value}')\n",
        "        \n",
        "print('KPSS Test: Hate time series')\n",
        "kpss_test(df_train['HS'].astype(float))\n",
        "print('KPSS Test: Stock time series')\n",
        "kpss_test(df_train['Stock'].astype(float))\n",
        "\n",
        "# If p-value < 0.05 we reject the null hypothesis, i.e, data is non-stationary\n",
        "#else if p-value > 0.05 we select the null hypothesis i.e, data is stationary\n",
        "#A key difference from ADF test is the null hypothesis of the KPSS test is that the series is stationary"
      ],
      "execution_count": null,
      "outputs": [
        {
          "output_type": "stream",
          "text": [
            "KPSS Test: Hate time series\n",
            "KPSS Statistic: 0.341655703691674\n",
            "p-value: 0.1\n",
            "num lags: 10\n",
            "Critial Values:\n",
            "   10% : 0.347\n",
            "   5% : 0.463\n",
            "   2.5% : 0.574\n",
            "   1% : 0.739\n",
            "KPSS Test: Stock time series\n",
            "KPSS Statistic: 0.28874003355969646\n",
            "p-value: 0.1\n",
            "num lags: 10\n",
            "Critial Values:\n",
            "   10% : 0.347\n",
            "   5% : 0.463\n",
            "   2.5% : 0.574\n",
            "   1% : 0.739\n"
          ],
          "name": "stdout"
        },
        {
          "output_type": "stream",
          "text": [
            "/usr/local/lib/python3.7/dist-packages/statsmodels/tsa/stattools.py:1685: FutureWarning: The behavior of using lags=None will change in the next release. Currently lags=None is the same as lags='legacy', and so a sample-size lag length is used. After the next release, the default will change to be the same as lags='auto' which uses an automatic lag length selection method. To silence this warning, either use 'auto' or 'legacy'\n",
            "  warn(msg, FutureWarning)\n",
            "/usr/local/lib/python3.7/dist-packages/statsmodels/tsa/stattools.py:1711: InterpolationWarning: p-value is greater than the indicated p-value\n",
            "  warn(\"p-value is greater than the indicated p-value\", InterpolationWarning)\n",
            "/usr/local/lib/python3.7/dist-packages/statsmodels/tsa/stattools.py:1711: InterpolationWarning: p-value is greater than the indicated p-value\n",
            "  warn(\"p-value is greater than the indicated p-value\", InterpolationWarning)\n"
          ],
          "name": "stderr"
        }
      ]
    },
    {
      "cell_type": "code",
      "metadata": {
        "colab": {
          "base_uri": "https://localhost:8080/"
        },
        "id": "OmHbxYVHHElf",
        "outputId": "65cc0931-9bb6-469e-828c-93dd3b5b131f"
      },
      "source": [
        "df_train['HS'] = df_train['HS'].astype(float)\n",
        "df_train['Stock'] = df_train['Stock'].astype(float)\n",
        "\n",
        "df_train_transformed = df_train"
      ],
      "execution_count": null,
      "outputs": [
        {
          "output_type": "stream",
          "text": [
            "/usr/local/lib/python3.7/dist-packages/ipykernel_launcher.py:1: SettingWithCopyWarning: \n",
            "A value is trying to be set on a copy of a slice from a DataFrame.\n",
            "Try using .loc[row_indexer,col_indexer] = value instead\n",
            "\n",
            "See the caveats in the documentation: https://pandas.pydata.org/pandas-docs/stable/user_guide/indexing.html#returning-a-view-versus-a-copy\n",
            "  \"\"\"Entry point for launching an IPython kernel.\n",
            "/usr/local/lib/python3.7/dist-packages/ipykernel_launcher.py:2: SettingWithCopyWarning: \n",
            "A value is trying to be set on a copy of a slice from a DataFrame.\n",
            "Try using .loc[row_indexer,col_indexer] = value instead\n",
            "\n",
            "See the caveats in the documentation: https://pandas.pydata.org/pandas-docs/stable/user_guide/indexing.html#returning-a-view-versus-a-copy\n",
            "  \n"
          ],
          "name": "stderr"
        }
      ]
    },
    {
      "cell_type": "code",
      "metadata": {
        "colab": {
          "base_uri": "https://localhost:8080/",
          "height": 1000
        },
        "id": "AJIxglDCTB-Q",
        "outputId": "55c34c1d-6e68-4556-a5f0-cc5baf4d543b"
      },
      "source": [
        "# VAR method (assumes time series are stationary)\n",
        "from statsmodels.tsa.api import VAR\n",
        "\n",
        "model = VAR(df_train_transformed.astype(float))\n",
        "for i in range(0,30):\n",
        "    result = model.fit(i)\n",
        "    print('Lag Order =', i)\n",
        "    print('AIC : ', result.aic)\n",
        "    print('BIC : ', result.bic)\n",
        "    print('FPE : ', result.fpe)\n",
        "    print('HQIC: ', result.hqic, '\\n')"
      ],
      "execution_count": null,
      "outputs": [
        {
          "output_type": "stream",
          "text": [
            "Lag Order = 0\n",
            "AIC :  -3.6286401905068377\n",
            "BIC :  -3.5475406616923713\n",
            "FPE :  0.026552681633161195\n",
            "HQIC:  -3.598564575542676 \n",
            "\n",
            "Lag Order = 1\n",
            "AIC :  -4.082065429470546\n",
            "BIC :  -3.8363165761179556\n",
            "FPE :  0.01688024438453881\n",
            "HQIC:  -3.99144084728063 \n",
            "\n",
            "Lag Order = 2\n",
            "AIC :  -4.06596059973697\n",
            "BIC :  -3.65222973824093\n",
            "FPE :  0.017185458345263405\n",
            "HQIC:  -3.9143118756868134 \n",
            "\n",
            "Lag Order = 3\n",
            "AIC :  -3.9213511620907426\n",
            "BIC :  -3.336228992972199\n",
            "FPE :  0.01994858593168762\n",
            "HQIC:  -3.7082819286928093 \n",
            "\n",
            "Lag Order = 4\n",
            "AIC :  -3.7188661485754886\n",
            "BIC :  -2.958870394224217\n",
            "FPE :  0.02464453858831351\n",
            "HQIC:  -3.4440756817085756 \n",
            "\n",
            "Lag Order = 5\n",
            "AIC :  -3.49821209681116\n",
            "BIC :  -2.559792706686744\n",
            "FPE :  0.03121738166918448\n",
            "HQIC:  -3.1615152950177348 \n",
            "\n",
            "Lag Order = 6\n",
            "AIC :  -3.298625267299707\n",
            "BIC :  -2.1781715790658644\n",
            "FPE :  0.039119011434305254\n",
            "HQIC:  -2.8999764100768126 \n",
            "\n",
            "Lag Order = 7\n",
            "AIC :  -3.415297569658276\n",
            "BIC :  -2.109147910757554\n",
            "FPE :  0.03627898391669622\n",
            "HQIC:  -2.954818635408012 \n",
            "\n",
            "Lag Order = 8\n",
            "AIC :  -3.4897043525848113\n",
            "BIC :  -1.9941586884873743\n",
            "FPE :  0.0359046892334274\n",
            "HQIC:  -2.967718858937669 \n",
            "\n",
            "Lag Order = 9\n",
            "AIC :  -3.256317996722705\n",
            "BIC :  -1.5676543871056272\n",
            "FPE :  0.05003883277462555\n",
            "HQIC:  -2.673391556147159 \n",
            "\n",
            "Lag Order = 10\n",
            "AIC :  -3.426804125516128\n",
            "BIC :  -1.5412999480491045\n",
            "FPE :  0.0491624722701864\n",
            "HQIC:  -2.783793201890952 \n",
            "\n",
            "Lag Order = 11\n",
            "AIC :  -3.589253653978841\n",
            "BIC :  -1.5032128107225358\n",
            "FPE :  0.05331171137293663\n",
            "HQIC:  -2.8873643803978104 \n",
            "\n",
            "Lag Order = 12\n",
            "AIC :  -3.8031893043688694\n",
            "BIC :  -1.5129769562442963\n",
            "FPE :  0.06496497069020502\n",
            "HQIC:  -3.0440487048300064 \n",
            "\n",
            "Lag Order = 13\n",
            "AIC :  -5.532861666030088\n",
            "BIC :  -3.0349484711204795\n",
            "FPE :  0.025516363291317404\n",
            "HQIC:  -4.718604249093622 \n",
            "\n",
            "Lag Order = 14\n"
          ],
          "name": "stdout"
        },
        {
          "output_type": "error",
          "ename": "LinAlgError",
          "evalue": "ignored",
          "traceback": [
            "\u001b[0;31m---------------------------------------------------------------------------\u001b[0m",
            "\u001b[0;31mLinAlgError\u001b[0m                               Traceback (most recent call last)",
            "\u001b[0;32m<ipython-input-133-6cc66adc6c89>\u001b[0m in \u001b[0;36m<module>\u001b[0;34m()\u001b[0m\n\u001b[1;32m      6\u001b[0m     \u001b[0mresult\u001b[0m \u001b[0;34m=\u001b[0m \u001b[0mmodel\u001b[0m\u001b[0;34m.\u001b[0m\u001b[0mfit\u001b[0m\u001b[0;34m(\u001b[0m\u001b[0mi\u001b[0m\u001b[0;34m)\u001b[0m\u001b[0;34m\u001b[0m\u001b[0;34m\u001b[0m\u001b[0m\n\u001b[1;32m      7\u001b[0m     \u001b[0mprint\u001b[0m\u001b[0;34m(\u001b[0m\u001b[0;34m'Lag Order ='\u001b[0m\u001b[0;34m,\u001b[0m \u001b[0mi\u001b[0m\u001b[0;34m)\u001b[0m\u001b[0;34m\u001b[0m\u001b[0;34m\u001b[0m\u001b[0m\n\u001b[0;32m----> 8\u001b[0;31m     \u001b[0mprint\u001b[0m\u001b[0;34m(\u001b[0m\u001b[0;34m'AIC : '\u001b[0m\u001b[0;34m,\u001b[0m \u001b[0mresult\u001b[0m\u001b[0;34m.\u001b[0m\u001b[0maic\u001b[0m\u001b[0;34m)\u001b[0m\u001b[0;34m\u001b[0m\u001b[0;34m\u001b[0m\u001b[0m\n\u001b[0m\u001b[1;32m      9\u001b[0m     \u001b[0mprint\u001b[0m\u001b[0;34m(\u001b[0m\u001b[0;34m'BIC : '\u001b[0m\u001b[0;34m,\u001b[0m \u001b[0mresult\u001b[0m\u001b[0;34m.\u001b[0m\u001b[0mbic\u001b[0m\u001b[0;34m)\u001b[0m\u001b[0;34m\u001b[0m\u001b[0;34m\u001b[0m\u001b[0m\n\u001b[1;32m     10\u001b[0m     \u001b[0mprint\u001b[0m\u001b[0;34m(\u001b[0m\u001b[0;34m'FPE : '\u001b[0m\u001b[0;34m,\u001b[0m \u001b[0mresult\u001b[0m\u001b[0;34m.\u001b[0m\u001b[0mfpe\u001b[0m\u001b[0;34m)\u001b[0m\u001b[0;34m\u001b[0m\u001b[0;34m\u001b[0m\u001b[0m\n",
            "\u001b[0;32m/usr/local/lib/python3.7/dist-packages/statsmodels/base/wrapper.py\u001b[0m in \u001b[0;36m__getattribute__\u001b[0;34m(self, attr)\u001b[0m\n\u001b[1;32m     33\u001b[0m             \u001b[0;32mpass\u001b[0m\u001b[0;34m\u001b[0m\u001b[0;34m\u001b[0m\u001b[0m\n\u001b[1;32m     34\u001b[0m \u001b[0;34m\u001b[0m\u001b[0m\n\u001b[0;32m---> 35\u001b[0;31m         \u001b[0mobj\u001b[0m \u001b[0;34m=\u001b[0m \u001b[0mgetattr\u001b[0m\u001b[0;34m(\u001b[0m\u001b[0mresults\u001b[0m\u001b[0;34m,\u001b[0m \u001b[0mattr\u001b[0m\u001b[0;34m)\u001b[0m\u001b[0;34m\u001b[0m\u001b[0;34m\u001b[0m\u001b[0m\n\u001b[0m\u001b[1;32m     36\u001b[0m         \u001b[0mdata\u001b[0m \u001b[0;34m=\u001b[0m \u001b[0mresults\u001b[0m\u001b[0;34m.\u001b[0m\u001b[0mmodel\u001b[0m\u001b[0;34m.\u001b[0m\u001b[0mdata\u001b[0m\u001b[0;34m\u001b[0m\u001b[0;34m\u001b[0m\u001b[0m\n\u001b[1;32m     37\u001b[0m         \u001b[0mhow\u001b[0m \u001b[0;34m=\u001b[0m \u001b[0mself\u001b[0m\u001b[0;34m.\u001b[0m\u001b[0m_wrap_attrs\u001b[0m\u001b[0;34m.\u001b[0m\u001b[0mget\u001b[0m\u001b[0;34m(\u001b[0m\u001b[0mattr\u001b[0m\u001b[0;34m)\u001b[0m\u001b[0;34m\u001b[0m\u001b[0;34m\u001b[0m\u001b[0m\n",
            "\u001b[0;32m/usr/local/lib/python3.7/dist-packages/statsmodels/tsa/vector_ar/var_model.py\u001b[0m in \u001b[0;36maic\u001b[0;34m(self)\u001b[0m\n\u001b[1;32m   2102\u001b[0m     \u001b[0;32mdef\u001b[0m \u001b[0maic\u001b[0m\u001b[0;34m(\u001b[0m\u001b[0mself\u001b[0m\u001b[0;34m)\u001b[0m\u001b[0;34m:\u001b[0m\u001b[0;34m\u001b[0m\u001b[0;34m\u001b[0m\u001b[0m\n\u001b[1;32m   2103\u001b[0m         \u001b[0;34m\"\"\"Akaike information criterion\"\"\"\u001b[0m\u001b[0;34m\u001b[0m\u001b[0;34m\u001b[0m\u001b[0m\n\u001b[0;32m-> 2104\u001b[0;31m         \u001b[0;32mreturn\u001b[0m \u001b[0mself\u001b[0m\u001b[0;34m.\u001b[0m\u001b[0minfo_criteria\u001b[0m\u001b[0;34m[\u001b[0m\u001b[0;34m'aic'\u001b[0m\u001b[0;34m]\u001b[0m\u001b[0;34m\u001b[0m\u001b[0;34m\u001b[0m\u001b[0m\n\u001b[0m\u001b[1;32m   2105\u001b[0m \u001b[0;34m\u001b[0m\u001b[0m\n\u001b[1;32m   2106\u001b[0m     \u001b[0;34m@\u001b[0m\u001b[0mproperty\u001b[0m\u001b[0;34m\u001b[0m\u001b[0;34m\u001b[0m\u001b[0m\n",
            "\u001b[0;32m/usr/local/lib/python3.7/dist-packages/statsmodels/tools/decorators.py\u001b[0m in \u001b[0;36m__get__\u001b[0;34m(self, obj, type)\u001b[0m\n\u001b[1;32m     91\u001b[0m         \u001b[0m_cachedval\u001b[0m \u001b[0;34m=\u001b[0m \u001b[0m_cache\u001b[0m\u001b[0;34m.\u001b[0m\u001b[0mget\u001b[0m\u001b[0;34m(\u001b[0m\u001b[0mname\u001b[0m\u001b[0;34m,\u001b[0m \u001b[0;32mNone\u001b[0m\u001b[0;34m)\u001b[0m\u001b[0;34m\u001b[0m\u001b[0;34m\u001b[0m\u001b[0m\n\u001b[1;32m     92\u001b[0m         \u001b[0;32mif\u001b[0m \u001b[0m_cachedval\u001b[0m \u001b[0;32mis\u001b[0m \u001b[0;32mNone\u001b[0m\u001b[0;34m:\u001b[0m\u001b[0;34m\u001b[0m\u001b[0;34m\u001b[0m\u001b[0m\n\u001b[0;32m---> 93\u001b[0;31m             \u001b[0m_cachedval\u001b[0m \u001b[0;34m=\u001b[0m \u001b[0mself\u001b[0m\u001b[0;34m.\u001b[0m\u001b[0mfget\u001b[0m\u001b[0;34m(\u001b[0m\u001b[0mobj\u001b[0m\u001b[0;34m)\u001b[0m\u001b[0;34m\u001b[0m\u001b[0;34m\u001b[0m\u001b[0m\n\u001b[0m\u001b[1;32m     94\u001b[0m             \u001b[0m_cache\u001b[0m\u001b[0;34m[\u001b[0m\u001b[0mname\u001b[0m\u001b[0;34m]\u001b[0m \u001b[0;34m=\u001b[0m \u001b[0m_cachedval\u001b[0m\u001b[0;34m\u001b[0m\u001b[0;34m\u001b[0m\u001b[0m\n\u001b[1;32m     95\u001b[0m \u001b[0;34m\u001b[0m\u001b[0m\n",
            "\u001b[0;32m/usr/local/lib/python3.7/dist-packages/statsmodels/tsa/vector_ar/var_model.py\u001b[0m in \u001b[0;36minfo_criteria\u001b[0;34m(self)\u001b[0m\n\u001b[1;32m   2083\u001b[0m         \u001b[0mfree_params\u001b[0m \u001b[0;34m=\u001b[0m \u001b[0mlag_order\u001b[0m \u001b[0;34m*\u001b[0m \u001b[0mneqs\u001b[0m \u001b[0;34m**\u001b[0m \u001b[0;36m2\u001b[0m \u001b[0;34m+\u001b[0m \u001b[0mneqs\u001b[0m \u001b[0;34m*\u001b[0m \u001b[0mself\u001b[0m\u001b[0;34m.\u001b[0m\u001b[0mk_exog\u001b[0m\u001b[0;34m\u001b[0m\u001b[0;34m\u001b[0m\u001b[0m\n\u001b[1;32m   2084\u001b[0m \u001b[0;34m\u001b[0m\u001b[0m\n\u001b[0;32m-> 2085\u001b[0;31m         \u001b[0mld\u001b[0m \u001b[0;34m=\u001b[0m \u001b[0mlogdet_symm\u001b[0m\u001b[0;34m(\u001b[0m\u001b[0mself\u001b[0m\u001b[0;34m.\u001b[0m\u001b[0msigma_u_mle\u001b[0m\u001b[0;34m)\u001b[0m\u001b[0;34m\u001b[0m\u001b[0;34m\u001b[0m\u001b[0m\n\u001b[0m\u001b[1;32m   2086\u001b[0m \u001b[0;34m\u001b[0m\u001b[0m\n\u001b[1;32m   2087\u001b[0m         \u001b[0;31m# See Lütkepohl pp. 146-150\u001b[0m\u001b[0;34m\u001b[0m\u001b[0;34m\u001b[0m\u001b[0;34m\u001b[0m\u001b[0m\n",
            "\u001b[0;32m/usr/local/lib/python3.7/dist-packages/statsmodels/tools/linalg.py\u001b[0m in \u001b[0;36mlogdet_symm\u001b[0;34m(m, check_symm)\u001b[0m\n\u001b[1;32m     26\u001b[0m         \u001b[0;32mif\u001b[0m \u001b[0;32mnot\u001b[0m \u001b[0mnp\u001b[0m\u001b[0;34m.\u001b[0m\u001b[0mall\u001b[0m\u001b[0;34m(\u001b[0m\u001b[0mm\u001b[0m \u001b[0;34m==\u001b[0m \u001b[0mm\u001b[0m\u001b[0;34m.\u001b[0m\u001b[0mT\u001b[0m\u001b[0;34m)\u001b[0m\u001b[0;34m:\u001b[0m  \u001b[0;31m# would be nice to short-circuit check\u001b[0m\u001b[0;34m\u001b[0m\u001b[0;34m\u001b[0m\u001b[0m\n\u001b[1;32m     27\u001b[0m             \u001b[0;32mraise\u001b[0m \u001b[0mValueError\u001b[0m\u001b[0;34m(\u001b[0m\u001b[0;34m\"m is not symmetric.\"\u001b[0m\u001b[0;34m)\u001b[0m\u001b[0;34m\u001b[0m\u001b[0;34m\u001b[0m\u001b[0m\n\u001b[0;32m---> 28\u001b[0;31m     \u001b[0mc\u001b[0m\u001b[0;34m,\u001b[0m \u001b[0m_\u001b[0m \u001b[0;34m=\u001b[0m \u001b[0mlinalg\u001b[0m\u001b[0;34m.\u001b[0m\u001b[0mcho_factor\u001b[0m\u001b[0;34m(\u001b[0m\u001b[0mm\u001b[0m\u001b[0;34m,\u001b[0m \u001b[0mlower\u001b[0m\u001b[0;34m=\u001b[0m\u001b[0;32mTrue\u001b[0m\u001b[0;34m)\u001b[0m\u001b[0;34m\u001b[0m\u001b[0;34m\u001b[0m\u001b[0m\n\u001b[0m\u001b[1;32m     29\u001b[0m     \u001b[0;32mreturn\u001b[0m \u001b[0;36m2\u001b[0m\u001b[0;34m*\u001b[0m\u001b[0mnp\u001b[0m\u001b[0;34m.\u001b[0m\u001b[0msum\u001b[0m\u001b[0;34m(\u001b[0m\u001b[0mnp\u001b[0m\u001b[0;34m.\u001b[0m\u001b[0mlog\u001b[0m\u001b[0;34m(\u001b[0m\u001b[0mc\u001b[0m\u001b[0;34m.\u001b[0m\u001b[0mdiagonal\u001b[0m\u001b[0;34m(\u001b[0m\u001b[0;34m)\u001b[0m\u001b[0;34m)\u001b[0m\u001b[0;34m)\u001b[0m\u001b[0;34m\u001b[0m\u001b[0;34m\u001b[0m\u001b[0m\n\u001b[1;32m     30\u001b[0m \u001b[0;34m\u001b[0m\u001b[0m\n",
            "\u001b[0;32m/usr/local/lib/python3.7/dist-packages/scipy/linalg/decomp_cholesky.py\u001b[0m in \u001b[0;36mcho_factor\u001b[0;34m(a, lower, overwrite_a, check_finite)\u001b[0m\n\u001b[1;32m    153\u001b[0m     \"\"\"\n\u001b[1;32m    154\u001b[0m     c, lower = _cholesky(a, lower=lower, overwrite_a=overwrite_a, clean=False,\n\u001b[0;32m--> 155\u001b[0;31m                          check_finite=check_finite)\n\u001b[0m\u001b[1;32m    156\u001b[0m     \u001b[0;32mreturn\u001b[0m \u001b[0mc\u001b[0m\u001b[0;34m,\u001b[0m \u001b[0mlower\u001b[0m\u001b[0;34m\u001b[0m\u001b[0;34m\u001b[0m\u001b[0m\n\u001b[1;32m    157\u001b[0m \u001b[0;34m\u001b[0m\u001b[0m\n",
            "\u001b[0;32m/usr/local/lib/python3.7/dist-packages/scipy/linalg/decomp_cholesky.py\u001b[0m in \u001b[0;36m_cholesky\u001b[0;34m(a, lower, overwrite_a, clean, check_finite)\u001b[0m\n\u001b[1;32m     38\u001b[0m     \u001b[0;32mif\u001b[0m \u001b[0minfo\u001b[0m \u001b[0;34m>\u001b[0m \u001b[0;36m0\u001b[0m\u001b[0;34m:\u001b[0m\u001b[0;34m\u001b[0m\u001b[0;34m\u001b[0m\u001b[0m\n\u001b[1;32m     39\u001b[0m         raise LinAlgError(\"%d-th leading minor of the array is not positive \"\n\u001b[0;32m---> 40\u001b[0;31m                           \"definite\" % info)\n\u001b[0m\u001b[1;32m     41\u001b[0m     \u001b[0;32mif\u001b[0m \u001b[0minfo\u001b[0m \u001b[0;34m<\u001b[0m \u001b[0;36m0\u001b[0m\u001b[0;34m:\u001b[0m\u001b[0;34m\u001b[0m\u001b[0;34m\u001b[0m\u001b[0m\n\u001b[1;32m     42\u001b[0m         raise ValueError('LAPACK reported an illegal value in {}-th argument'\n",
            "\u001b[0;31mLinAlgError\u001b[0m: 2-th leading minor of the array is not positive definite"
          ]
        }
      ]
    },
    {
      "cell_type": "markdown",
      "metadata": {
        "id": "4BgEEQhTv6lz"
      },
      "source": [
        "With Maxlag = 1\n"
      ]
    },
    {
      "cell_type": "code",
      "metadata": {
        "colab": {
          "base_uri": "https://localhost:8080/"
        },
        "id": "y0C9gdcTv-gp",
        "outputId": "819d830e-8920-4851-946b-a5baee4acd34"
      },
      "source": [
        "results = model.fit(maxlags=1, ic='aic') #13,1 for least AIC\n",
        "results.summary()"
      ],
      "execution_count": null,
      "outputs": [
        {
          "output_type": "execute_result",
          "data": {
            "text/plain": [
              "  Summary of Regression Results   \n",
              "==================================\n",
              "Model:                         VAR\n",
              "Method:                        OLS\n",
              "Date:           Tue, 24, Aug, 2021\n",
              "Time:                     07:19:09\n",
              "--------------------------------------------------------------------\n",
              "No. of Equations:         2.00000    BIC:                   -3.83632\n",
              "Nobs:                     43.0000    HQIC:                  -3.99144\n",
              "Log likelihood:          -28.2643    FPE:                  0.0168802\n",
              "AIC:                     -4.08207    Det(Omega_mle):       0.0147503\n",
              "--------------------------------------------------------------------\n",
              "Results for equation HS\n",
              "===========================================================================\n",
              "              coefficient       std. error           t-stat            prob\n",
              "---------------------------------------------------------------------------\n",
              "const            0.168553         0.091043            1.851           0.064\n",
              "L1.HS            0.458019         0.141247            3.243           0.001\n",
              "L1.Stock         0.033857         0.148696            0.228           0.820\n",
              "===========================================================================\n",
              "\n",
              "Results for equation Stock\n",
              "===========================================================================\n",
              "              coefficient       std. error           t-stat            prob\n",
              "---------------------------------------------------------------------------\n",
              "const            0.161368         0.078683            2.051           0.040\n",
              "L1.HS           -0.065312         0.122071           -0.535           0.593\n",
              "L1.Stock         0.576929         0.128508            4.489           0.000\n",
              "===========================================================================\n",
              "\n",
              "Correlation matrix of residuals\n",
              "               HS     Stock\n",
              "HS       1.000000 -0.072640\n",
              "Stock   -0.072640  1.000000\n",
              "\n"
            ]
          },
          "metadata": {},
          "execution_count": 134
        }
      ]
    },
    {
      "cell_type": "code",
      "metadata": {
        "colab": {
          "base_uri": "https://localhost:8080/"
        },
        "id": "qNhdgmH6wKEX",
        "outputId": "33bbc27b-5218-4095-9843-1de581e58d1c"
      },
      "source": [
        "# The Durbin Watson Test is a measure of autocorrelation in residuals from regression analysis\n",
        "# A value of 2.0 means that there is no autocorrelation detected in the residuals\n",
        "\n",
        "from statsmodels.stats.stattools import durbin_watson\n",
        "\n",
        "out = durbin_watson(results.resid)\n",
        "\n",
        "for col, val in zip(df.columns, out):\n",
        "    print(col, ':', round(val, 2))  \n",
        "\n",
        "# If within the range of 1.5 and 2.5, we would consider autocorrelation not to be problematic in this regression model      "
      ],
      "execution_count": null,
      "outputs": [
        {
          "output_type": "stream",
          "text": [
            "HS : 1.8\n",
            "Stock : 2.39\n"
          ],
          "name": "stdout"
        }
      ]
    },
    {
      "cell_type": "code",
      "metadata": {
        "colab": {
          "base_uri": "https://localhost:8080/",
          "height": 283
        },
        "id": "BfEtBmU3wPoj",
        "outputId": "132f7671-b91f-45e0-d8dc-7b250328ab39"
      },
      "source": [
        "# Plotting autocorrelation plot for residuals\n",
        "import matplotlib.pyplot as plt\n",
        "  \n",
        "# Creating Autocorrelation plot\n",
        "x = pd.plotting.autocorrelation_plot(results.resid)\n",
        "x.plot()\n",
        "plt.show()"
      ],
      "execution_count": null,
      "outputs": [
        {
          "output_type": "display_data",
          "data": {
            "image/png": "[encoded data removed]",
            "text/plain": [
              "<Figure size 432x288 with 1 Axes>"
            ]
          },
          "metadata": {
            "needs_background": "light"
          }
        }
      ]
    },
    {
      "cell_type": "code",
      "metadata": {
        "colab": {
          "base_uri": "https://localhost:8080/",
          "height": 110
        },
        "id": "T71jxP31wTY8",
        "outputId": "a81b1027-e5cc-4a57-a48d-567fab4476ee"
      },
      "source": [
        "# Granger Causality\n",
        "\n",
        "from statsmodels.tsa.stattools import grangercausalitytests\n",
        "\n",
        "maxlag = 1 # Same maxlag val as b4\n",
        "test = 'ssr_chi2test'\n",
        "\n",
        "def grangers_causation_matrix(data, variables, test='ssr_chi2test', verbose=False):    \n",
        "   \n",
        "    df = pd.DataFrame(np.zeros((len(variables), len(variables))), columns=variables, index=variables)\n",
        "    for c in df.columns:\n",
        "        for r in df.index:\n",
        "            test_result = grangercausalitytests(data[[r, c]], maxlag=maxlag, verbose=False)\n",
        "            p_values = [round(test_result[i+1][0][test][1],4) for i in range(maxlag)]\n",
        "            if verbose: print(f'Y = {r}, X = {c}, P Values = {p_values}')\n",
        "            min_p_value = np.min(p_values)\n",
        "            df.loc[r, c] = min_p_value\n",
        "    df.columns = [var + '_x' for var in variables]\n",
        "    df.index = [var + '_y' for var in variables]\n",
        "    return df\n",
        "\n",
        "grangers_causation_matrix(df_train_transformed, variables = df_train_transformed.columns)\n"
      ],
      "execution_count": null,
      "outputs": [
        {
          "output_type": "execute_result",
          "data": {
            "text/html": [
              "<div>\n",
              "<style scoped>\n",
              "    .dataframe tbody tr th:only-of-type {\n",
              "        vertical-align: middle;\n",
              "    }\n",
              "\n",
              "    .dataframe tbody tr th {\n",
              "        vertical-align: top;\n",
              "    }\n",
              "\n",
              "    .dataframe thead th {\n",
              "        text-align: right;\n",
              "    }\n",
              "</style>\n",
              "<table border=\"1\" class=\"dataframe\">\n",
              "  <thead>\n",
              "    <tr style=\"text-align: right;\">\n",
              "      <th></th>\n",
              "      <th>HS_x</th>\n",
              "      <th>Stock_x</th>\n",
              "    </tr>\n",
              "  </thead>\n",
              "  <tbody>\n",
              "    <tr>\n",
              "      <th>HS_y</th>\n",
              "      <td>1.0000</td>\n",
              "      <td>0.8134</td>\n",
              "    </tr>\n",
              "    <tr>\n",
              "      <th>Stock_y</th>\n",
              "      <td>0.5791</td>\n",
              "      <td>1.0000</td>\n",
              "    </tr>\n",
              "  </tbody>\n",
              "</table>\n",
              "</div>"
            ],
            "text/plain": [
              "           HS_x  Stock_x\n",
              "HS_y     1.0000   0.8134\n",
              "Stock_y  0.5791   1.0000"
            ]
          },
          "metadata": {},
          "execution_count": 138
        }
      ]
    },
    {
      "cell_type": "code",
      "metadata": {
        "id": "PHZ01YBkweiO"
      },
      "source": [
        "# Invert the transformation\n",
        "\n",
        "lag_order = results.k_ar\n",
        "\n",
        "df_input = df_train_transformed.values[-lag_order:]\n",
        "df_forecast = results.forecast(y=df_input, steps=n_obs)\n",
        "df_forecast = (pd.DataFrame(df_forecast, index=df_test.index, columns=df_test.columns + '_pred'))\n",
        "\n",
        "def invert_transformation(df, pred):\n",
        "    forecast = df_forecast.copy()\n",
        "    columns = df.columns\n",
        "    for col in columns:\n",
        "        forecast[str(col)+'_pred'] = df[col].iloc[-1] + forecast[str(col)+'_pred'].cumsum()\n",
        "    return forecast\n",
        "output = invert_transformation(df_train, df_forecast)\n",
        "\n",
        "combined = pd.concat([output['HS_pred'], df_test['HS'], output['Stock_pred'], df_test['Stock']], axis=1)"
      ],
      "execution_count": null,
      "outputs": []
    },
    {
      "cell_type": "code",
      "metadata": {
        "colab": {
          "base_uri": "https://localhost:8080/"
        },
        "id": "RrQtMV2Awfpk",
        "outputId": "59d37ae2-2eb7-4591-e834-1456aff3d4be"
      },
      "source": [
        "from sklearn.metrics import mean_squared_error\n",
        "from sklearn.metrics import mean_absolute_error\n",
        "\n",
        "\n",
        "rmse = mean_squared_error(combined['HS_pred'], combined['HS'], squared=False)\n",
        "mae = mean_absolute_error(combined['HS_pred'], combined['HS'])\n",
        "\n",
        "print('Forecast accuracy of Hate')\n",
        "print('RMSE: ', round(rmse,2))\n",
        "print('MAE: ', round(mae,2))\n",
        "\n",
        "rmse = mean_squared_error(combined['Stock_pred'], combined['Stock'], squared=False)\n",
        "mae = mean_absolute_error(combined['Stock_pred'], combined['Stock'])\n",
        "\n",
        "print('Forecast accuracy of Stock')\n",
        "print('RMSE: ', round(rmse,2))\n",
        "print('MAE: ', round(mae,2))\n"
      ],
      "execution_count": null,
      "outputs": [
        {
          "output_type": "stream",
          "text": [
            "Forecast accuracy of Hate\n",
            "RMSE:  18.85\n",
            "MAE:  16.23\n",
            "Forecast accuracy of Stock\n",
            "RMSE:  18.72\n",
            "MAE:  16.11\n"
          ],
          "name": "stdout"
        }
      ]
    },
    {
      "cell_type": "markdown",
      "metadata": {
        "id": "b7cfO8wlvwNt"
      },
      "source": [
        "With Maxlag = 13\n"
      ]
    },
    {
      "cell_type": "code",
      "metadata": {
        "colab": {
          "base_uri": "https://localhost:8080/"
        },
        "id": "k4bjd_FjUSCG",
        "outputId": "926ac68e-90e3-4811-8ddd-ae5cc62b341c"
      },
      "source": [
        "# We select lag order with lowest AIC value\n",
        "\n",
        "results = model.fit(maxlags=13, ic='aic') #13,1 for least AIC\n",
        "results.summary()"
      ],
      "execution_count": null,
      "outputs": [
        {
          "output_type": "execute_result",
          "data": {
            "text/plain": [
              "  Summary of Regression Results   \n",
              "==================================\n",
              "Model:                         VAR\n",
              "Method:                        OLS\n",
              "Date:           Tue, 24, Aug, 2021\n",
              "Time:                     07:22:53\n",
              "--------------------------------------------------------------------\n",
              "No. of Equations:         2.00000    BIC:                   -3.03495\n",
              "Nobs:                     31.0000    HQIC:                  -4.71860\n",
              "Log likelihood:           51.7852    FPE:                  0.0255164\n",
              "AIC:                     -5.53286    Det(Omega_mle):      0.00728931\n",
              "--------------------------------------------------------------------\n",
              "Results for equation HS\n",
              "============================================================================\n",
              "               coefficient       std. error           t-stat            prob\n",
              "----------------------------------------------------------------------------\n",
              "const             2.669529         0.383017            6.970           0.000\n",
              "L1.HS            -0.466340         0.184810           -2.523           0.012\n",
              "L1.Stock          0.133069         0.144377            0.922           0.357\n",
              "L2.HS            -0.593884         0.157408           -3.773           0.000\n",
              "L2.Stock          0.180349         0.135309            1.333           0.183\n",
              "L3.HS            -0.035563         0.124410           -0.286           0.775\n",
              "L3.Stock          0.570968         0.143142            3.989           0.000\n",
              "L4.HS             0.048338         0.116554            0.415           0.678\n",
              "L4.Stock          0.341710         0.133552            2.559           0.011\n",
              "L5.HS             0.068835         0.117883            0.584           0.559\n",
              "L5.Stock         -0.171253         0.151298           -1.132           0.258\n",
              "L6.HS            -0.064663         0.113277           -0.571           0.568\n",
              "L6.Stock         -0.157577         0.158850           -0.992           0.321\n",
              "L7.HS            -0.502697         0.112840           -4.455           0.000\n",
              "L7.Stock         -0.404801         0.159972           -2.530           0.011\n",
              "L8.HS            -0.528626         0.144920           -3.648           0.000\n",
              "L8.Stock         -1.228340         0.178050           -6.899           0.000\n",
              "L9.HS            -0.675497         0.182183           -3.708           0.000\n",
              "L9.Stock         -1.149748         0.205187           -5.603           0.000\n",
              "L10.HS           -1.148254         0.216178           -5.312           0.000\n",
              "L10.Stock        -0.358377         0.228510           -1.568           0.117\n",
              "L11.HS           -0.971655         0.152729           -6.362           0.000\n",
              "L11.Stock        -0.050559         0.219769           -0.230           0.818\n",
              "L12.HS           -0.182938         0.191353           -0.956           0.339\n",
              "L12.Stock         0.568925         0.230805            2.465           0.014\n",
              "L13.HS           -0.564387         0.183485           -3.076           0.002\n",
              "L13.Stock         1.152161         0.234514            4.913           0.000\n",
              "============================================================================\n",
              "\n",
              "Results for equation Stock\n",
              "============================================================================\n",
              "               coefficient       std. error           t-stat            prob\n",
              "----------------------------------------------------------------------------\n",
              "const            -1.054851         1.341252           -0.786           0.432\n",
              "L1.HS             0.229123         0.647169            0.354           0.723\n",
              "L1.Stock          0.413516         0.505581            0.818           0.413\n",
              "L2.HS             0.126414         0.551212            0.229           0.819\n",
              "L2.Stock          0.038909         0.473826            0.082           0.935\n",
              "L3.HS            -0.025306         0.435661           -0.058           0.954\n",
              "L3.Stock          0.020804         0.501258            0.042           0.967\n",
              "L4.HS             0.167916         0.408150            0.411           0.681\n",
              "L4.Stock          0.337286         0.467674            0.721           0.471\n",
              "L5.HS            -0.052155         0.412804           -0.126           0.899\n",
              "L5.Stock         -0.215575         0.529817           -0.407           0.684\n",
              "L6.HS             0.104074         0.396676            0.262           0.793\n",
              "L6.Stock          0.162229         0.556262            0.292           0.771\n",
              "L7.HS             0.707709         0.395144            1.791           0.073\n",
              "L7.Stock          0.270214         0.560192            0.482           0.630\n",
              "L8.HS            -0.195240         0.507484           -0.385           0.700\n",
              "L8.Stock          0.261487         0.623496            0.419           0.675\n",
              "L9.HS             0.755872         0.637972            1.185           0.236\n",
              "L9.Stock          0.094789         0.718528            0.132           0.895\n",
              "L10.HS            0.286301         0.757016            0.378           0.705\n",
              "L10.Stock         0.074455         0.800199            0.093           0.926\n",
              "L11.HS            0.057223         0.534830            0.107           0.915\n",
              "L11.Stock         0.409380         0.769589            0.532           0.595\n",
              "L12.HS            0.706870         0.670083            1.055           0.291\n",
              "L12.Stock        -0.652956         0.808237           -0.808           0.419\n",
              "L13.HS           -0.018171         0.642532           -0.028           0.977\n",
              "L13.Stock        -0.341798         0.821224           -0.416           0.677\n",
              "============================================================================\n",
              "\n",
              "Correlation matrix of residuals\n",
              "               HS     Stock\n",
              "HS       1.000000 -0.225263\n",
              "Stock   -0.225263  1.000000\n",
              "\n"
            ]
          },
          "metadata": {},
          "execution_count": 142
        }
      ]
    },
    {
      "cell_type": "code",
      "metadata": {
        "colab": {
          "base_uri": "https://localhost:8080/"
        },
        "id": "JHIeVZ6OV0Ug",
        "outputId": "21bede8d-ba5f-43f2-a152-eb7d3c720fcd"
      },
      "source": [
        "# The Durbin Watson Test is a measure of autocorrelation in residuals from regression analysis\n",
        "# A value of 2.0 means that there is no autocorrelation detected in the residuals\n",
        "\n",
        "from statsmodels.stats.stattools import durbin_watson\n",
        "\n",
        "out = durbin_watson(results.resid)\n",
        "\n",
        "for col, val in zip(df.columns, out):\n",
        "    print(col, ':', round(val, 2))  \n",
        "\n",
        "# If within the range of 1.5 and 2.5, we would consider autocorrelation not to be problematic in this regression model      "
      ],
      "execution_count": null,
      "outputs": [
        {
          "output_type": "stream",
          "text": [
            "HS : 2.46\n",
            "Stock : 1.99\n"
          ],
          "name": "stdout"
        }
      ]
    },
    {
      "cell_type": "code",
      "metadata": {
        "colab": {
          "base_uri": "https://localhost:8080/",
          "height": 283
        },
        "id": "QtrXwuxFyomB",
        "outputId": "f4631994-b545-4fe7-f28d-dce7a7400e9a"
      },
      "source": [
        "# Plotting autocorrelation plot for residuals\n",
        "import matplotlib.pyplot as plt\n",
        "  \n",
        "# Creating Autocorrelation plot\n",
        "x = pd.plotting.autocorrelation_plot(results.resid)\n",
        "x.plot()\n",
        "plt.show()"
      ],
      "execution_count": null,
      "outputs": [
        {
          "output_type": "display_data",
          "data": {
            "image/png": "[encoded data removed]",
            "text/plain": [
              "<Figure size 432x288 with 1 Axes>"
            ]
          },
          "metadata": {
            "needs_background": "light"
          }
        }
      ]
    },
    {
      "cell_type": "code",
      "metadata": {
        "colab": {
          "base_uri": "https://localhost:8080/",
          "height": 110
        },
        "id": "UAdvBm_lWT75",
        "outputId": "c839adbe-088c-40f3-a0fc-fd70a92523ad"
      },
      "source": [
        "# Granger Causality\n",
        "\n",
        "from statsmodels.tsa.stattools import grangercausalitytests\n",
        "\n",
        "maxlag = 13 # Same maxlag val as b4\n",
        "test = 'ssr_chi2test'\n",
        "\n",
        "def grangers_causation_matrix(data, variables, test='ssr_chi2test', verbose=False):    \n",
        "   \n",
        "    df = pd.DataFrame(np.zeros((len(variables), len(variables))), columns=variables, index=variables)\n",
        "    for c in df.columns:\n",
        "        for r in df.index:\n",
        "            test_result = grangercausalitytests(data[[r, c]], maxlag=maxlag, verbose=False)\n",
        "            p_values = [round(test_result[i+1][0][test][1],4) for i in range(maxlag)]\n",
        "            if verbose: print(f'Y = {r}, X = {c}, P Values = {p_values}')\n",
        "            min_p_value = np.min(p_values)\n",
        "            df.loc[r, c] = min_p_value\n",
        "    df.columns = [var + '_x' for var in variables]\n",
        "    df.index = [var + '_y' for var in variables]\n",
        "    return df\n",
        "\n",
        "grangers_causation_matrix(df_train_transformed, variables = df_train_transformed.columns)\n"
      ],
      "execution_count": null,
      "outputs": [
        {
          "output_type": "execute_result",
          "data": {
            "text/html": [
              "<div>\n",
              "<style scoped>\n",
              "    .dataframe tbody tr th:only-of-type {\n",
              "        vertical-align: middle;\n",
              "    }\n",
              "\n",
              "    .dataframe tbody tr th {\n",
              "        vertical-align: top;\n",
              "    }\n",
              "\n",
              "    .dataframe thead th {\n",
              "        text-align: right;\n",
              "    }\n",
              "</style>\n",
              "<table border=\"1\" class=\"dataframe\">\n",
              "  <thead>\n",
              "    <tr style=\"text-align: right;\">\n",
              "      <th></th>\n",
              "      <th>HS_x</th>\n",
              "      <th>Stock_x</th>\n",
              "    </tr>\n",
              "  </thead>\n",
              "  <tbody>\n",
              "    <tr>\n",
              "      <th>HS_y</th>\n",
              "      <td>1.0</td>\n",
              "      <td>0.0</td>\n",
              "    </tr>\n",
              "    <tr>\n",
              "      <th>Stock_y</th>\n",
              "      <td>0.0</td>\n",
              "      <td>1.0</td>\n",
              "    </tr>\n",
              "  </tbody>\n",
              "</table>\n",
              "</div>"
            ],
            "text/plain": [
              "         HS_x  Stock_x\n",
              "HS_y      1.0      0.0\n",
              "Stock_y   0.0      1.0"
            ]
          },
          "metadata": {},
          "execution_count": 145
        }
      ]
    },
    {
      "cell_type": "code",
      "metadata": {
        "id": "ty1Cl8Z2dy61"
      },
      "source": [
        "# Using Max lag = 1\n",
        "# Here, we accept the null hypothesis that Stock_x does not Granger cause HS_y & Stock_y does not Granger cause HS_x.\n",
        "\n",
        "# Using Max lag = 13\n",
        "# Stock_x Granger causes HS_y & Stock_y Granger causes HS_x.\n",
        "# But the forecast error is larger using max lag = 13 \n"
      ],
      "execution_count": null,
      "outputs": []
    },
    {
      "cell_type": "code",
      "metadata": {
        "id": "HYuZku85YPRo"
      },
      "source": [
        "# Invert the transformation\n",
        "\n",
        "lag_order = results.k_ar\n",
        "\n",
        "df_input = df_train_transformed.values[-lag_order:]\n",
        "df_forecast = results.forecast(y=df_input, steps=n_obs)\n",
        "df_forecast = (pd.DataFrame(df_forecast, index=df_test.index, columns=df_test.columns + '_pred'))\n",
        "\n",
        "def invert_transformation(df, pred):\n",
        "    forecast = df_forecast.copy()\n",
        "    columns = df.columns\n",
        "    for col in columns:\n",
        "        forecast[str(col)+'_pred'] = df[col].iloc[-1] + forecast[str(col)+'_pred'].cumsum()\n",
        "    return forecast\n",
        "output = invert_transformation(df_train, df_forecast)\n",
        "\n",
        "combined = pd.concat([output['HS_pred'], df_test['HS'], output['Stock_pred'], df_test['Stock']], axis=1)\n"
      ],
      "execution_count": null,
      "outputs": []
    },
    {
      "cell_type": "code",
      "metadata": {
        "colab": {
          "base_uri": "https://localhost:8080/"
        },
        "id": "yz7XSX5vZA9L",
        "outputId": "7a42d037-1af2-4d57-af77-3af0c764eee0"
      },
      "source": [
        "from sklearn.metrics import mean_squared_error\n",
        "from sklearn.metrics import mean_absolute_error\n",
        "\n",
        "\n",
        "rmse = mean_squared_error(combined['HS_pred'], combined['HS'], squared=False)\n",
        "mae = mean_absolute_error(combined['HS_pred'], combined['HS'])\n",
        "\n",
        "print('Forecast accuracy of Hate')\n",
        "print('RMSE: ', round(rmse,2))\n",
        "print('MAE: ', round(mae,2))\n",
        "\n",
        "rmse = mean_squared_error(combined['Stock_pred'], combined['Stock'], squared=False)\n",
        "mae = mean_absolute_error(combined['Stock_pred'], combined['Stock'])\n",
        "\n",
        "print('Forecast accuracy of Stock')\n",
        "print('RMSE: ', round(rmse,2))\n",
        "print('MAE: ', round(mae,2))\n"
      ],
      "execution_count": null,
      "outputs": [
        {
          "output_type": "stream",
          "text": [
            "Forecast accuracy of Hate\n",
            "RMSE:  113.28\n",
            "MAE:  60.63\n",
            "Forecast accuracy of Stock\n",
            "RMSE:  309.8\n",
            "MAE:  176.92\n"
          ],
          "name": "stdout"
        }
      ]
    },
    {
      "cell_type": "markdown",
      "metadata": {
        "id": "f0VblFmpQKE5"
      },
      "source": [
        "Causality with Stock Fall"
      ]
    },
    {
      "cell_type": "code",
      "metadata": {
        "colab": {
          "base_uri": "https://localhost:8080/",
          "height": 357
        },
        "id": "jGWm51BuQNrr",
        "outputId": "caa9165d-5bef-4b59-e1c5-149e04e28a07"
      },
      "source": [
        "import pandas as pd\n",
        "import numpy as np\n",
        "from sklearn import preprocessing\n",
        "\n",
        "sheetname=\"Hate Score & Stock CDP Binary & Z-score\" # Enter Sheet name without using extention\n",
        "sh = gc.open(sheetname)\n",
        "worksheet = sh.sheet1\n",
        "sheets = worksheet.get_all_values()\n",
        "\n",
        "df = pd.DataFrame(sheets[10:], columns=sheets[0])\n",
        "df = df[['HS', 'Stock_fall']]\n",
        "\n",
        "for i in range (0,len(df['Stock_fall'])-1):\n",
        "  if (df['Stock_fall'][i]=='Nan'):\n",
        "    df['Stock_fall'][i]=np.nan\n",
        "\n",
        "df.tail(10)"
      ],
      "execution_count": null,
      "outputs": [
        {
          "output_type": "execute_result",
          "data": {
            "text/html": [
              "<div>\n",
              "<style scoped>\n",
              "    .dataframe tbody tr th:only-of-type {\n",
              "        vertical-align: middle;\n",
              "    }\n",
              "\n",
              "    .dataframe tbody tr th {\n",
              "        vertical-align: top;\n",
              "    }\n",
              "\n",
              "    .dataframe thead th {\n",
              "        text-align: right;\n",
              "    }\n",
              "</style>\n",
              "<table border=\"1\" class=\"dataframe\">\n",
              "  <thead>\n",
              "    <tr style=\"text-align: right;\">\n",
              "      <th></th>\n",
              "      <th>HS</th>\n",
              "      <th>Stock_fall</th>\n",
              "    </tr>\n",
              "  </thead>\n",
              "  <tbody>\n",
              "    <tr>\n",
              "      <th>134</th>\n",
              "      <td>0.003117783</td>\n",
              "      <td>0</td>\n",
              "    </tr>\n",
              "    <tr>\n",
              "      <th>135</th>\n",
              "      <td>0.181173301</td>\n",
              "      <td>0.439497787</td>\n",
              "    </tr>\n",
              "    <tr>\n",
              "      <th>136</th>\n",
              "      <td>0.099521548</td>\n",
              "      <td>0.746324625</td>\n",
              "    </tr>\n",
              "    <tr>\n",
              "      <th>137</th>\n",
              "      <td>0</td>\n",
              "      <td>NaN</td>\n",
              "    </tr>\n",
              "    <tr>\n",
              "      <th>138</th>\n",
              "      <td>0</td>\n",
              "      <td>NaN</td>\n",
              "    </tr>\n",
              "    <tr>\n",
              "      <th>139</th>\n",
              "      <td>0</td>\n",
              "      <td>0.27789324</td>\n",
              "    </tr>\n",
              "    <tr>\n",
              "      <th>140</th>\n",
              "      <td>0</td>\n",
              "      <td>0.360369006</td>\n",
              "    </tr>\n",
              "    <tr>\n",
              "      <th>141</th>\n",
              "      <td>0</td>\n",
              "      <td>0</td>\n",
              "    </tr>\n",
              "    <tr>\n",
              "      <th>142</th>\n",
              "      <td>0.784312603</td>\n",
              "      <td>0</td>\n",
              "    </tr>\n",
              "    <tr>\n",
              "      <th>143</th>\n",
              "      <td>0.612440383</td>\n",
              "      <td>0</td>\n",
              "    </tr>\n",
              "  </tbody>\n",
              "</table>\n",
              "</div>"
            ],
            "text/plain": [
              "              HS   Stock_fall\n",
              "134  0.003117783            0\n",
              "135  0.181173301  0.439497787\n",
              "136  0.099521548  0.746324625\n",
              "137            0          NaN\n",
              "138            0          NaN\n",
              "139            0   0.27789324\n",
              "140            0  0.360369006\n",
              "141            0            0\n",
              "142  0.784312603            0\n",
              "143  0.612440383            0"
            ]
          },
          "metadata": {},
          "execution_count": 148
        }
      ]
    },
    {
      "cell_type": "code",
      "metadata": {
        "id": "h8hVue_ZRShT"
      },
      "source": [
        "# Replace NaN values with rolling mean of data\n",
        "df['Stock_fall']=df['Stock_fall'].fillna((df['Stock_fall'].rolling(min_periods=1, center=True, window=7).mean()))\n",
        "\n",
        "# df.head(27)"
      ],
      "execution_count": null,
      "outputs": []
    },
    {
      "cell_type": "code",
      "metadata": {
        "colab": {
          "base_uri": "https://localhost:8080/"
        },
        "id": "VVURvd1BReW5",
        "outputId": "8e63d313-d09a-469c-8137-817c04cd1f54"
      },
      "source": [
        "# ADF test to check stationarity\n",
        "\n",
        "# df = df.drop(['Date'], axis=1)\n",
        "\n",
        "n_obs = 100\n",
        "df_train, df_test = df[0:-n_obs], df[-n_obs:]\n",
        "\n",
        "from statsmodels.tsa.stattools import adfuller\n",
        "\n",
        "def adf_test(df):\n",
        "    result = adfuller(df.values, autolag='AIC') #adfuller will choose a the number of lags that yields the lowest AIC\n",
        "    print('ADF Statistics: %f' % result[0])\n",
        "    print('p-value: %f' % result[1])\n",
        "    print('Critical values:')\n",
        "    for key, value in result[4].items():\n",
        "        print('\\t%s: %.3f' % (key, value))\n",
        "        \n",
        "print('ADF Test: Hate time series')\n",
        "adf_test(df_train['HS'].astype(float))\n",
        "print('ADF Test: Stock time series')\n",
        "adf_test(df_train['Stock_fall'].astype(float))\n",
        "\n",
        "# If p-value < 0.05 we reject the null hypothesis, i.e, data is stationary\n",
        "# else if p-value > 0.05 we are unable to reject the null hypothesis i.e, data is non-stationary"
      ],
      "execution_count": null,
      "outputs": [
        {
          "output_type": "stream",
          "text": [
            "ADF Test: Hate time series\n",
            "ADF Statistics: -3.917986\n",
            "p-value: 0.001906\n",
            "Critical values:\n",
            "\t1%: -3.593\n",
            "\t5%: -2.932\n",
            "\t10%: -2.604\n",
            "ADF Test: Stock time series\n",
            "ADF Statistics: -1.794517\n",
            "p-value: 0.383187\n",
            "Critical values:\n",
            "\t1%: -3.606\n",
            "\t5%: -2.937\n",
            "\t10%: -2.607\n"
          ],
          "name": "stdout"
        }
      ]
    },
    {
      "cell_type": "code",
      "metadata": {
        "colab": {
          "base_uri": "https://localhost:8080/"
        },
        "id": "prqS3xfmRejm",
        "outputId": "1771aead-4def-4322-f2f1-c834b1d5a7d3"
      },
      "source": [
        "# KPSS test to check stationarity around a mean\n",
        "\n",
        "from statsmodels.tsa.stattools import kpss\n",
        "\n",
        "def kpss_test(df):    \n",
        "    statistic, p_value, n_lags, critical_values = kpss(df.values)\n",
        "    \n",
        "    print(f'KPSS Statistic: {statistic}')\n",
        "    print(f'p-value: {p_value}')\n",
        "    print(f'num lags: {n_lags}')\n",
        "    print('Critial Values:')\n",
        "    for key, value in critical_values.items():\n",
        "        print(f'   {key} : {value}')\n",
        "        \n",
        "print('KPSS Test: Hate time series')\n",
        "kpss_test(df_train['HS'].astype(float))\n",
        "print('KPSS Test: Stock time series')\n",
        "kpss_test(df_train['Stock_fall'].astype(float))\n",
        "\n",
        "# If p-value < 0.05 we reject the null hypothesis, i.e, data is non-stationary\n",
        "#else if p-value > 0.05 we select the null hypothesis i.e, data is stationary\n",
        "#A key difference from ADF test is the null hypothesis of the KPSS test is that the series is stationary"
      ],
      "execution_count": null,
      "outputs": [
        {
          "output_type": "stream",
          "text": [
            "KPSS Test: Hate time series\n",
            "KPSS Statistic: 0.341655703691674\n",
            "p-value: 0.1\n",
            "num lags: 10\n",
            "Critial Values:\n",
            "   10% : 0.347\n",
            "   5% : 0.463\n",
            "   2.5% : 0.574\n",
            "   1% : 0.739\n",
            "KPSS Test: Stock time series\n",
            "KPSS Statistic: 0.40169971045593394\n",
            "p-value: 0.0764225385965802\n",
            "num lags: 10\n",
            "Critial Values:\n",
            "   10% : 0.347\n",
            "   5% : 0.463\n",
            "   2.5% : 0.574\n",
            "   1% : 0.739\n"
          ],
          "name": "stdout"
        },
        {
          "output_type": "stream",
          "text": [
            "/usr/local/lib/python3.7/dist-packages/statsmodels/tsa/stattools.py:1685: FutureWarning: The behavior of using lags=None will change in the next release. Currently lags=None is the same as lags='legacy', and so a sample-size lag length is used. After the next release, the default will change to be the same as lags='auto' which uses an automatic lag length selection method. To silence this warning, either use 'auto' or 'legacy'\n",
            "  warn(msg, FutureWarning)\n",
            "/usr/local/lib/python3.7/dist-packages/statsmodels/tsa/stattools.py:1711: InterpolationWarning: p-value is greater than the indicated p-value\n",
            "  warn(\"p-value is greater than the indicated p-value\", InterpolationWarning)\n"
          ],
          "name": "stderr"
        }
      ]
    },
    {
      "cell_type": "code",
      "metadata": {
        "colab": {
          "base_uri": "https://localhost:8080/"
        },
        "id": "oT7z_kuXUZFR",
        "outputId": "b0e62641-3bcc-492d-c9ed-f5fef111ac44"
      },
      "source": [
        "#We make the series stationary by differencing if the series appears non stationary from the ADF & KPSS tests\n",
        "# The Stock_fall column is non-stationary here\n",
        "\n",
        "a = df_train['HS'][0]\n",
        "b = df_train['Stock_fall'][0]\n",
        "\n",
        "df_train['HS'] = df_train['HS'].astype(float).diff(1)\n",
        "df_train['Stock_fall'] = df_train['Stock_fall'].astype(float).diff(1)\n",
        "\n",
        "df_train_transformed = df_train\n",
        "df_train_transformed['HS'][0] = a\n",
        "df_train_transformed['Stock_fall'][0] = b\n",
        "\n",
        "print('ADF Test: Hate time series')\n",
        "adf_test(df_train_transformed['HS'])\n",
        "print('ADF Test: Stock Rise time series')\n",
        "adf_test(df_train_transformed['Stock_fall'].astype(float))\n",
        "\n",
        "print('KPSS Test: Hate time series')\n",
        "kpss_test(df_train_transformed['HS'].astype(float))\n",
        "print('KPSS Test: Stock Fall time series')\n",
        "kpss_test(df_train_transformed['Stock_fall'].astype(float))\n"
      ],
      "execution_count": null,
      "outputs": [
        {
          "output_type": "stream",
          "text": [
            "ADF Test: Hate time series\n",
            "ADF Statistics: -7.129848\n",
            "p-value: 0.000000\n",
            "Critical values:\n",
            "\t1%: -3.593\n",
            "\t5%: -2.932\n",
            "\t10%: -2.604\n",
            "ADF Test: Stock Rise time series\n",
            "ADF Statistics: -7.568496\n",
            "p-value: 0.000000\n",
            "Critical values:\n",
            "\t1%: -3.597\n",
            "\t5%: -2.933\n",
            "\t10%: -2.605\n",
            "KPSS Test: Hate time series\n",
            "KPSS Statistic: 0.19275938156259992\n",
            "p-value: 0.1\n",
            "num lags: 10\n",
            "Critial Values:\n",
            "   10% : 0.347\n",
            "   5% : 0.463\n",
            "   2.5% : 0.574\n",
            "   1% : 0.739\n",
            "KPSS Test: Stock Fall time series\n",
            "KPSS Statistic: 0.17532999655644801\n",
            "p-value: 0.1\n",
            "num lags: 10\n",
            "Critial Values:\n",
            "   10% : 0.347\n",
            "   5% : 0.463\n",
            "   2.5% : 0.574\n",
            "   1% : 0.739\n"
          ],
          "name": "stdout"
        },
        {
          "output_type": "stream",
          "text": [
            "/usr/local/lib/python3.7/dist-packages/ipykernel_launcher.py:5: SettingWithCopyWarning: \n",
            "A value is trying to be set on a copy of a slice from a DataFrame.\n",
            "Try using .loc[row_indexer,col_indexer] = value instead\n",
            "\n",
            "See the caveats in the documentation: https://pandas.pydata.org/pandas-docs/stable/user_guide/indexing.html#returning-a-view-versus-a-copy\n",
            "  \"\"\"\n",
            "/usr/local/lib/python3.7/dist-packages/ipykernel_launcher.py:6: SettingWithCopyWarning: \n",
            "A value is trying to be set on a copy of a slice from a DataFrame.\n",
            "Try using .loc[row_indexer,col_indexer] = value instead\n",
            "\n",
            "See the caveats in the documentation: https://pandas.pydata.org/pandas-docs/stable/user_guide/indexing.html#returning-a-view-versus-a-copy\n",
            "  \n",
            "/usr/local/lib/python3.7/dist-packages/IPython/core/interactiveshell.py:2882: SettingWithCopyWarning: \n",
            "A value is trying to be set on a copy of a slice from a DataFrame\n",
            "\n",
            "See the caveats in the documentation: https://pandas.pydata.org/pandas-docs/stable/user_guide/indexing.html#returning-a-view-versus-a-copy\n",
            "  exec(code_obj, self.user_global_ns, self.user_ns)\n",
            "/usr/local/lib/python3.7/dist-packages/statsmodels/tsa/stattools.py:1685: FutureWarning: The behavior of using lags=None will change in the next release. Currently lags=None is the same as lags='legacy', and so a sample-size lag length is used. After the next release, the default will change to be the same as lags='auto' which uses an automatic lag length selection method. To silence this warning, either use 'auto' or 'legacy'\n",
            "  warn(msg, FutureWarning)\n",
            "/usr/local/lib/python3.7/dist-packages/statsmodels/tsa/stattools.py:1711: InterpolationWarning: p-value is greater than the indicated p-value\n",
            "  warn(\"p-value is greater than the indicated p-value\", InterpolationWarning)\n",
            "/usr/local/lib/python3.7/dist-packages/statsmodels/tsa/stattools.py:1711: InterpolationWarning: p-value is greater than the indicated p-value\n",
            "  warn(\"p-value is greater than the indicated p-value\", InterpolationWarning)\n"
          ],
          "name": "stderr"
        }
      ]
    },
    {
      "cell_type": "code",
      "metadata": {
        "id": "0daySKVVReoY"
      },
      "source": [
        "# df_train['HS'] = df_train['HS'].astype(float)\n",
        "# df_train['Stock_fall'] = df_train['Stock_fall'].astype(float)\n",
        "\n",
        "# df_train_transformed = df_train"
      ],
      "execution_count": null,
      "outputs": []
    },
    {
      "cell_type": "code",
      "metadata": {
        "colab": {
          "base_uri": "https://localhost:8080/"
        },
        "id": "1DsK9gnURerO",
        "outputId": "e4fb41db-d384-4b2c-e97d-806d33ae4e74"
      },
      "source": [
        "# VAR method (assumes time series are stationary)\n",
        "from statsmodels.tsa.api import VAR\n",
        "\n",
        "model = VAR(df_train_transformed.astype(float))\n",
        "for i in range(0,30):\n",
        "    result = model.fit(i)\n",
        "    print('Lag Order =', i)\n",
        "    print('AIC : ', result.aic)\n",
        "    print('BIC : ', result.bic)\n",
        "    print('FPE : ', result.fpe)\n",
        "    print('HQIC: ', result.hqic, '\\n')"
      ],
      "execution_count": null,
      "outputs": [
        {
          "output_type": "stream",
          "text": [
            "Lag Order = 0\n",
            "AIC :  -3.595267183355941\n",
            "BIC :  -3.5141676545414744\n",
            "FPE :  0.02745377696573976\n",
            "HQIC:  -3.565191568391779 \n",
            "\n",
            "Lag Order = 1\n",
            "AIC :  -3.8848628560878713\n",
            "BIC :  -3.639114002735281\n",
            "FPE :  0.02055998148810832\n",
            "HQIC:  -3.7942382738979554 \n",
            "\n",
            "Lag Order = 2\n",
            "AIC :  -3.890566637174353\n",
            "BIC :  -3.476835775678313\n",
            "FPE :  0.02048017906925351\n",
            "HQIC:  -3.7389179131241965 \n",
            "\n",
            "Lag Order = 3\n",
            "AIC :  -4.0895976013192605\n",
            "BIC :  -3.5044754322007163\n",
            "FPE :  0.016859458270000443\n",
            "HQIC:  -3.8765283679213267 \n",
            "\n",
            "Lag Order = 4\n",
            "AIC :  -3.9175743364409468\n",
            "BIC :  -3.157578582089675\n",
            "FPE :  0.02020332368618472\n",
            "HQIC:  -3.6427838695740338 \n",
            "\n",
            "Lag Order = 5\n",
            "AIC :  -4.009208171248984\n",
            "BIC :  -3.0707887811245675\n",
            "FPE :  0.018727236659379823\n",
            "HQIC:  -3.6725113694555582 \n",
            "\n",
            "Lag Order = 6\n",
            "AIC :  -4.04627805947969\n",
            "BIC :  -2.925824371245847\n",
            "FPE :  0.01852193642954973\n",
            "HQIC:  -3.647629202256795 \n",
            "\n",
            "Lag Order = 7\n",
            "AIC :  -3.876435258008974\n",
            "BIC :  -2.570285599108252\n",
            "FPE :  0.022876288325080617\n",
            "HQIC:  -3.41595632375871 \n",
            "\n",
            "Lag Order = 8\n",
            "AIC :  -4.215843891916096\n",
            "BIC :  -2.7202982278186596\n",
            "FPE :  0.017369718377183874\n",
            "HQIC:  -3.6938583982689543 \n",
            "\n",
            "Lag Order = 9\n",
            "AIC :  -4.320650373347602\n",
            "BIC :  -2.631986763730524\n",
            "FPE :  0.017261299678596742\n",
            "HQIC:  -3.737723932772056 \n",
            "\n",
            "Lag Order = 10\n",
            "AIC :  -4.381790503012477\n",
            "BIC :  -2.4962863255454533\n",
            "FPE :  0.018918574102406178\n",
            "HQIC:  -3.738779579387301 \n",
            "\n",
            "Lag Order = 11\n",
            "AIC :  -4.4873716524251295\n",
            "BIC :  -2.401330809168824\n",
            "FPE :  0.0217157550040156\n",
            "HQIC:  -3.7854823788440988 \n",
            "\n",
            "Lag Order = 12\n",
            "AIC :  -5.318370298449327\n",
            "BIC :  -3.028157950324754\n",
            "FPE :  0.014277247954869671\n",
            "HQIC:  -4.559229698910464 \n",
            "\n",
            "Lag Order = 13\n",
            "AIC :  -7.496745331350185\n",
            "BIC :  -4.998832136440576\n",
            "FPE :  0.0035802630620876256\n",
            "HQIC:  -6.682487914413719 \n",
            "\n",
            "Lag Order = 14\n",
            "AIC :  -46.06988278619428\n",
            "BIC :  -43.36090118164744\n",
            "FPE :  7.15378939649783e-19\n",
            "HQIC:  -45.20325629548165 \n",
            "\n",
            "Lag Order = 15\n",
            "AIC :  -134.01092699186586\n",
            "BIC :  -131.0877428036189\n",
            "FPE :  7.889565756526701e-58\n",
            "HQIC:  -133.09542217320262 \n",
            "\n",
            "Lag Order = 16\n",
            "AIC :  -135.66005122864715\n",
            "BIC :  -132.5198548832342\n",
            "FPE :  1.6177809838313585e-59\n",
            "HQIC:  -134.70006189995942 \n",
            "\n",
            "Lag Order = 17\n",
            "AIC :  -134.6756402910586\n",
            "BIC :  -131.3160632310474\n",
            "FPE :  1.0909847155074217e-59\n",
            "HQIC:  -133.67666191032257 \n",
            "\n",
            "Lag Order = 18\n",
            "AIC :  -135.46862084400885\n",
            "BIC :  -131.88788454348617\n",
            "FPE :  1.6236163083806945e-60\n",
            "HQIC:  -134.4374983501704 \n",
            "\n",
            "Lag Order = 19\n",
            "AIC :  -133.3857790972496\n",
            "BIC :  -129.58288652366085\n",
            "FPE :  4.801738260115533e-60\n",
            "HQIC:  -132.3310183197144 \n",
            "\n",
            "Lag Order = 20\n",
            "AIC :  -132.4555038960486\n",
            "BIC :  -128.4304866423598\n",
            "FPE :  4.7049549682007577e-60\n",
            "HQIC:  -131.38766568560388 \n",
            "\n",
            "Lag Order = 21\n",
            "AIC :  -131.3775334479084\n",
            "BIC :  -127.13177246660811\n",
            "FPE :  5.40409067456336e-60\n",
            "HQIC:  -130.30973646170403 \n",
            "\n",
            "Lag Order = 22\n",
            "AIC :  -131.34158236397576\n",
            "BIC :  -126.87822687296448\n",
            "FPE :  2.1599862172488955e-60\n",
            "HQIC:  -130.29015002028873 \n",
            "\n",
            "Lag Order = 23\n",
            "AIC :  -131.6820496767643\n",
            "BIC :  -127.00656828885947\n",
            "FPE :  5.732102419344304e-61\n",
            "HQIC:  -130.6673505270273 \n",
            "\n",
            "Lag Order = 24\n",
            "AIC :  -130.61247678307302\n",
            "BIC :  -125.73338864265847\n",
            "FPE :  5.922953572690177e-61\n",
            "HQIC:  -129.66002751949654 \n",
            "\n",
            "Lag Order = 25\n",
            "AIC :  -130.48817016305148\n",
            "BIC :  -125.41802406436848\n",
            "FPE :  2.2215320774199956e-61\n",
            "HQIC:  -129.63009999976174 \n",
            "\n",
            "Lag Order = 26\n",
            "AIC :  -128.8790340197945\n",
            "BIC :  -123.63573366773929\n",
            "FPE :  3.372122965690868e-61\n",
            "HQIC:  -128.1560536021303 \n",
            "\n",
            "Lag Order = 27\n",
            "AIC :  -126.87180608826452\n",
            "BIC :  -121.4804256267243\n",
            "FPE :  6.840549279039232e-61\n",
            "HQIC:  -126.33589223823795 \n",
            "\n",
            "Lag Order = 28\n",
            "AIC :  -125.3494803535099\n",
            "BIC :  -119.84478570755147\n",
            "FPE :  7.478147254188655e-61\n",
            "HQIC:  -125.06759482584019 \n",
            "\n",
            "Lag Order = 29\n",
            "AIC :  -125.37906615415547\n",
            "BIC :  -119.80907123881808\n",
            "FPE :  1.4696761989733804e-61\n",
            "HQIC:  -125.43839823838685 \n",
            "\n"
          ],
          "name": "stdout"
        }
      ]
    },
    {
      "cell_type": "markdown",
      "metadata": {
        "id": "qeRThM7hZhq-"
      },
      "source": [
        "With lag order 3\n"
      ]
    },
    {
      "cell_type": "code",
      "metadata": {
        "colab": {
          "base_uri": "https://localhost:8080/"
        },
        "id": "7eT--9srRe0S",
        "outputId": "7e746177-3a24-487c-9c6d-1c1b85e34a0c"
      },
      "source": [
        "results = model.fit(maxlags=3, ic='aic') # 3 for least AIC between lag order 0-7\n",
        "results.summary()"
      ],
      "execution_count": null,
      "outputs": [
        {
          "output_type": "execute_result",
          "data": {
            "text/plain": [
              "  Summary of Regression Results   \n",
              "==================================\n",
              "Model:                         VAR\n",
              "Method:                        OLS\n",
              "Date:           Tue, 24, Aug, 2021\n",
              "Time:                     07:25:45\n",
              "--------------------------------------------------------------------\n",
              "No. of Equations:         2.00000    BIC:                   -3.50448\n",
              "Nobs:                     41.0000    HQIC:                  -3.87653\n",
              "Log likelihood:          -18.5162    FPE:                  0.0168595\n",
              "AIC:                     -4.08960    Det(Omega_mle):       0.0123007\n",
              "--------------------------------------------------------------------\n",
              "Results for equation HS\n",
              "================================================================================\n",
              "                   coefficient       std. error           t-stat            prob\n",
              "--------------------------------------------------------------------------------\n",
              "const                -0.024461         0.061369           -0.399           0.690\n",
              "L1.HS                -0.164825         0.147012           -1.121           0.262\n",
              "L1.Stock_fall         0.001603         0.222947            0.007           0.994\n",
              "L2.HS                -0.311622         0.144744           -2.153           0.031\n",
              "L2.Stock_fall        -0.196735         0.280177           -0.702           0.483\n",
              "L3.HS                -0.302755         0.147020           -2.059           0.039\n",
              "L3.Stock_fall         0.252180         0.219080            1.151           0.250\n",
              "================================================================================\n",
              "\n",
              "Results for equation Stock_fall\n",
              "================================================================================\n",
              "                   coefficient       std. error           t-stat            prob\n",
              "--------------------------------------------------------------------------------\n",
              "const                -0.031213         0.044373           -0.703           0.482\n",
              "L1.HS                -0.019851         0.106296           -0.187           0.852\n",
              "L1.Stock_fall        -0.877719         0.161201           -5.445           0.000\n",
              "L2.HS                 0.040481         0.104657            0.387           0.699\n",
              "L2.Stock_fall        -0.286412         0.202581           -1.414           0.157\n",
              "L3.HS                 0.190038         0.106302            1.788           0.074\n",
              "L3.Stock_fall         0.025260         0.158405            0.159           0.873\n",
              "================================================================================\n",
              "\n",
              "Correlation matrix of residuals\n",
              "                    HS  Stock_fall\n",
              "HS            1.000000    0.012224\n",
              "Stock_fall    0.012224    1.000000\n",
              "\n"
            ]
          },
          "metadata": {},
          "execution_count": 154
        }
      ]
    },
    {
      "cell_type": "code",
      "metadata": {
        "colab": {
          "base_uri": "https://localhost:8080/"
        },
        "id": "lqV8xz5CShkQ",
        "outputId": "dd948d17-2a69-41de-e8ec-192ea018afd0"
      },
      "source": [
        "# The Durbin Watson Test is a measure of autocorrelation in residuals from regression analysis\n",
        "# A value of 2.0 means that there is no autocorrelation detected in the residuals\n",
        "\n",
        "from statsmodels.stats.stattools import durbin_watson\n",
        "\n",
        "out = durbin_watson(results.resid)\n",
        "\n",
        "for col, val in zip(df.columns, out):\n",
        "    print(col, ':', round(val, 2))  \n",
        "\n",
        "# If within the range of 1.5 and 2.5, we would consider autocorrelation not to be problematic in this regression model      "
      ],
      "execution_count": null,
      "outputs": [
        {
          "output_type": "stream",
          "text": [
            "HS : 2.07\n",
            "Stock_fall : 1.92\n"
          ],
          "name": "stdout"
        }
      ]
    },
    {
      "cell_type": "code",
      "metadata": {
        "colab": {
          "base_uri": "https://localhost:8080/",
          "height": 283
        },
        "id": "7qaOi4aoShqq",
        "outputId": "56985441-e691-49a6-9f37-9d2fb7cbeae7"
      },
      "source": [
        "# Plotting autocorrelation plot for residuals\n",
        "import matplotlib.pyplot as plt\n",
        "  \n",
        "# Creating Autocorrelation plot\n",
        "x = pd.plotting.autocorrelation_plot(results.resid)\n",
        "x.plot()\n",
        "plt.show()"
      ],
      "execution_count": null,
      "outputs": [
        {
          "output_type": "display_data",
          "data": {
            "image/png": "[encoded data removed]",
            "text/plain": [
              "<Figure size 432x288 with 1 Axes>"
            ]
          },
          "metadata": {
            "needs_background": "light"
          }
        }
      ]
    },
    {
      "cell_type": "code",
      "metadata": {
        "colab": {
          "base_uri": "https://localhost:8080/",
          "height": 110
        },
        "id": "AjJZR5fLShvX",
        "outputId": "ae4945b2-e138-4310-cc8b-685f62668ed6"
      },
      "source": [
        "# Granger Causality\n",
        "\n",
        "from statsmodels.tsa.stattools import grangercausalitytests\n",
        "\n",
        "maxlag = 3 # Same maxlag val as b4\n",
        "test = 'ssr_chi2test'\n",
        "\n",
        "def grangers_causation_matrix(data, variables, test='ssr_chi2test', verbose=False):    \n",
        "   \n",
        "    df = pd.DataFrame(np.zeros((len(variables), len(variables))), columns=variables, index=variables)\n",
        "    for c in df.columns:\n",
        "        for r in df.index:\n",
        "            test_result = grangercausalitytests(data[[r, c]], maxlag=maxlag, verbose=False)\n",
        "            p_values = [round(test_result[i+1][0][test][1],4) for i in range(maxlag)]\n",
        "            if verbose: print(f'Y = {r}, X = {c}, P Values = {p_values}')\n",
        "            min_p_value = np.min(p_values)\n",
        "            df.loc[r, c] = min_p_value\n",
        "    df.columns = [var + '_x' for var in variables]\n",
        "    df.index = [var + '_y' for var in variables]\n",
        "    return df\n",
        "\n",
        "grangers_causation_matrix(df_train_transformed, variables = df_train_transformed.columns)\n"
      ],
      "execution_count": null,
      "outputs": [
        {
          "output_type": "execute_result",
          "data": {
            "text/html": [
              "<div>\n",
              "<style scoped>\n",
              "    .dataframe tbody tr th:only-of-type {\n",
              "        vertical-align: middle;\n",
              "    }\n",
              "\n",
              "    .dataframe tbody tr th {\n",
              "        vertical-align: top;\n",
              "    }\n",
              "\n",
              "    .dataframe thead th {\n",
              "        text-align: right;\n",
              "    }\n",
              "</style>\n",
              "<table border=\"1\" class=\"dataframe\">\n",
              "  <thead>\n",
              "    <tr style=\"text-align: right;\">\n",
              "      <th></th>\n",
              "      <th>HS_x</th>\n",
              "      <th>Stock_fall_x</th>\n",
              "    </tr>\n",
              "  </thead>\n",
              "  <tbody>\n",
              "    <tr>\n",
              "      <th>HS_y</th>\n",
              "      <td>1.0000</td>\n",
              "      <td>0.1745</td>\n",
              "    </tr>\n",
              "    <tr>\n",
              "      <th>Stock_fall_y</th>\n",
              "      <td>0.2237</td>\n",
              "      <td>1.0000</td>\n",
              "    </tr>\n",
              "  </tbody>\n",
              "</table>\n",
              "</div>"
            ],
            "text/plain": [
              "                HS_x  Stock_fall_x\n",
              "HS_y          1.0000        0.1745\n",
              "Stock_fall_y  0.2237        1.0000"
            ]
          },
          "metadata": {},
          "execution_count": 157
        }
      ]
    },
    {
      "cell_type": "code",
      "metadata": {
        "id": "xKiP9GI-Shxw"
      },
      "source": [
        "# Invert the transformation\n",
        "\n",
        "lag_order = results.k_ar\n",
        "\n",
        "df_input = df_train_transformed.values[-lag_order:]\n",
        "df_forecast = results.forecast(y=df_input, steps=n_obs)\n",
        "df_forecast = (pd.DataFrame(df_forecast, index=df_test.index, columns=df_test.columns + '_pred'))\n",
        "\n",
        "def invert_transformation(df, pred):\n",
        "    forecast = df_forecast.copy()\n",
        "    columns = df.columns\n",
        "    for col in columns:\n",
        "        forecast[str(col)+'_pred'] = df[col].iloc[-1] + forecast[str(col)+'_pred'].cumsum()\n",
        "    return forecast\n",
        "output = invert_transformation(df_train, df_forecast)\n",
        "\n",
        "combined = pd.concat([output['HS_pred'], df_test['HS'], output['Stock_fall_pred'], df_test['Stock_fall']], axis=1)\n"
      ],
      "execution_count": null,
      "outputs": []
    },
    {
      "cell_type": "code",
      "metadata": {
        "colab": {
          "base_uri": "https://localhost:8080/"
        },
        "id": "BupTIOZISh1Y",
        "outputId": "8e44c96d-cab3-467d-eb7a-8f124ce61b1e"
      },
      "source": [
        "from sklearn.metrics import mean_squared_error\n",
        "from sklearn.metrics import mean_absolute_error\n",
        "\n",
        "\n",
        "rmse = mean_squared_error(combined['HS_pred'], combined['HS'], squared=False)\n",
        "mae = mean_absolute_error(combined['HS_pred'], combined['HS'])\n",
        "\n",
        "print('Forecast accuracy of Hate')\n",
        "print('RMSE: ', round(rmse,2))\n",
        "print('MAE: ', round(mae,2))\n",
        "\n",
        "rmse = mean_squared_error(combined['Stock_fall_pred'], combined['Stock_fall'], squared=False)\n",
        "mae = mean_absolute_error(combined['Stock_fall_pred'], combined['Stock_fall'])\n",
        "\n",
        "print('Forecast accuracy of Stock')\n",
        "print('RMSE: ', round(rmse,2))\n",
        "print('MAE: ', round(mae,2))\n"
      ],
      "execution_count": null,
      "outputs": [
        {
          "output_type": "stream",
          "text": [
            "Forecast accuracy of Hate\n",
            "RMSE:  1.08\n",
            "MAE:  0.94\n",
            "Forecast accuracy of Stock\n",
            "RMSE:  1.61\n",
            "MAE:  1.51\n"
          ],
          "name": "stdout"
        }
      ]
    },
    {
      "cell_type": "markdown",
      "metadata": {
        "id": "_aUnCSfKbjnM"
      },
      "source": [
        "With lag order = 8\n"
      ]
    },
    {
      "cell_type": "code",
      "metadata": {
        "colab": {
          "base_uri": "https://localhost:8080/"
        },
        "id": "LK02atZxbm2F",
        "outputId": "11900b06-c78f-4677-ebba-518a8f3d09a7"
      },
      "source": [
        "results = model.fit(maxlags=8, ic='aic') # 3 for least AIC between lag order 0-7\n",
        "results.summary()"
      ],
      "execution_count": null,
      "outputs": [
        {
          "output_type": "execute_result",
          "data": {
            "text/plain": [
              "  Summary of Regression Results   \n",
              "==================================\n",
              "Model:                         VAR\n",
              "Method:                        OLS\n",
              "Date:           Tue, 24, Aug, 2021\n",
              "Time:                     07:26:31\n",
              "--------------------------------------------------------------------\n",
              "No. of Equations:         2.00000    BIC:                   -2.72030\n",
              "Nobs:                     36.0000    HQIC:                  -3.69386\n",
              "Log likelihood:           7.72162    FPE:                  0.0173697\n",
              "AIC:                     -4.21584    Det(Omega_mle):      0.00801394\n",
              "--------------------------------------------------------------------\n",
              "Results for equation HS\n",
              "================================================================================\n",
              "                   coefficient       std. error           t-stat            prob\n",
              "--------------------------------------------------------------------------------\n",
              "const                -0.136372         0.063388           -2.151           0.031\n",
              "L1.HS                -0.450881         0.191934           -2.349           0.019\n",
              "L1.Stock_fall         0.051687         0.241156            0.214           0.830\n",
              "L2.HS                -0.494121         0.198221           -2.493           0.013\n",
              "L2.Stock_fall        -0.152963         0.342482           -0.447           0.655\n",
              "L3.HS                -0.623726         0.203163           -3.070           0.002\n",
              "L3.Stock_fall         0.085833         0.354193            0.242           0.809\n",
              "L4.HS                -0.343407         0.203480           -1.688           0.091\n",
              "L4.Stock_fall        -0.534092         0.348738           -1.532           0.126\n",
              "L5.HS                -0.279270         0.211301           -1.322           0.186\n",
              "L5.Stock_fall        -1.257553         0.347948           -3.614           0.000\n",
              "L6.HS                -0.124836         0.185941           -0.671           0.502\n",
              "L6.Stock_fall        -1.025965         0.390039           -2.630           0.009\n",
              "L7.HS                -0.058625         0.173790           -0.337           0.736\n",
              "L7.Stock_fall        -0.567682         0.345353           -1.644           0.100\n",
              "L8.HS                 0.016769         0.169186            0.099           0.921\n",
              "L8.Stock_fall        -0.429042         0.235882           -1.819           0.069\n",
              "================================================================================\n",
              "\n",
              "Results for equation Stock_fall\n",
              "================================================================================\n",
              "                   coefficient       std. error           t-stat            prob\n",
              "--------------------------------------------------------------------------------\n",
              "const                 0.005647         0.052337            0.108           0.914\n",
              "L1.HS                 0.131444         0.158473            0.829           0.407\n",
              "L1.Stock_fall        -0.894728         0.199114           -4.494           0.000\n",
              "L2.HS                 0.120734         0.163664            0.738           0.461\n",
              "L2.Stock_fall        -0.044500         0.282776           -0.157           0.875\n",
              "L3.HS                 0.293315         0.167745            1.749           0.080\n",
              "L3.Stock_fall         0.328717         0.292445            1.124           0.261\n",
              "L4.HS                 0.101341         0.168006            0.603           0.546\n",
              "L4.Stock_fall         0.177896         0.287941            0.618           0.537\n",
              "L5.HS                -0.081296         0.174464           -0.466           0.641\n",
              "L5.Stock_fall         0.190178         0.287289            0.662           0.508\n",
              "L6.HS                 0.107519         0.153525            0.700           0.484\n",
              "L6.Stock_fall         0.104732         0.322042            0.325           0.745\n",
              "L7.HS                -0.130160         0.143492           -0.907           0.364\n",
              "L7.Stock_fall        -0.003721         0.285146           -0.013           0.990\n",
              "L8.HS                -0.336641         0.139691           -2.410           0.016\n",
              "L8.Stock_fall        -0.092047         0.194760           -0.473           0.636\n",
              "================================================================================\n",
              "\n",
              "Correlation matrix of residuals\n",
              "                    HS  Stock_fall\n",
              "HS            1.000000    0.062533\n",
              "Stock_fall    0.062533    1.000000\n",
              "\n"
            ]
          },
          "metadata": {},
          "execution_count": 160
        }
      ]
    },
    {
      "cell_type": "code",
      "metadata": {
        "colab": {
          "base_uri": "https://localhost:8080/"
        },
        "id": "_RDUh5BAbuJ8",
        "outputId": "c53bd014-ddc4-4745-e676-d1c80b78d38b"
      },
      "source": [
        "# The Durbin Watson Test is a measure of autocorrelation in residuals from regression analysis\n",
        "# A value of 2.0 means that there is no autocorrelation detected in the residuals\n",
        "\n",
        "from statsmodels.stats.stattools import durbin_watson\n",
        "\n",
        "out = durbin_watson(results.resid)\n",
        "\n",
        "for col, val in zip(df.columns, out):\n",
        "    print(col, ':', round(val, 2))  \n",
        "\n",
        "# If within the range of 1.5 and 2.5, we would consider autocorrelation not to be problematic in this regression model "
      ],
      "execution_count": null,
      "outputs": [
        {
          "output_type": "stream",
          "text": [
            "HS : 2.2\n",
            "Stock_fall : 1.62\n"
          ],
          "name": "stdout"
        }
      ]
    },
    {
      "cell_type": "code",
      "metadata": {
        "colab": {
          "base_uri": "https://localhost:8080/",
          "height": 283
        },
        "id": "JOuCl59Bb7UW",
        "outputId": "0d7e0f0f-4aa5-44a0-cf1b-396782c7def7"
      },
      "source": [
        "# Plotting autocorrelation plot for residuals\n",
        "import matplotlib.pyplot as plt\n",
        "  \n",
        "# Creating Autocorrelation plot\n",
        "x = pd.plotting.autocorrelation_plot(results.resid)\n",
        "x.plot()\n",
        "plt.show()"
      ],
      "execution_count": null,
      "outputs": [
        {
          "output_type": "display_data",
          "data": {
            "image/png": "[encoded data removed]",
            "text/plain": [
              "<Figure size 432x288 with 1 Axes>"
            ]
          },
          "metadata": {
            "needs_background": "light"
          }
        }
      ]
    },
    {
      "cell_type": "code",
      "metadata": {
        "colab": {
          "base_uri": "https://localhost:8080/",
          "height": 110
        },
        "id": "SKoFPev3cCay",
        "outputId": "3bcff581-e072-4e78-9091-d418a0876bd2"
      },
      "source": [
        "# Granger Causality\n",
        "\n",
        "from statsmodels.tsa.stattools import grangercausalitytests\n",
        "\n",
        "maxlag = 8 # Same maxlag val as b4\n",
        "test = 'ssr_chi2test'\n",
        "\n",
        "def grangers_causation_matrix(data, variables, test='ssr_chi2test', verbose=False):    \n",
        "   \n",
        "    df = pd.DataFrame(np.zeros((len(variables), len(variables))), columns=variables, index=variables)\n",
        "    for c in df.columns:\n",
        "        for r in df.index:\n",
        "            test_result = grangercausalitytests(data[[r, c]], maxlag=maxlag, verbose=False)\n",
        "            p_values = [round(test_result[i+1][0][test][1],4) for i in range(maxlag)]\n",
        "            if verbose: print(f'Y = {r}, X = {c}, P Values = {p_values}')\n",
        "            min_p_value = np.min(p_values)\n",
        "            df.loc[r, c] = min_p_value\n",
        "    df.columns = [var + '_x' for var in variables]\n",
        "    df.index = [var + '_y' for var in variables]\n",
        "    return df\n",
        "\n",
        "grangers_causation_matrix(df_train_transformed, variables = df_train_transformed.columns)"
      ],
      "execution_count": null,
      "outputs": [
        {
          "output_type": "execute_result",
          "data": {
            "text/html": [
              "<div>\n",
              "<style scoped>\n",
              "    .dataframe tbody tr th:only-of-type {\n",
              "        vertical-align: middle;\n",
              "    }\n",
              "\n",
              "    .dataframe tbody tr th {\n",
              "        vertical-align: top;\n",
              "    }\n",
              "\n",
              "    .dataframe thead th {\n",
              "        text-align: right;\n",
              "    }\n",
              "</style>\n",
              "<table border=\"1\" class=\"dataframe\">\n",
              "  <thead>\n",
              "    <tr style=\"text-align: right;\">\n",
              "      <th></th>\n",
              "      <th>HS_x</th>\n",
              "      <th>Stock_fall_x</th>\n",
              "    </tr>\n",
              "  </thead>\n",
              "  <tbody>\n",
              "    <tr>\n",
              "      <th>HS_y</th>\n",
              "      <td>1.0000</td>\n",
              "      <td>0.0</td>\n",
              "    </tr>\n",
              "    <tr>\n",
              "      <th>Stock_fall_y</th>\n",
              "      <td>0.0027</td>\n",
              "      <td>1.0</td>\n",
              "    </tr>\n",
              "  </tbody>\n",
              "</table>\n",
              "</div>"
            ],
            "text/plain": [
              "                HS_x  Stock_fall_x\n",
              "HS_y          1.0000           0.0\n",
              "Stock_fall_y  0.0027           1.0"
            ]
          },
          "metadata": {},
          "execution_count": 163
        }
      ]
    },
    {
      "cell_type": "code",
      "metadata": {
        "id": "4nhO9PDKcWvZ"
      },
      "source": [
        "# Invert the transformation\n",
        "\n",
        "lag_order = results.k_ar\n",
        "\n",
        "df_input = df_train_transformed.values[-lag_order:]\n",
        "df_forecast = results.forecast(y=df_input, steps=n_obs)\n",
        "df_forecast = (pd.DataFrame(df_forecast, index=df_test.index, columns=df_test.columns + '_pred'))\n",
        "\n",
        "def invert_transformation(df, pred):\n",
        "    forecast = df_forecast.copy()\n",
        "    columns = df.columns\n",
        "    for col in columns:\n",
        "        forecast[str(col)+'_pred'] = df[col].iloc[-1] + forecast[str(col)+'_pred'].cumsum()\n",
        "    return forecast\n",
        "output = invert_transformation(df_train, df_forecast)\n",
        "\n",
        "combined = pd.concat([output['HS_pred'], df_test['HS'], output['Stock_fall_pred'], df_test['Stock_fall']], axis=1)\n"
      ],
      "execution_count": null,
      "outputs": []
    },
    {
      "cell_type": "code",
      "metadata": {
        "colab": {
          "base_uri": "https://localhost:8080/"
        },
        "id": "z6fzWTqDcYLP",
        "outputId": "232b28f6-7f74-4d83-985e-bd3c16ebcabf"
      },
      "source": [
        "from sklearn.metrics import mean_squared_error\n",
        "from sklearn.metrics import mean_absolute_error\n",
        "\n",
        "\n",
        "rmse = mean_squared_error(combined['HS_pred'], combined['HS'], squared=False)\n",
        "mae = mean_absolute_error(combined['HS_pred'], combined['HS'])\n",
        "\n",
        "print('Forecast accuracy of Hate')\n",
        "print('RMSE: ', round(rmse,2))\n",
        "print('MAE: ', round(mae,2))\n",
        "\n",
        "rmse = mean_squared_error(combined['Stock_fall_pred'], combined['Stock_fall'], squared=False)\n",
        "mae = mean_absolute_error(combined['Stock_fall_pred'], combined['Stock_fall'])\n",
        "\n",
        "print('Forecast accuracy of Stock')\n",
        "print('RMSE: ', round(rmse,2))\n",
        "print('MAE: ', round(mae,2))\n"
      ],
      "execution_count": null,
      "outputs": [
        {
          "output_type": "stream",
          "text": [
            "Forecast accuracy of Hate\n",
            "RMSE:  2.94\n",
            "MAE:  2.69\n",
            "Forecast accuracy of Stock\n",
            "RMSE:  0.78\n",
            "MAE:  0.73\n"
          ],
          "name": "stdout"
        }
      ]
    },
    {
      "cell_type": "markdown",
      "metadata": {
        "id": "W5JQGB5EcsGV"
      },
      "source": [
        "Try Granger Causality without differencing time series"
      ]
    },
    {
      "cell_type": "code",
      "metadata": {
        "colab": {
          "base_uri": "https://localhost:8080/",
          "height": 357
        },
        "id": "uBXA-t9KdFUg",
        "outputId": "fe0df0d3-410f-4dc6-d166-db3fda4de003"
      },
      "source": [
        "import pandas as pd\n",
        "import numpy as np\n",
        "from sklearn import preprocessing\n",
        "\n",
        "sheetname=\"Hate Score & Stock CDP Binary & Z-score\" # Enter Sheet name without using extention\n",
        "sh = gc.open(sheetname)\n",
        "worksheet = sh.sheet1\n",
        "sheets = worksheet.get_all_values()\n",
        "\n",
        "df = pd.DataFrame(sheets[10:], columns=sheets[0])\n",
        "df = df[['HS', 'Stock_fall']]\n",
        "\n",
        "for i in range (0,len(df['Stock_fall'])-1):\n",
        "  if (df['Stock_fall'][i]=='Nan'):\n",
        "    df['Stock_fall'][i]=np.nan\n",
        "\n",
        "df.tail(10)"
      ],
      "execution_count": null,
      "outputs": [
        {
          "output_type": "execute_result",
          "data": {
            "text/html": [
              "<div>\n",
              "<style scoped>\n",
              "    .dataframe tbody tr th:only-of-type {\n",
              "        vertical-align: middle;\n",
              "    }\n",
              "\n",
              "    .dataframe tbody tr th {\n",
              "        vertical-align: top;\n",
              "    }\n",
              "\n",
              "    .dataframe thead th {\n",
              "        text-align: right;\n",
              "    }\n",
              "</style>\n",
              "<table border=\"1\" class=\"dataframe\">\n",
              "  <thead>\n",
              "    <tr style=\"text-align: right;\">\n",
              "      <th></th>\n",
              "      <th>HS</th>\n",
              "      <th>Stock_fall</th>\n",
              "    </tr>\n",
              "  </thead>\n",
              "  <tbody>\n",
              "    <tr>\n",
              "      <th>134</th>\n",
              "      <td>0.003117783</td>\n",
              "      <td>0</td>\n",
              "    </tr>\n",
              "    <tr>\n",
              "      <th>135</th>\n",
              "      <td>0.181173301</td>\n",
              "      <td>0.439497787</td>\n",
              "    </tr>\n",
              "    <tr>\n",
              "      <th>136</th>\n",
              "      <td>0.099521548</td>\n",
              "      <td>0.746324625</td>\n",
              "    </tr>\n",
              "    <tr>\n",
              "      <th>137</th>\n",
              "      <td>0</td>\n",
              "      <td>NaN</td>\n",
              "    </tr>\n",
              "    <tr>\n",
              "      <th>138</th>\n",
              "      <td>0</td>\n",
              "      <td>NaN</td>\n",
              "    </tr>\n",
              "    <tr>\n",
              "      <th>139</th>\n",
              "      <td>0</td>\n",
              "      <td>0.27789324</td>\n",
              "    </tr>\n",
              "    <tr>\n",
              "      <th>140</th>\n",
              "      <td>0</td>\n",
              "      <td>0.360369006</td>\n",
              "    </tr>\n",
              "    <tr>\n",
              "      <th>141</th>\n",
              "      <td>0</td>\n",
              "      <td>0</td>\n",
              "    </tr>\n",
              "    <tr>\n",
              "      <th>142</th>\n",
              "      <td>0.784312603</td>\n",
              "      <td>0</td>\n",
              "    </tr>\n",
              "    <tr>\n",
              "      <th>143</th>\n",
              "      <td>0.612440383</td>\n",
              "      <td>0</td>\n",
              "    </tr>\n",
              "  </tbody>\n",
              "</table>\n",
              "</div>"
            ],
            "text/plain": [
              "              HS   Stock_fall\n",
              "134  0.003117783            0\n",
              "135  0.181173301  0.439497787\n",
              "136  0.099521548  0.746324625\n",
              "137            0          NaN\n",
              "138            0          NaN\n",
              "139            0   0.27789324\n",
              "140            0  0.360369006\n",
              "141            0            0\n",
              "142  0.784312603            0\n",
              "143  0.612440383            0"
            ]
          },
          "metadata": {},
          "execution_count": 166
        }
      ]
    },
    {
      "cell_type": "code",
      "metadata": {
        "id": "8UPtR1vAhe9p"
      },
      "source": [
        "df['Stock_fall']=df['Stock_fall'].fillna((df['Stock_fall'].rolling(min_periods=1, center=True, window=7).mean()))\n",
        "\n",
        "# df.head(27)"
      ],
      "execution_count": null,
      "outputs": []
    },
    {
      "cell_type": "code",
      "metadata": {
        "colab": {
          "base_uri": "https://localhost:8080/"
        },
        "id": "pe9HvqBEhfAJ",
        "outputId": "b4c8e0c6-86c0-41ff-c15d-97ceddef1e0f"
      },
      "source": [
        "n_obs = 100\n",
        "df_train, df_test = df[0:-n_obs], df[-n_obs:]\n",
        "\n",
        "\n",
        "df_train['HS'] = df_train['HS'].astype(float)\n",
        "df_train['Stock_fall'] = df_train['Stock_fall'].astype(float)\n",
        "\n",
        "df_train_transformed = df_train"
      ],
      "execution_count": null,
      "outputs": [
        {
          "output_type": "stream",
          "text": [
            "/usr/local/lib/python3.7/dist-packages/ipykernel_launcher.py:5: SettingWithCopyWarning: \n",
            "A value is trying to be set on a copy of a slice from a DataFrame.\n",
            "Try using .loc[row_indexer,col_indexer] = value instead\n",
            "\n",
            "See the caveats in the documentation: https://pandas.pydata.org/pandas-docs/stable/user_guide/indexing.html#returning-a-view-versus-a-copy\n",
            "  \"\"\"\n",
            "/usr/local/lib/python3.7/dist-packages/ipykernel_launcher.py:6: SettingWithCopyWarning: \n",
            "A value is trying to be set on a copy of a slice from a DataFrame.\n",
            "Try using .loc[row_indexer,col_indexer] = value instead\n",
            "\n",
            "See the caveats in the documentation: https://pandas.pydata.org/pandas-docs/stable/user_guide/indexing.html#returning-a-view-versus-a-copy\n",
            "  \n"
          ],
          "name": "stderr"
        }
      ]
    },
    {
      "cell_type": "code",
      "metadata": {
        "colab": {
          "base_uri": "https://localhost:8080/",
          "height": 1000
        },
        "id": "M0Ug-fMShfEn",
        "outputId": "062a6871-1e7e-4200-e52b-48932b87d61e"
      },
      "source": [
        "# VAR method (assumes time series are stationary)\n",
        "from statsmodels.tsa.api import VAR\n",
        "\n",
        "model = VAR(df_train_transformed.astype(float))\n",
        "for i in range(0,30):\n",
        "    result = model.fit(i)\n",
        "    print('Lag Order =', i)\n",
        "    print('AIC : ', result.aic)\n",
        "    print('BIC : ', result.bic)\n",
        "    print('FPE : ', result.fpe)\n",
        "    print('HQIC: ', result.hqic, '\\n')"
      ],
      "execution_count": null,
      "outputs": [
        {
          "output_type": "stream",
          "text": [
            "Lag Order = 0\n",
            "AIC :  -3.618147164686434\n",
            "BIC :  -3.5370476358719674\n",
            "FPE :  0.02683276650618338\n",
            "HQIC:  -3.588071549722272 \n",
            "\n",
            "Lag Order = 1\n",
            "AIC :  -4.050982232138989\n",
            "BIC :  -3.8052333787863986\n",
            "FPE :  0.01741317605423175\n",
            "HQIC:  -3.960357649949073 \n",
            "\n",
            "Lag Order = 2\n",
            "AIC :  -4.3588867698094225\n",
            "BIC :  -3.9451559083133825\n",
            "FPE :  0.01282167901228513\n",
            "HQIC:  -4.207238045759266 \n",
            "\n",
            "Lag Order = 3\n",
            "AIC :  -4.366248215955387\n",
            "BIC :  -3.7811260468368424\n",
            "FPE :  0.012784854221131356\n",
            "HQIC:  -4.153178982557453 \n",
            "\n",
            "Lag Order = 4\n",
            "AIC :  -4.2225690942557765\n",
            "BIC :  -3.4625733399045053\n",
            "FPE :  0.014892420198106457\n",
            "HQIC:  -3.947778627388864 \n",
            "\n",
            "Lag Order = 5\n",
            "AIC :  -3.9938375922045286\n",
            "BIC :  -3.0554182020801126\n",
            "FPE :  0.01901730870752476\n",
            "HQIC:  -3.6571407904111033 \n",
            "\n",
            "Lag Order = 6\n",
            "AIC :  -3.9150369942191565\n",
            "BIC :  -2.794583305985314\n",
            "FPE :  0.021119501341685016\n",
            "HQIC:  -3.516388136996262 \n",
            "\n",
            "Lag Order = 7\n",
            "AIC :  -4.071192026955509\n",
            "BIC :  -2.765042368054787\n",
            "FPE :  0.01882798187452534\n",
            "HQIC:  -3.610713092705245 \n",
            "\n",
            "Lag Order = 8\n",
            "AIC :  -3.9908256440775696\n",
            "BIC :  -2.4952799799801326\n",
            "FPE :  0.021752889837202236\n",
            "HQIC:  -3.4688401504304274 \n",
            "\n",
            "Lag Order = 9\n",
            "AIC :  -4.28495485253951\n",
            "BIC :  -2.596291242922432\n",
            "FPE :  0.017888579700270083\n",
            "HQIC:  -3.7020284119639637 \n",
            "\n",
            "Lag Order = 10\n",
            "AIC :  -4.553871010783016\n",
            "BIC :  -2.668366833315993\n",
            "FPE :  0.01592776301996124\n",
            "HQIC:  -3.9108600871578405 \n",
            "\n",
            "Lag Order = 11\n",
            "AIC :  -4.900012790452593\n",
            "BIC :  -2.813971947196288\n",
            "FPE :  0.014373653261426582\n",
            "HQIC:  -4.198123516871563 \n",
            "\n",
            "Lag Order = 12\n",
            "AIC :  -6.039504871554971\n",
            "BIC :  -3.749292523430398\n",
            "FPE :  0.006941602426009771\n",
            "HQIC:  -5.280364272016108 \n",
            "\n",
            "Lag Order = 13\n",
            "AIC :  -6.5280145778516125\n",
            "BIC :  -4.030101382942004\n",
            "FPE :  0.009432555268813928\n",
            "HQIC:  -5.713757160915146 \n",
            "\n",
            "Lag Order = 14\n"
          ],
          "name": "stdout"
        },
        {
          "output_type": "error",
          "ename": "LinAlgError",
          "evalue": "ignored",
          "traceback": [
            "\u001b[0;31m---------------------------------------------------------------------------\u001b[0m",
            "\u001b[0;31mLinAlgError\u001b[0m                               Traceback (most recent call last)",
            "\u001b[0;32m<ipython-input-169-6cc66adc6c89>\u001b[0m in \u001b[0;36m<module>\u001b[0;34m()\u001b[0m\n\u001b[1;32m      6\u001b[0m     \u001b[0mresult\u001b[0m \u001b[0;34m=\u001b[0m \u001b[0mmodel\u001b[0m\u001b[0;34m.\u001b[0m\u001b[0mfit\u001b[0m\u001b[0;34m(\u001b[0m\u001b[0mi\u001b[0m\u001b[0;34m)\u001b[0m\u001b[0;34m\u001b[0m\u001b[0;34m\u001b[0m\u001b[0m\n\u001b[1;32m      7\u001b[0m     \u001b[0mprint\u001b[0m\u001b[0;34m(\u001b[0m\u001b[0;34m'Lag Order ='\u001b[0m\u001b[0;34m,\u001b[0m \u001b[0mi\u001b[0m\u001b[0;34m)\u001b[0m\u001b[0;34m\u001b[0m\u001b[0;34m\u001b[0m\u001b[0m\n\u001b[0;32m----> 8\u001b[0;31m     \u001b[0mprint\u001b[0m\u001b[0;34m(\u001b[0m\u001b[0;34m'AIC : '\u001b[0m\u001b[0;34m,\u001b[0m \u001b[0mresult\u001b[0m\u001b[0;34m.\u001b[0m\u001b[0maic\u001b[0m\u001b[0;34m)\u001b[0m\u001b[0;34m\u001b[0m\u001b[0;34m\u001b[0m\u001b[0m\n\u001b[0m\u001b[1;32m      9\u001b[0m     \u001b[0mprint\u001b[0m\u001b[0;34m(\u001b[0m\u001b[0;34m'BIC : '\u001b[0m\u001b[0;34m,\u001b[0m \u001b[0mresult\u001b[0m\u001b[0;34m.\u001b[0m\u001b[0mbic\u001b[0m\u001b[0;34m)\u001b[0m\u001b[0;34m\u001b[0m\u001b[0;34m\u001b[0m\u001b[0m\n\u001b[1;32m     10\u001b[0m     \u001b[0mprint\u001b[0m\u001b[0;34m(\u001b[0m\u001b[0;34m'FPE : '\u001b[0m\u001b[0;34m,\u001b[0m \u001b[0mresult\u001b[0m\u001b[0;34m.\u001b[0m\u001b[0mfpe\u001b[0m\u001b[0;34m)\u001b[0m\u001b[0;34m\u001b[0m\u001b[0;34m\u001b[0m\u001b[0m\n",
            "\u001b[0;32m/usr/local/lib/python3.7/dist-packages/statsmodels/base/wrapper.py\u001b[0m in \u001b[0;36m__getattribute__\u001b[0;34m(self, attr)\u001b[0m\n\u001b[1;32m     33\u001b[0m             \u001b[0;32mpass\u001b[0m\u001b[0;34m\u001b[0m\u001b[0;34m\u001b[0m\u001b[0m\n\u001b[1;32m     34\u001b[0m \u001b[0;34m\u001b[0m\u001b[0m\n\u001b[0;32m---> 35\u001b[0;31m         \u001b[0mobj\u001b[0m \u001b[0;34m=\u001b[0m \u001b[0mgetattr\u001b[0m\u001b[0;34m(\u001b[0m\u001b[0mresults\u001b[0m\u001b[0;34m,\u001b[0m \u001b[0mattr\u001b[0m\u001b[0;34m)\u001b[0m\u001b[0;34m\u001b[0m\u001b[0;34m\u001b[0m\u001b[0m\n\u001b[0m\u001b[1;32m     36\u001b[0m         \u001b[0mdata\u001b[0m \u001b[0;34m=\u001b[0m \u001b[0mresults\u001b[0m\u001b[0;34m.\u001b[0m\u001b[0mmodel\u001b[0m\u001b[0;34m.\u001b[0m\u001b[0mdata\u001b[0m\u001b[0;34m\u001b[0m\u001b[0;34m\u001b[0m\u001b[0m\n\u001b[1;32m     37\u001b[0m         \u001b[0mhow\u001b[0m \u001b[0;34m=\u001b[0m \u001b[0mself\u001b[0m\u001b[0;34m.\u001b[0m\u001b[0m_wrap_attrs\u001b[0m\u001b[0;34m.\u001b[0m\u001b[0mget\u001b[0m\u001b[0;34m(\u001b[0m\u001b[0mattr\u001b[0m\u001b[0;34m)\u001b[0m\u001b[0;34m\u001b[0m\u001b[0;34m\u001b[0m\u001b[0m\n",
            "\u001b[0;32m/usr/local/lib/python3.7/dist-packages/statsmodels/tsa/vector_ar/var_model.py\u001b[0m in \u001b[0;36maic\u001b[0;34m(self)\u001b[0m\n\u001b[1;32m   2102\u001b[0m     \u001b[0;32mdef\u001b[0m \u001b[0maic\u001b[0m\u001b[0;34m(\u001b[0m\u001b[0mself\u001b[0m\u001b[0;34m)\u001b[0m\u001b[0;34m:\u001b[0m\u001b[0;34m\u001b[0m\u001b[0;34m\u001b[0m\u001b[0m\n\u001b[1;32m   2103\u001b[0m         \u001b[0;34m\"\"\"Akaike information criterion\"\"\"\u001b[0m\u001b[0;34m\u001b[0m\u001b[0;34m\u001b[0m\u001b[0m\n\u001b[0;32m-> 2104\u001b[0;31m         \u001b[0;32mreturn\u001b[0m \u001b[0mself\u001b[0m\u001b[0;34m.\u001b[0m\u001b[0minfo_criteria\u001b[0m\u001b[0;34m[\u001b[0m\u001b[0;34m'aic'\u001b[0m\u001b[0;34m]\u001b[0m\u001b[0;34m\u001b[0m\u001b[0;34m\u001b[0m\u001b[0m\n\u001b[0m\u001b[1;32m   2105\u001b[0m \u001b[0;34m\u001b[0m\u001b[0m\n\u001b[1;32m   2106\u001b[0m     \u001b[0;34m@\u001b[0m\u001b[0mproperty\u001b[0m\u001b[0;34m\u001b[0m\u001b[0;34m\u001b[0m\u001b[0m\n",
            "\u001b[0;32m/usr/local/lib/python3.7/dist-packages/statsmodels/tools/decorators.py\u001b[0m in \u001b[0;36m__get__\u001b[0;34m(self, obj, type)\u001b[0m\n\u001b[1;32m     91\u001b[0m         \u001b[0m_cachedval\u001b[0m \u001b[0;34m=\u001b[0m \u001b[0m_cache\u001b[0m\u001b[0;34m.\u001b[0m\u001b[0mget\u001b[0m\u001b[0;34m(\u001b[0m\u001b[0mname\u001b[0m\u001b[0;34m,\u001b[0m \u001b[0;32mNone\u001b[0m\u001b[0;34m)\u001b[0m\u001b[0;34m\u001b[0m\u001b[0;34m\u001b[0m\u001b[0m\n\u001b[1;32m     92\u001b[0m         \u001b[0;32mif\u001b[0m \u001b[0m_cachedval\u001b[0m \u001b[0;32mis\u001b[0m \u001b[0;32mNone\u001b[0m\u001b[0;34m:\u001b[0m\u001b[0;34m\u001b[0m\u001b[0;34m\u001b[0m\u001b[0m\n\u001b[0;32m---> 93\u001b[0;31m             \u001b[0m_cachedval\u001b[0m \u001b[0;34m=\u001b[0m \u001b[0mself\u001b[0m\u001b[0;34m.\u001b[0m\u001b[0mfget\u001b[0m\u001b[0;34m(\u001b[0m\u001b[0mobj\u001b[0m\u001b[0;34m)\u001b[0m\u001b[0;34m\u001b[0m\u001b[0;34m\u001b[0m\u001b[0m\n\u001b[0m\u001b[1;32m     94\u001b[0m             \u001b[0m_cache\u001b[0m\u001b[0;34m[\u001b[0m\u001b[0mname\u001b[0m\u001b[0;34m]\u001b[0m \u001b[0;34m=\u001b[0m \u001b[0m_cachedval\u001b[0m\u001b[0;34m\u001b[0m\u001b[0;34m\u001b[0m\u001b[0m\n\u001b[1;32m     95\u001b[0m \u001b[0;34m\u001b[0m\u001b[0m\n",
            "\u001b[0;32m/usr/local/lib/python3.7/dist-packages/statsmodels/tsa/vector_ar/var_model.py\u001b[0m in \u001b[0;36minfo_criteria\u001b[0;34m(self)\u001b[0m\n\u001b[1;32m   2083\u001b[0m         \u001b[0mfree_params\u001b[0m \u001b[0;34m=\u001b[0m \u001b[0mlag_order\u001b[0m \u001b[0;34m*\u001b[0m \u001b[0mneqs\u001b[0m \u001b[0;34m**\u001b[0m \u001b[0;36m2\u001b[0m \u001b[0;34m+\u001b[0m \u001b[0mneqs\u001b[0m \u001b[0;34m*\u001b[0m \u001b[0mself\u001b[0m\u001b[0;34m.\u001b[0m\u001b[0mk_exog\u001b[0m\u001b[0;34m\u001b[0m\u001b[0;34m\u001b[0m\u001b[0m\n\u001b[1;32m   2084\u001b[0m \u001b[0;34m\u001b[0m\u001b[0m\n\u001b[0;32m-> 2085\u001b[0;31m         \u001b[0mld\u001b[0m \u001b[0;34m=\u001b[0m \u001b[0mlogdet_symm\u001b[0m\u001b[0;34m(\u001b[0m\u001b[0mself\u001b[0m\u001b[0;34m.\u001b[0m\u001b[0msigma_u_mle\u001b[0m\u001b[0;34m)\u001b[0m\u001b[0;34m\u001b[0m\u001b[0;34m\u001b[0m\u001b[0m\n\u001b[0m\u001b[1;32m   2086\u001b[0m \u001b[0;34m\u001b[0m\u001b[0m\n\u001b[1;32m   2087\u001b[0m         \u001b[0;31m# See Lütkepohl pp. 146-150\u001b[0m\u001b[0;34m\u001b[0m\u001b[0;34m\u001b[0m\u001b[0;34m\u001b[0m\u001b[0m\n",
            "\u001b[0;32m/usr/local/lib/python3.7/dist-packages/statsmodels/tools/linalg.py\u001b[0m in \u001b[0;36mlogdet_symm\u001b[0;34m(m, check_symm)\u001b[0m\n\u001b[1;32m     26\u001b[0m         \u001b[0;32mif\u001b[0m \u001b[0;32mnot\u001b[0m \u001b[0mnp\u001b[0m\u001b[0;34m.\u001b[0m\u001b[0mall\u001b[0m\u001b[0;34m(\u001b[0m\u001b[0mm\u001b[0m \u001b[0;34m==\u001b[0m \u001b[0mm\u001b[0m\u001b[0;34m.\u001b[0m\u001b[0mT\u001b[0m\u001b[0;34m)\u001b[0m\u001b[0;34m:\u001b[0m  \u001b[0;31m# would be nice to short-circuit check\u001b[0m\u001b[0;34m\u001b[0m\u001b[0;34m\u001b[0m\u001b[0m\n\u001b[1;32m     27\u001b[0m             \u001b[0;32mraise\u001b[0m \u001b[0mValueError\u001b[0m\u001b[0;34m(\u001b[0m\u001b[0;34m\"m is not symmetric.\"\u001b[0m\u001b[0;34m)\u001b[0m\u001b[0;34m\u001b[0m\u001b[0;34m\u001b[0m\u001b[0m\n\u001b[0;32m---> 28\u001b[0;31m     \u001b[0mc\u001b[0m\u001b[0;34m,\u001b[0m \u001b[0m_\u001b[0m \u001b[0;34m=\u001b[0m \u001b[0mlinalg\u001b[0m\u001b[0;34m.\u001b[0m\u001b[0mcho_factor\u001b[0m\u001b[0;34m(\u001b[0m\u001b[0mm\u001b[0m\u001b[0;34m,\u001b[0m \u001b[0mlower\u001b[0m\u001b[0;34m=\u001b[0m\u001b[0;32mTrue\u001b[0m\u001b[0;34m)\u001b[0m\u001b[0;34m\u001b[0m\u001b[0;34m\u001b[0m\u001b[0m\n\u001b[0m\u001b[1;32m     29\u001b[0m     \u001b[0;32mreturn\u001b[0m \u001b[0;36m2\u001b[0m\u001b[0;34m*\u001b[0m\u001b[0mnp\u001b[0m\u001b[0;34m.\u001b[0m\u001b[0msum\u001b[0m\u001b[0;34m(\u001b[0m\u001b[0mnp\u001b[0m\u001b[0;34m.\u001b[0m\u001b[0mlog\u001b[0m\u001b[0;34m(\u001b[0m\u001b[0mc\u001b[0m\u001b[0;34m.\u001b[0m\u001b[0mdiagonal\u001b[0m\u001b[0;34m(\u001b[0m\u001b[0;34m)\u001b[0m\u001b[0;34m)\u001b[0m\u001b[0;34m)\u001b[0m\u001b[0;34m\u001b[0m\u001b[0;34m\u001b[0m\u001b[0m\n\u001b[1;32m     30\u001b[0m \u001b[0;34m\u001b[0m\u001b[0m\n",
            "\u001b[0;32m/usr/local/lib/python3.7/dist-packages/scipy/linalg/decomp_cholesky.py\u001b[0m in \u001b[0;36mcho_factor\u001b[0;34m(a, lower, overwrite_a, check_finite)\u001b[0m\n\u001b[1;32m    153\u001b[0m     \"\"\"\n\u001b[1;32m    154\u001b[0m     c, lower = _cholesky(a, lower=lower, overwrite_a=overwrite_a, clean=False,\n\u001b[0;32m--> 155\u001b[0;31m                          check_finite=check_finite)\n\u001b[0m\u001b[1;32m    156\u001b[0m     \u001b[0;32mreturn\u001b[0m \u001b[0mc\u001b[0m\u001b[0;34m,\u001b[0m \u001b[0mlower\u001b[0m\u001b[0;34m\u001b[0m\u001b[0;34m\u001b[0m\u001b[0m\n\u001b[1;32m    157\u001b[0m \u001b[0;34m\u001b[0m\u001b[0m\n",
            "\u001b[0;32m/usr/local/lib/python3.7/dist-packages/scipy/linalg/decomp_cholesky.py\u001b[0m in \u001b[0;36m_cholesky\u001b[0;34m(a, lower, overwrite_a, clean, check_finite)\u001b[0m\n\u001b[1;32m     38\u001b[0m     \u001b[0;32mif\u001b[0m \u001b[0minfo\u001b[0m \u001b[0;34m>\u001b[0m \u001b[0;36m0\u001b[0m\u001b[0;34m:\u001b[0m\u001b[0;34m\u001b[0m\u001b[0;34m\u001b[0m\u001b[0m\n\u001b[1;32m     39\u001b[0m         raise LinAlgError(\"%d-th leading minor of the array is not positive \"\n\u001b[0;32m---> 40\u001b[0;31m                           \"definite\" % info)\n\u001b[0m\u001b[1;32m     41\u001b[0m     \u001b[0;32mif\u001b[0m \u001b[0minfo\u001b[0m \u001b[0;34m<\u001b[0m \u001b[0;36m0\u001b[0m\u001b[0;34m:\u001b[0m\u001b[0;34m\u001b[0m\u001b[0;34m\u001b[0m\u001b[0m\n\u001b[1;32m     42\u001b[0m         raise ValueError('LAPACK reported an illegal value in {}-th argument'\n",
            "\u001b[0;31mLinAlgError\u001b[0m: 2-th leading minor of the array is not positive definite"
          ]
        }
      ]
    },
    {
      "cell_type": "markdown",
      "metadata": {
        "id": "Rre1v6ONjztc"
      },
      "source": [
        "With maxlag = 3 & 7"
      ]
    },
    {
      "cell_type": "code",
      "metadata": {
        "colab": {
          "base_uri": "https://localhost:8080/"
        },
        "id": "Yq8mSnJLhfGb",
        "outputId": "69de98ae-65e1-4c9c-9583-0bc3b3efa295"
      },
      "source": [
        "results = model.fit(maxlags=3, ic='aic') # 3 for least AIC between lag order 0-6\n",
        "results.summary()"
      ],
      "execution_count": null,
      "outputs": [
        {
          "output_type": "execute_result",
          "data": {
            "text/plain": [
              "  Summary of Regression Results   \n",
              "==================================\n",
              "Model:                         VAR\n",
              "Method:                        OLS\n",
              "Date:           Tue, 24, Aug, 2021\n",
              "Time:                     07:27:20\n",
              "--------------------------------------------------------------------\n",
              "No. of Equations:         2.00000    BIC:                   -3.94516\n",
              "Nobs:                     42.0000    HQIC:                  -4.20724\n",
              "Log likelihood:          -17.6542    FPE:                  0.0128217\n",
              "AIC:                     -4.35889    Det(Omega_mle):       0.0102388\n",
              "--------------------------------------------------------------------\n",
              "Results for equation HS\n",
              "================================================================================\n",
              "                   coefficient       std. error           t-stat            prob\n",
              "--------------------------------------------------------------------------------\n",
              "const                 0.209599         0.092521            2.265           0.023\n",
              "L1.HS                 0.557596         0.158651            3.515           0.000\n",
              "L1.Stock_fall         0.197838         0.188003            1.052           0.293\n",
              "L2.HS                -0.250903         0.158361           -1.584           0.113\n",
              "L2.Stock_fall        -0.120237         0.191198           -0.629           0.529\n",
              "================================================================================\n",
              "\n",
              "Results for equation Stock_fall\n",
              "================================================================================\n",
              "                   coefficient       std. error           t-stat            prob\n",
              "--------------------------------------------------------------------------------\n",
              "const                 0.008398         0.068075            0.123           0.902\n",
              "L1.HS                 0.004074         0.116731            0.035           0.972\n",
              "L1.Stock_fall         0.167054         0.138328            1.208           0.227\n",
              "L2.HS                 0.177029         0.116518            1.519           0.129\n",
              "L2.Stock_fall         0.552853         0.140678            3.930           0.000\n",
              "================================================================================\n",
              "\n",
              "Correlation matrix of residuals\n",
              "                    HS  Stock_fall\n",
              "HS            1.000000    0.149834\n",
              "Stock_fall    0.149834    1.000000\n",
              "\n"
            ]
          },
          "metadata": {},
          "execution_count": 170
        }
      ]
    },
    {
      "cell_type": "code",
      "metadata": {
        "colab": {
          "base_uri": "https://localhost:8080/"
        },
        "id": "bthFMOtsiKSJ",
        "outputId": "2ec911d6-9a8b-45bb-aac2-19a0697052a0"
      },
      "source": [
        "# The Durbin Watson Test is a measure of autocorrelation in residuals from regression analysis\n",
        "# A value of 2.0 means that there is no autocorrelation detected in the residuals\n",
        "\n",
        "from statsmodels.stats.stattools import durbin_watson\n",
        "\n",
        "out = durbin_watson(results.resid)\n",
        "\n",
        "for col, val in zip(df.columns, out):\n",
        "    print(col, ':', round(val, 2))  \n",
        "\n",
        "# If within the range of 1.5 and 2.5, we would consider autocorrelation not to be problematic in this regression model "
      ],
      "execution_count": null,
      "outputs": [
        {
          "output_type": "stream",
          "text": [
            "HS : 1.92\n",
            "Stock_fall : 2.36\n"
          ],
          "name": "stdout"
        }
      ]
    },
    {
      "cell_type": "code",
      "metadata": {
        "colab": {
          "base_uri": "https://localhost:8080/",
          "height": 283
        },
        "id": "DEkzhJQziKT6",
        "outputId": "8f6ed332-a50c-4182-9ffa-8d827fbde421"
      },
      "source": [
        "# Plotting autocorrelation plot for residuals\n",
        "import matplotlib.pyplot as plt\n",
        "  \n",
        "# Creating Autocorrelation plot\n",
        "x = pd.plotting.autocorrelation_plot(results.resid)\n",
        "x.plot()\n",
        "plt.show()"
      ],
      "execution_count": null,
      "outputs": [
        {
          "output_type": "display_data",
          "data": {
            "image/png": "[encoded data removed]",
            "text/plain": [
              "<Figure size 432x288 with 1 Axes>"
            ]
          },
          "metadata": {
            "needs_background": "light"
          }
        }
      ]
    },
    {
      "cell_type": "code",
      "metadata": {
        "colab": {
          "base_uri": "https://localhost:8080/",
          "height": 110
        },
        "id": "LMukgK-CiKYY",
        "outputId": "59cde66f-6619-4833-92d7-0237d5ee0f19"
      },
      "source": [
        "# Granger Causality\n",
        "\n",
        "from statsmodels.tsa.stattools import grangercausalitytests\n",
        "\n",
        "maxlag = 3 # Same maxlag val as b4\n",
        "test = 'ssr_chi2test'\n",
        "\n",
        "def grangers_causation_matrix(data, variables, test='ssr_chi2test', verbose=False):    \n",
        "   \n",
        "    df = pd.DataFrame(np.zeros((len(variables), len(variables))), columns=variables, index=variables)\n",
        "    for c in df.columns:\n",
        "        for r in df.index:\n",
        "            test_result = grangercausalitytests(data[[r, c]], maxlag=maxlag, verbose=False)\n",
        "            p_values = [round(test_result[i+1][0][test][1],4) for i in range(maxlag)]\n",
        "            if verbose: print(f'Y = {r}, X = {c}, P Values = {p_values}')\n",
        "            min_p_value = np.min(p_values)\n",
        "            df.loc[r, c] = min_p_value\n",
        "    df.columns = [var + '_x' for var in variables]\n",
        "    df.index = [var + '_y' for var in variables]\n",
        "    return df\n",
        "\n",
        "grangers_causation_matrix(df_train_transformed, variables = df_train_transformed.columns)"
      ],
      "execution_count": null,
      "outputs": [
        {
          "output_type": "execute_result",
          "data": {
            "text/html": [
              "<div>\n",
              "<style scoped>\n",
              "    .dataframe tbody tr th:only-of-type {\n",
              "        vertical-align: middle;\n",
              "    }\n",
              "\n",
              "    .dataframe tbody tr th {\n",
              "        vertical-align: top;\n",
              "    }\n",
              "\n",
              "    .dataframe thead th {\n",
              "        text-align: right;\n",
              "    }\n",
              "</style>\n",
              "<table border=\"1\" class=\"dataframe\">\n",
              "  <thead>\n",
              "    <tr style=\"text-align: right;\">\n",
              "      <th></th>\n",
              "      <th>HS_x</th>\n",
              "      <th>Stock_fall_x</th>\n",
              "    </tr>\n",
              "  </thead>\n",
              "  <tbody>\n",
              "    <tr>\n",
              "      <th>HS_y</th>\n",
              "      <td>1.0000</td>\n",
              "      <td>0.5334</td>\n",
              "    </tr>\n",
              "    <tr>\n",
              "      <th>Stock_fall_y</th>\n",
              "      <td>0.0531</td>\n",
              "      <td>1.0000</td>\n",
              "    </tr>\n",
              "  </tbody>\n",
              "</table>\n",
              "</div>"
            ],
            "text/plain": [
              "                HS_x  Stock_fall_x\n",
              "HS_y          1.0000        0.5334\n",
              "Stock_fall_y  0.0531        1.0000"
            ]
          },
          "metadata": {},
          "execution_count": 174
        }
      ]
    },
    {
      "cell_type": "code",
      "metadata": {
        "id": "wAXemhVLhfKU"
      },
      "source": [
        "lag_order = results.k_ar\n",
        "\n",
        "df_input = df_train_transformed.values[-lag_order:]\n",
        "df_forecast = results.forecast(y=df_input, steps=n_obs)\n",
        "df_forecast = (pd.DataFrame(df_forecast, index=df_test.index, columns=df_test.columns + '_pred'))\n",
        "\n",
        "def invert_transformation(df, pred):\n",
        "    forecast = df_forecast.copy()\n",
        "    columns = df.columns\n",
        "    for col in columns:\n",
        "        forecast[str(col)+'_pred'] = df[col].iloc[-1] + forecast[str(col)+'_pred'].cumsum()\n",
        "    return forecast\n",
        "output = invert_transformation(df_train, df_forecast)\n",
        "\n",
        "combined = pd.concat([output['HS_pred'], df_test['HS'], output['Stock_fall_pred'], df_test['Stock_fall']], axis=1)\n"
      ],
      "execution_count": null,
      "outputs": []
    },
    {
      "cell_type": "code",
      "metadata": {
        "colab": {
          "base_uri": "https://localhost:8080/"
        },
        "id": "fk1ZjSk5ia5w",
        "outputId": "a798981e-0b07-4c1c-c5ec-f78296d0ba4f"
      },
      "source": [
        "from sklearn.metrics import mean_squared_error\n",
        "from sklearn.metrics import mean_absolute_error\n",
        "\n",
        "\n",
        "rmse = mean_squared_error(combined['HS_pred'], combined['HS'], squared=False)\n",
        "mae = mean_absolute_error(combined['HS_pred'], combined['HS'])\n",
        "\n",
        "print('Forecast accuracy of Hate')\n",
        "print('RMSE: ', round(rmse,2))\n",
        "print('MAE: ', round(mae,2))\n",
        "\n",
        "rmse = mean_squared_error(combined['Stock_fall_pred'], combined['Stock_fall'], squared=False)\n",
        "mae = mean_absolute_error(combined['Stock_fall_pred'], combined['Stock_fall'])\n",
        "\n",
        "print('Forecast accuracy of Stock')\n",
        "print('RMSE: ', round(rmse,2))\n",
        "print('MAE: ', round(mae,2))\n"
      ],
      "execution_count": null,
      "outputs": [
        {
          "output_type": "stream",
          "text": [
            "Forecast accuracy of Hate\n",
            "RMSE:  18.87\n",
            "MAE:  16.3\n",
            "Forecast accuracy of Stock\n",
            "RMSE:  14.19\n",
            "MAE:  12.34\n"
          ],
          "name": "stdout"
        }
      ]
    },
    {
      "cell_type": "markdown",
      "metadata": {
        "id": "VNRtmX4HkCR0"
      },
      "source": [
        "Differencing only the Stock fall column"
      ]
    },
    {
      "cell_type": "code",
      "metadata": {
        "colab": {
          "base_uri": "https://localhost:8080/",
          "height": 357
        },
        "id": "amcNdL6hkJBC",
        "outputId": "18bd29db-2a59-4e8f-cb55-91566f5154e1"
      },
      "source": [
        "import pandas as pd\n",
        "import numpy as np\n",
        "from sklearn import preprocessing\n",
        "\n",
        "sheetname=\"Hate Score & Stock CDP Binary & Z-score\" # Enter Sheet name without using extention\n",
        "sh = gc.open(sheetname)\n",
        "worksheet = sh.sheet1\n",
        "sheets = worksheet.get_all_values()\n",
        "\n",
        "df = pd.DataFrame(sheets[10:], columns=sheets[0])\n",
        "df = df[['HS', 'Stock_fall']]\n",
        "\n",
        "for i in range (0,len(df['Stock_fall'])-1):\n",
        "  if (df['Stock_fall'][i]=='Nan'):\n",
        "    df['Stock_fall'][i]=np.nan\n",
        "\n",
        "df.tail(10)"
      ],
      "execution_count": null,
      "outputs": [
        {
          "output_type": "execute_result",
          "data": {
            "text/html": [
              "<div>\n",
              "<style scoped>\n",
              "    .dataframe tbody tr th:only-of-type {\n",
              "        vertical-align: middle;\n",
              "    }\n",
              "\n",
              "    .dataframe tbody tr th {\n",
              "        vertical-align: top;\n",
              "    }\n",
              "\n",
              "    .dataframe thead th {\n",
              "        text-align: right;\n",
              "    }\n",
              "</style>\n",
              "<table border=\"1\" class=\"dataframe\">\n",
              "  <thead>\n",
              "    <tr style=\"text-align: right;\">\n",
              "      <th></th>\n",
              "      <th>HS</th>\n",
              "      <th>Stock_fall</th>\n",
              "    </tr>\n",
              "  </thead>\n",
              "  <tbody>\n",
              "    <tr>\n",
              "      <th>134</th>\n",
              "      <td>0.003117783</td>\n",
              "      <td>0</td>\n",
              "    </tr>\n",
              "    <tr>\n",
              "      <th>135</th>\n",
              "      <td>0.181173301</td>\n",
              "      <td>0.439497787</td>\n",
              "    </tr>\n",
              "    <tr>\n",
              "      <th>136</th>\n",
              "      <td>0.099521548</td>\n",
              "      <td>0.746324625</td>\n",
              "    </tr>\n",
              "    <tr>\n",
              "      <th>137</th>\n",
              "      <td>0</td>\n",
              "      <td>NaN</td>\n",
              "    </tr>\n",
              "    <tr>\n",
              "      <th>138</th>\n",
              "      <td>0</td>\n",
              "      <td>NaN</td>\n",
              "    </tr>\n",
              "    <tr>\n",
              "      <th>139</th>\n",
              "      <td>0</td>\n",
              "      <td>0.27789324</td>\n",
              "    </tr>\n",
              "    <tr>\n",
              "      <th>140</th>\n",
              "      <td>0</td>\n",
              "      <td>0.360369006</td>\n",
              "    </tr>\n",
              "    <tr>\n",
              "      <th>141</th>\n",
              "      <td>0</td>\n",
              "      <td>0</td>\n",
              "    </tr>\n",
              "    <tr>\n",
              "      <th>142</th>\n",
              "      <td>0.784312603</td>\n",
              "      <td>0</td>\n",
              "    </tr>\n",
              "    <tr>\n",
              "      <th>143</th>\n",
              "      <td>0.612440383</td>\n",
              "      <td>0</td>\n",
              "    </tr>\n",
              "  </tbody>\n",
              "</table>\n",
              "</div>"
            ],
            "text/plain": [
              "              HS   Stock_fall\n",
              "134  0.003117783            0\n",
              "135  0.181173301  0.439497787\n",
              "136  0.099521548  0.746324625\n",
              "137            0          NaN\n",
              "138            0          NaN\n",
              "139            0   0.27789324\n",
              "140            0  0.360369006\n",
              "141            0            0\n",
              "142  0.784312603            0\n",
              "143  0.612440383            0"
            ]
          },
          "metadata": {},
          "execution_count": 177
        }
      ]
    },
    {
      "cell_type": "code",
      "metadata": {
        "id": "wFNr3xBOkOpv"
      },
      "source": [
        "df['Stock_fall']=df['Stock_fall'].fillna((df['Stock_fall'].rolling(min_periods=1, center=True, window=7).mean()))\n",
        "\n",
        "# df.head(27)"
      ],
      "execution_count": null,
      "outputs": []
    },
    {
      "cell_type": "code",
      "metadata": {
        "id": "bMeWwwjvkOtp"
      },
      "source": [
        "n_obs = 100\n",
        "df_train, df_test = df[0:-n_obs], df[-n_obs:]\n"
      ],
      "execution_count": null,
      "outputs": []
    },
    {
      "cell_type": "code",
      "metadata": {
        "colab": {
          "base_uri": "https://localhost:8080/"
        },
        "id": "n1x2JgPpkOzp",
        "outputId": "5639f7eb-d1a8-4708-cd9c-bc879f9432b9"
      },
      "source": [
        "#We make the series stationary by differencing if the series appears non stationary from the ADF & KPSS tests\n",
        "# a = df_train['HS'][0]\n",
        "b = df_train['Stock_fall'][0]\n",
        "\n",
        "df_train['HS'] = df_train['HS'].astype(float)\n",
        "df_train['Stock_fall'] = df_train['Stock_fall'].astype(float).diff(1)\n",
        "\n",
        "df_train_transformed = df_train\n",
        "# df_train_transformed['HS'][0] = a\n",
        "df_train_transformed['Stock_fall'][0] = b\n",
        "\n",
        "print('ADF Test: Hate time series')\n",
        "adf_test(df_train_transformed['HS'].astype(float))\n",
        "print('ADF Test: Stock Rise time series')\n",
        "adf_test(df_train_transformed['Stock_fall'].astype(float))\n",
        "\n",
        "print('KPSS Test: Hate time series')\n",
        "kpss_test(df_train_transformed['HS'].astype(float))\n",
        "print('KPSS Test: Stock Fall time series')\n",
        "kpss_test(df_train_transformed['Stock_fall'].astype(float))\n"
      ],
      "execution_count": null,
      "outputs": [
        {
          "output_type": "stream",
          "text": [
            "ADF Test: Hate time series\n",
            "ADF Statistics: -3.917986\n",
            "p-value: 0.001906\n",
            "Critical values:\n",
            "\t1%: -3.593\n",
            "\t5%: -2.932\n",
            "\t10%: -2.604\n",
            "ADF Test: Stock Rise time series\n",
            "ADF Statistics: -7.568496\n",
            "p-value: 0.000000\n",
            "Critical values:\n",
            "\t1%: -3.597\n",
            "\t5%: -2.933\n",
            "\t10%: -2.605\n",
            "KPSS Test: Hate time series\n",
            "KPSS Statistic: 0.341655703691674\n",
            "p-value: 0.1\n",
            "num lags: 10\n",
            "Critial Values:\n",
            "   10% : 0.347\n",
            "   5% : 0.463\n",
            "   2.5% : 0.574\n",
            "   1% : 0.739\n",
            "KPSS Test: Stock Fall time series\n",
            "KPSS Statistic: 0.17532999655644801\n",
            "p-value: 0.1\n",
            "num lags: 10\n",
            "Critial Values:\n",
            "   10% : 0.347\n",
            "   5% : 0.463\n",
            "   2.5% : 0.574\n",
            "   1% : 0.739\n"
          ],
          "name": "stdout"
        },
        {
          "output_type": "stream",
          "text": [
            "/usr/local/lib/python3.7/dist-packages/ipykernel_launcher.py:5: SettingWithCopyWarning: \n",
            "A value is trying to be set on a copy of a slice from a DataFrame.\n",
            "Try using .loc[row_indexer,col_indexer] = value instead\n",
            "\n",
            "See the caveats in the documentation: https://pandas.pydata.org/pandas-docs/stable/user_guide/indexing.html#returning-a-view-versus-a-copy\n",
            "  \"\"\"\n",
            "/usr/local/lib/python3.7/dist-packages/ipykernel_launcher.py:6: SettingWithCopyWarning: \n",
            "A value is trying to be set on a copy of a slice from a DataFrame.\n",
            "Try using .loc[row_indexer,col_indexer] = value instead\n",
            "\n",
            "See the caveats in the documentation: https://pandas.pydata.org/pandas-docs/stable/user_guide/indexing.html#returning-a-view-versus-a-copy\n",
            "  \n",
            "/usr/local/lib/python3.7/dist-packages/IPython/core/interactiveshell.py:2882: SettingWithCopyWarning: \n",
            "A value is trying to be set on a copy of a slice from a DataFrame\n",
            "\n",
            "See the caveats in the documentation: https://pandas.pydata.org/pandas-docs/stable/user_guide/indexing.html#returning-a-view-versus-a-copy\n",
            "  exec(code_obj, self.user_global_ns, self.user_ns)\n",
            "/usr/local/lib/python3.7/dist-packages/statsmodels/tsa/stattools.py:1685: FutureWarning: The behavior of using lags=None will change in the next release. Currently lags=None is the same as lags='legacy', and so a sample-size lag length is used. After the next release, the default will change to be the same as lags='auto' which uses an automatic lag length selection method. To silence this warning, either use 'auto' or 'legacy'\n",
            "  warn(msg, FutureWarning)\n",
            "/usr/local/lib/python3.7/dist-packages/statsmodels/tsa/stattools.py:1711: InterpolationWarning: p-value is greater than the indicated p-value\n",
            "  warn(\"p-value is greater than the indicated p-value\", InterpolationWarning)\n",
            "/usr/local/lib/python3.7/dist-packages/statsmodels/tsa/stattools.py:1711: InterpolationWarning: p-value is greater than the indicated p-value\n",
            "  warn(\"p-value is greater than the indicated p-value\", InterpolationWarning)\n"
          ],
          "name": "stderr"
        }
      ]
    },
    {
      "cell_type": "code",
      "metadata": {
        "colab": {
          "base_uri": "https://localhost:8080/"
        },
        "id": "ngpVre5TkO8P",
        "outputId": "f7d046cc-a567-4698-ec18-089ff85f5e90"
      },
      "source": [
        "# VAR method (assumes time series are stationary)\n",
        "from statsmodels.tsa.api import VAR\n",
        "\n",
        "model = VAR(df_train_transformed.astype(float))\n",
        "for i in range(0,30):\n",
        "    result = model.fit(i)\n",
        "    print('Lag Order =', i)\n",
        "    print('AIC : ', result.aic)\n",
        "    print('BIC : ', result.bic)\n",
        "    print('FPE : ', result.fpe)\n",
        "    print('HQIC: ', result.hqic, '\\n')"
      ],
      "execution_count": null,
      "outputs": [
        {
          "output_type": "stream",
          "text": [
            "Lag Order = 0\n",
            "AIC :  -3.661603794605753\n",
            "BIC :  -3.5805042657912867\n",
            "FPE :  0.02569167839534432\n",
            "HQIC:  -3.6315281796415912 \n",
            "\n",
            "Lag Order = 1\n",
            "AIC :  -4.172910692907485\n",
            "BIC :  -3.9271618395548944\n",
            "FPE :  0.01541434706595218\n",
            "HQIC:  -4.082286110717569 \n",
            "\n",
            "Lag Order = 2\n",
            "AIC :  -4.252942833760237\n",
            "BIC :  -3.839211972264197\n",
            "FPE :  0.01425462402646021\n",
            "HQIC:  -4.10129410971008 \n",
            "\n",
            "Lag Order = 3\n",
            "AIC :  -4.271175514263251\n",
            "BIC :  -3.686053345144707\n",
            "FPE :  0.014060000304420572\n",
            "HQIC:  -4.058106280865317 \n",
            "\n",
            "Lag Order = 4\n",
            "AIC :  -4.095014569254721\n",
            "BIC :  -3.3350188149034494\n",
            "FPE :  0.016918486451880967\n",
            "HQIC:  -3.820224102387808 \n",
            "\n",
            "Lag Order = 5\n",
            "AIC :  -4.096479779666854\n",
            "BIC :  -3.1580603895424377\n",
            "FPE :  0.017162166888065742\n",
            "HQIC:  -3.7597829778734284 \n",
            "\n",
            "Lag Order = 6\n",
            "AIC :  -3.910121036038375\n",
            "BIC :  -2.7896673478045324\n",
            "FPE :  0.021223579539512066\n",
            "HQIC:  -3.5114721788154806 \n",
            "\n",
            "Lag Order = 7\n",
            "AIC :  -3.998346573520263\n",
            "BIC :  -2.692196914619541\n",
            "FPE :  0.020250705132138565\n",
            "HQIC:  -3.537867639269999 \n",
            "\n",
            "Lag Order = 8\n",
            "AIC :  -4.047965942102232\n",
            "BIC :  -2.5524202780047958\n",
            "FPE :  0.020544768139211165\n",
            "HQIC:  -3.5259804484550905 \n",
            "\n",
            "Lag Order = 9\n",
            "AIC :  -4.194127488844686\n",
            "BIC :  -2.5054638792276074\n",
            "FPE :  0.019589424755959716\n",
            "HQIC:  -3.6112010482691392 \n",
            "\n",
            "Lag Order = 10\n",
            "AIC :  -4.3761398942199\n",
            "BIC :  -2.4906357167528768\n",
            "FPE :  0.019025778162427884\n",
            "HQIC:  -3.7331289705947244 \n",
            "\n",
            "Lag Order = 11\n",
            "AIC :  -4.231562299183758\n",
            "BIC :  -2.1455214559274527\n",
            "FPE :  0.028046038369684213\n",
            "HQIC:  -3.5296730256027273 \n",
            "\n",
            "Lag Order = 12\n",
            "AIC :  -5.546632570397856\n",
            "BIC :  -3.2564202222732828\n",
            "FPE :  0.011363482746934054\n",
            "HQIC:  -4.7874919708589925 \n",
            "\n",
            "Lag Order = 13\n",
            "AIC :  -6.011396385578266\n",
            "BIC :  -3.5134831906686568\n",
            "FPE :  0.01581225424446572\n",
            "HQIC:  -5.1971389686417995 \n",
            "\n",
            "Lag Order = 14\n",
            "AIC :  -47.789583133758086\n",
            "BIC :  -45.08060152921125\n",
            "FPE :  1.2813854229415704e-19\n",
            "HQIC:  -46.92295664304546 \n",
            "\n",
            "Lag Order = 15\n",
            "AIC :  -132.69705184758817\n",
            "BIC :  -129.77386765934122\n",
            "FPE :  2.9353630647876914e-57\n",
            "HQIC:  -131.78154702892493 \n",
            "\n",
            "Lag Order = 16\n",
            "AIC :  -134.21130200548322\n",
            "BIC :  -131.07110566007026\n",
            "FPE :  6.888164647434949e-59\n",
            "HQIC:  -133.2513126767955 \n",
            "\n",
            "Lag Order = 17\n",
            "AIC :  -131.28583546444008\n",
            "BIC :  -127.92625840442886\n",
            "FPE :  3.235878430823542e-58\n",
            "HQIC:  -130.28685708370404 \n",
            "\n",
            "Lag Order = 18\n",
            "AIC :  -133.3796167598824\n",
            "BIC :  -129.7988804593597\n",
            "FPE :  1.3113733431776543e-59\n",
            "HQIC:  -132.34849426604393 \n",
            "\n",
            "Lag Order = 19\n",
            "AIC :  -132.31981030037082\n",
            "BIC :  -128.51691772678205\n",
            "FPE :  1.3942570514081617e-59\n",
            "HQIC:  -131.2650495228356 \n",
            "\n",
            "Lag Order = 20\n",
            "AIC :  -129.45529558568794\n",
            "BIC :  -125.43027833199913\n",
            "FPE :  9.45212344375215e-59\n",
            "HQIC:  -128.3874573752432 \n",
            "\n",
            "Lag Order = 21\n",
            "AIC :  -129.7275134862039\n",
            "BIC :  -125.4817525049036\n",
            "FPE :  2.813955283453469e-59\n",
            "HQIC:  -128.65971649999952 \n",
            "\n",
            "Lag Order = 22\n",
            "AIC :  -129.03688500223132\n",
            "BIC :  -124.57352951122003\n",
            "FPE :  2.1645535106142585e-59\n",
            "HQIC:  -127.98545265854429 \n",
            "\n",
            "Lag Order = 23\n",
            "AIC :  -130.44211416902195\n",
            "BIC :  -125.76663278111711\n",
            "FPE :  1.9806652884732734e-60\n",
            "HQIC:  -129.42741501928495 \n",
            "\n",
            "Lag Order = 24\n",
            "AIC :  -129.53973463074254\n",
            "BIC :  -124.66064649032799\n",
            "FPE :  1.7315072952775122e-60\n",
            "HQIC:  -128.58728536716606 \n",
            "\n",
            "Lag Order = 25\n",
            "AIC :  -128.79195966451076\n",
            "BIC :  -123.72181356582776\n",
            "FPE :  1.2114554504430777e-60\n",
            "HQIC:  -127.93388950122102 \n",
            "\n",
            "Lag Order = 26\n",
            "AIC :  -127.97214680417312\n",
            "BIC :  -122.72884645211792\n",
            "FPE :  8.351404445538461e-61\n",
            "HQIC:  -127.24916638650893 \n",
            "\n",
            "Lag Order = 27\n",
            "AIC :  -127.30311913428932\n",
            "BIC :  -121.9117386727491\n",
            "FPE :  4.4440005091099665e-61\n",
            "HQIC:  -126.76720528426274 \n",
            "\n",
            "Lag Order = 28\n",
            "AIC :  -125.26186627150832\n",
            "BIC :  -119.75717162554989\n",
            "FPE :  8.162897159479324e-61\n",
            "HQIC:  -124.97998074383861 \n",
            "\n",
            "Lag Order = 29\n",
            "AIC :  -123.31904554312082\n",
            "BIC :  -117.74905062778343\n",
            "FPE :  1.1531272757101696e-60\n",
            "HQIC:  -123.37837762735221 \n",
            "\n"
          ],
          "name": "stdout"
        }
      ]
    },
    {
      "cell_type": "markdown",
      "metadata": {
        "id": "xiLziiz5mQd5"
      },
      "source": [
        "With Maxlag = 3, 8"
      ]
    },
    {
      "cell_type": "code",
      "metadata": {
        "colab": {
          "base_uri": "https://localhost:8080/"
        },
        "id": "ztTBZaKNkPks",
        "outputId": "642c0a62-d4d6-4544-e697-ee25ab68c66f"
      },
      "source": [
        "results = model.fit(maxlags=3, ic='aic') # 3 for least AIC between lag order 0-7\n",
        "results.summary()"
      ],
      "execution_count": null,
      "outputs": [
        {
          "output_type": "execute_result",
          "data": {
            "text/plain": [
              "  Summary of Regression Results   \n",
              "==================================\n",
              "Model:                         VAR\n",
              "Method:                        OLS\n",
              "Date:           Tue, 24, Aug, 2021\n",
              "Time:                     07:29:33\n",
              "--------------------------------------------------------------------\n",
              "No. of Equations:         2.00000    BIC:                   -3.83921\n",
              "Nobs:                     42.0000    HQIC:                  -4.10129\n",
              "Log likelihood:          -19.8790    FPE:                  0.0142546\n",
              "AIC:                     -4.25294    Det(Omega_mle):       0.0113830\n",
              "--------------------------------------------------------------------\n",
              "Results for equation HS\n",
              "================================================================================\n",
              "                   coefficient       std. error           t-stat            prob\n",
              "--------------------------------------------------------------------------------\n",
              "const                 0.230536         0.080727            2.856           0.004\n",
              "L1.HS                 0.564835         0.159576            3.540           0.000\n",
              "L1.Stock_fall         0.156186         0.194818            0.802           0.423\n",
              "L2.HS                -0.245750         0.158921           -1.546           0.122\n",
              "L2.Stock_fall        -0.009630         0.202433           -0.048           0.962\n",
              "================================================================================\n",
              "\n",
              "Results for equation Stock_fall\n",
              "================================================================================\n",
              "                   coefficient       std. error           t-stat            prob\n",
              "--------------------------------------------------------------------------------\n",
              "const                -0.068425         0.061980           -1.104           0.270\n",
              "L1.HS                -0.001774         0.122518           -0.014           0.988\n",
              "L1.Stock_fall        -0.786143         0.149575           -5.256           0.000\n",
              "L2.HS                 0.143097         0.122015            1.173           0.241\n",
              "L2.Stock_fall        -0.186619         0.155422           -1.201           0.230\n",
              "================================================================================\n",
              "\n",
              "Correlation matrix of residuals\n",
              "                    HS  Stock_fall\n",
              "HS            1.000000    0.114488\n",
              "Stock_fall    0.114488    1.000000\n",
              "\n"
            ]
          },
          "metadata": {},
          "execution_count": 183
        }
      ]
    },
    {
      "cell_type": "code",
      "metadata": {
        "colab": {
          "base_uri": "https://localhost:8080/"
        },
        "id": "nN_-QKZblRHK",
        "outputId": "601895c7-b8e6-4b2b-af35-50929481d29f"
      },
      "source": [
        "# The Durbin Watson Test is a measure of autocorrelation in residuals from regression analysis\n",
        "# A value of 2.0 means that there is no autocorrelation detected in the residuals\n",
        "\n",
        "from statsmodels.stats.stattools import durbin_watson\n",
        "\n",
        "out = durbin_watson(results.resid)\n",
        "\n",
        "for col, val in zip(df.columns, out):\n",
        "    print(col, ':', round(val, 2))  \n",
        "\n",
        "# If within the range of 1.5 and 2.5, we would consider autocorrelation not to be problematic in this regression model "
      ],
      "execution_count": null,
      "outputs": [
        {
          "output_type": "stream",
          "text": [
            "HS : 1.89\n",
            "Stock_fall : 2.19\n"
          ],
          "name": "stdout"
        }
      ]
    },
    {
      "cell_type": "code",
      "metadata": {
        "colab": {
          "base_uri": "https://localhost:8080/",
          "height": 283
        },
        "id": "UNdVQ89AlRXt",
        "outputId": "2d661fcd-0167-458c-e949-49e4e6cb187c"
      },
      "source": [
        "# Plotting autocorrelation plot for residuals\n",
        "import matplotlib.pyplot as plt\n",
        "  \n",
        "# Creating Autocorrelation plot\n",
        "x = pd.plotting.autocorrelation_plot(results.resid)\n",
        "x.plot()\n",
        "plt.show()"
      ],
      "execution_count": null,
      "outputs": [
        {
          "output_type": "display_data",
          "data": {
            "image/png": "[encoded data removed]",
            "text/plain": [
              "<Figure size 432x288 with 1 Axes>"
            ]
          },
          "metadata": {
            "needs_background": "light"
          }
        }
      ]
    },
    {
      "cell_type": "code",
      "metadata": {
        "colab": {
          "base_uri": "https://localhost:8080/",
          "height": 110
        },
        "id": "hCkXFm3QlRjy",
        "outputId": "709a1e44-6319-40c2-8e4a-eafd1ada7374"
      },
      "source": [
        "# Granger Causality\n",
        "\n",
        "from statsmodels.tsa.stattools import grangercausalitytests\n",
        "\n",
        "maxlag = 3 # Same maxlag val as b4\n",
        "test = 'ssr_chi2test'\n",
        "\n",
        "def grangers_causation_matrix(data, variables, test='ssr_chi2test', verbose=False):    \n",
        "   \n",
        "    df = pd.DataFrame(np.zeros((len(variables), len(variables))), columns=variables, index=variables)\n",
        "    for c in df.columns:\n",
        "        for r in df.index:\n",
        "            test_result = grangercausalitytests(data[[r, c]], maxlag=maxlag, verbose=False)\n",
        "            p_values = [round(test_result[i+1][0][test][1],4) for i in range(maxlag)]\n",
        "            if verbose: print(f'Y = {r}, X = {c}, P Values = {p_values}')\n",
        "            min_p_value = np.min(p_values)\n",
        "            df.loc[r, c] = min_p_value\n",
        "    df.columns = [var + '_x' for var in variables]\n",
        "    df.index = [var + '_y' for var in variables]\n",
        "    return df\n",
        "\n",
        "grangers_causation_matrix(df_train_transformed, variables = df_train_transformed.columns)"
      ],
      "execution_count": null,
      "outputs": [
        {
          "output_type": "execute_result",
          "data": {
            "text/html": [
              "<div>\n",
              "<style scoped>\n",
              "    .dataframe tbody tr th:only-of-type {\n",
              "        vertical-align: middle;\n",
              "    }\n",
              "\n",
              "    .dataframe tbody tr th {\n",
              "        vertical-align: top;\n",
              "    }\n",
              "\n",
              "    .dataframe thead th {\n",
              "        text-align: right;\n",
              "    }\n",
              "</style>\n",
              "<table border=\"1\" class=\"dataframe\">\n",
              "  <thead>\n",
              "    <tr style=\"text-align: right;\">\n",
              "      <th></th>\n",
              "      <th>HS_x</th>\n",
              "      <th>Stock_fall_x</th>\n",
              "    </tr>\n",
              "  </thead>\n",
              "  <tbody>\n",
              "    <tr>\n",
              "      <th>HS_y</th>\n",
              "      <td>1.0000</td>\n",
              "      <td>0.1193</td>\n",
              "    </tr>\n",
              "    <tr>\n",
              "      <th>Stock_fall_y</th>\n",
              "      <td>0.2949</td>\n",
              "      <td>1.0000</td>\n",
              "    </tr>\n",
              "  </tbody>\n",
              "</table>\n",
              "</div>"
            ],
            "text/plain": [
              "                HS_x  Stock_fall_x\n",
              "HS_y          1.0000        0.1193\n",
              "Stock_fall_y  0.2949        1.0000"
            ]
          },
          "metadata": {},
          "execution_count": 186
        }
      ]
    },
    {
      "cell_type": "code",
      "metadata": {
        "id": "EEIKddmSlfob"
      },
      "source": [
        "lag_order = results.k_ar\n",
        "\n",
        "df_input = df_train_transformed.values[-lag_order:]\n",
        "df_forecast = results.forecast(y=df_input, steps=n_obs)\n",
        "df_forecast = (pd.DataFrame(df_forecast, index=df_test.index, columns=df_test.columns + '_pred'))\n",
        "\n",
        "def invert_transformation(df, pred):\n",
        "    forecast = df_forecast.copy()\n",
        "    columns = df.columns\n",
        "    for col in columns:\n",
        "        forecast[str(col)+'_pred'] = df[col].iloc[-1] + forecast[str(col)+'_pred'].cumsum()\n",
        "    return forecast\n",
        "output = invert_transformation(df_train, df_forecast)\n",
        "\n",
        "combined = pd.concat([output['HS_pred'], df_test['HS'], output['Stock_fall_pred'], df_test['Stock_fall']], axis=1)\n"
      ],
      "execution_count": null,
      "outputs": []
    },
    {
      "cell_type": "code",
      "metadata": {
        "colab": {
          "base_uri": "https://localhost:8080/"
        },
        "id": "14o3MCx_lSCa",
        "outputId": "f5ac113a-b5f8-4fee-ba5c-a4f7d423e083"
      },
      "source": [
        "from sklearn.metrics import mean_squared_error\n",
        "from sklearn.metrics import mean_absolute_error\n",
        "\n",
        "\n",
        "rmse = mean_squared_error(combined['HS_pred'], combined['HS'], squared=False)\n",
        "mae = mean_absolute_error(combined['HS_pred'], combined['HS'])\n",
        "\n",
        "print('Forecast accuracy of Hate')\n",
        "print('RMSE: ', round(rmse,2))\n",
        "print('MAE: ', round(mae,2))\n",
        "\n",
        "rmse = mean_squared_error(combined['Stock_fall_pred'], combined['Stock_fall'], squared=False)\n",
        "mae = mean_absolute_error(combined['Stock_fall_pred'], combined['Stock_fall'])\n",
        "\n",
        "print('Forecast accuracy of Stock')\n",
        "print('RMSE: ', round(rmse,2))\n",
        "print('MAE: ', round(mae,2))"
      ],
      "execution_count": null,
      "outputs": [
        {
          "output_type": "stream",
          "text": [
            "Forecast accuracy of Hate\n",
            "RMSE:  19.24\n",
            "MAE:  16.61\n",
            "Forecast accuracy of Stock\n",
            "RMSE:  1.37\n",
            "MAE:  1.3\n"
          ],
          "name": "stdout"
        }
      ]
    }
  ]
}